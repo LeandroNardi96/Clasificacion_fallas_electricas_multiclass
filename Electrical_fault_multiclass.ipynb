{
 "cells": [
  {
   "cell_type": "code",
   "execution_count": 541,
   "id": "61dbd243",
   "metadata": {},
   "outputs": [],
   "source": [
    "import numpy as np\n",
    "import pandas as pd\n",
    "import seaborn as sns\n",
    "import matplotlib.pyplot as plt\n",
    "import seaborn as sns"
   ]
  },
  {
   "cell_type": "code",
   "execution_count": 542,
   "id": "ab1fa73d",
   "metadata": {},
   "outputs": [
    {
     "data": {
      "text/html": [
       "<div>\n",
       "<style scoped>\n",
       "    .dataframe tbody tr th:only-of-type {\n",
       "        vertical-align: middle;\n",
       "    }\n",
       "\n",
       "    .dataframe tbody tr th {\n",
       "        vertical-align: top;\n",
       "    }\n",
       "\n",
       "    .dataframe thead th {\n",
       "        text-align: right;\n",
       "    }\n",
       "</style>\n",
       "<table border=\"1\" class=\"dataframe\">\n",
       "  <thead>\n",
       "    <tr style=\"text-align: right;\">\n",
       "      <th></th>\n",
       "      <th>G</th>\n",
       "      <th>C</th>\n",
       "      <th>B</th>\n",
       "      <th>A</th>\n",
       "      <th>Ia</th>\n",
       "      <th>Ib</th>\n",
       "      <th>Ic</th>\n",
       "      <th>Va</th>\n",
       "      <th>Vb</th>\n",
       "      <th>Vc</th>\n",
       "    </tr>\n",
       "  </thead>\n",
       "  <tbody>\n",
       "    <tr>\n",
       "      <th>0</th>\n",
       "      <td>1</td>\n",
       "      <td>0</td>\n",
       "      <td>0</td>\n",
       "      <td>1</td>\n",
       "      <td>-151.291812</td>\n",
       "      <td>-9.677452</td>\n",
       "      <td>85.800162</td>\n",
       "      <td>0.400750</td>\n",
       "      <td>-0.132935</td>\n",
       "      <td>-0.267815</td>\n",
       "    </tr>\n",
       "    <tr>\n",
       "      <th>1</th>\n",
       "      <td>1</td>\n",
       "      <td>0</td>\n",
       "      <td>0</td>\n",
       "      <td>1</td>\n",
       "      <td>-336.186183</td>\n",
       "      <td>-76.283262</td>\n",
       "      <td>18.328897</td>\n",
       "      <td>0.312732</td>\n",
       "      <td>-0.123633</td>\n",
       "      <td>-0.189099</td>\n",
       "    </tr>\n",
       "    <tr>\n",
       "      <th>2</th>\n",
       "      <td>1</td>\n",
       "      <td>0</td>\n",
       "      <td>0</td>\n",
       "      <td>1</td>\n",
       "      <td>-502.891583</td>\n",
       "      <td>-174.648023</td>\n",
       "      <td>-80.924663</td>\n",
       "      <td>0.265728</td>\n",
       "      <td>-0.114301</td>\n",
       "      <td>-0.151428</td>\n",
       "    </tr>\n",
       "    <tr>\n",
       "      <th>3</th>\n",
       "      <td>1</td>\n",
       "      <td>0</td>\n",
       "      <td>0</td>\n",
       "      <td>1</td>\n",
       "      <td>-593.941905</td>\n",
       "      <td>-217.703359</td>\n",
       "      <td>-124.891924</td>\n",
       "      <td>0.235511</td>\n",
       "      <td>-0.104940</td>\n",
       "      <td>-0.130570</td>\n",
       "    </tr>\n",
       "    <tr>\n",
       "      <th>4</th>\n",
       "      <td>1</td>\n",
       "      <td>0</td>\n",
       "      <td>0</td>\n",
       "      <td>1</td>\n",
       "      <td>-643.663617</td>\n",
       "      <td>-224.159427</td>\n",
       "      <td>-132.282815</td>\n",
       "      <td>0.209537</td>\n",
       "      <td>-0.095554</td>\n",
       "      <td>-0.113983</td>\n",
       "    </tr>\n",
       "    <tr>\n",
       "      <th>...</th>\n",
       "      <td>...</td>\n",
       "      <td>...</td>\n",
       "      <td>...</td>\n",
       "      <td>...</td>\n",
       "      <td>...</td>\n",
       "      <td>...</td>\n",
       "      <td>...</td>\n",
       "      <td>...</td>\n",
       "      <td>...</td>\n",
       "      <td>...</td>\n",
       "    </tr>\n",
       "    <tr>\n",
       "      <th>7856</th>\n",
       "      <td>0</td>\n",
       "      <td>0</td>\n",
       "      <td>0</td>\n",
       "      <td>0</td>\n",
       "      <td>-66.237921</td>\n",
       "      <td>38.457041</td>\n",
       "      <td>24.912239</td>\n",
       "      <td>0.094421</td>\n",
       "      <td>-0.552019</td>\n",
       "      <td>0.457598</td>\n",
       "    </tr>\n",
       "    <tr>\n",
       "      <th>7857</th>\n",
       "      <td>0</td>\n",
       "      <td>0</td>\n",
       "      <td>0</td>\n",
       "      <td>0</td>\n",
       "      <td>-65.849493</td>\n",
       "      <td>37.465454</td>\n",
       "      <td>25.515675</td>\n",
       "      <td>0.103778</td>\n",
       "      <td>-0.555186</td>\n",
       "      <td>0.451407</td>\n",
       "    </tr>\n",
       "    <tr>\n",
       "      <th>7858</th>\n",
       "      <td>0</td>\n",
       "      <td>0</td>\n",
       "      <td>0</td>\n",
       "      <td>0</td>\n",
       "      <td>-65.446698</td>\n",
       "      <td>36.472055</td>\n",
       "      <td>26.106554</td>\n",
       "      <td>0.113107</td>\n",
       "      <td>-0.558211</td>\n",
       "      <td>0.445104</td>\n",
       "    </tr>\n",
       "    <tr>\n",
       "      <th>7859</th>\n",
       "      <td>0</td>\n",
       "      <td>0</td>\n",
       "      <td>0</td>\n",
       "      <td>0</td>\n",
       "      <td>-65.029633</td>\n",
       "      <td>35.477088</td>\n",
       "      <td>26.684731</td>\n",
       "      <td>0.122404</td>\n",
       "      <td>-0.561094</td>\n",
       "      <td>0.438690</td>\n",
       "    </tr>\n",
       "    <tr>\n",
       "      <th>7860</th>\n",
       "      <td>0</td>\n",
       "      <td>0</td>\n",
       "      <td>0</td>\n",
       "      <td>0</td>\n",
       "      <td>-64.598401</td>\n",
       "      <td>34.480799</td>\n",
       "      <td>27.250065</td>\n",
       "      <td>0.131669</td>\n",
       "      <td>-0.563835</td>\n",
       "      <td>0.432166</td>\n",
       "    </tr>\n",
       "  </tbody>\n",
       "</table>\n",
       "<p>7861 rows × 10 columns</p>\n",
       "</div>"
      ],
      "text/plain": [
       "      G  C  B  A          Ia          Ib          Ic        Va        Vb  \\\n",
       "0     1  0  0  1 -151.291812   -9.677452   85.800162  0.400750 -0.132935   \n",
       "1     1  0  0  1 -336.186183  -76.283262   18.328897  0.312732 -0.123633   \n",
       "2     1  0  0  1 -502.891583 -174.648023  -80.924663  0.265728 -0.114301   \n",
       "3     1  0  0  1 -593.941905 -217.703359 -124.891924  0.235511 -0.104940   \n",
       "4     1  0  0  1 -643.663617 -224.159427 -132.282815  0.209537 -0.095554   \n",
       "...  .. .. .. ..         ...         ...         ...       ...       ...   \n",
       "7856  0  0  0  0  -66.237921   38.457041   24.912239  0.094421 -0.552019   \n",
       "7857  0  0  0  0  -65.849493   37.465454   25.515675  0.103778 -0.555186   \n",
       "7858  0  0  0  0  -65.446698   36.472055   26.106554  0.113107 -0.558211   \n",
       "7859  0  0  0  0  -65.029633   35.477088   26.684731  0.122404 -0.561094   \n",
       "7860  0  0  0  0  -64.598401   34.480799   27.250065  0.131669 -0.563835   \n",
       "\n",
       "            Vc  \n",
       "0    -0.267815  \n",
       "1    -0.189099  \n",
       "2    -0.151428  \n",
       "3    -0.130570  \n",
       "4    -0.113983  \n",
       "...        ...  \n",
       "7856  0.457598  \n",
       "7857  0.451407  \n",
       "7858  0.445104  \n",
       "7859  0.438690  \n",
       "7860  0.432166  \n",
       "\n",
       "[7861 rows x 10 columns]"
      ]
     },
     "execution_count": 542,
     "metadata": {},
     "output_type": "execute_result"
    }
   ],
   "source": [
    "data = pd.read_csv('classData.csv')\n",
    "data"
   ]
  },
  {
   "cell_type": "code",
   "execution_count": 543,
   "id": "a8e319db",
   "metadata": {},
   "outputs": [
    {
     "data": {
      "text/plain": [
       "G     0\n",
       "C     0\n",
       "B     0\n",
       "A     0\n",
       "Ia    0\n",
       "Ib    0\n",
       "Ic    0\n",
       "Va    0\n",
       "Vb    0\n",
       "Vc    0\n",
       "dtype: int64"
      ]
     },
     "execution_count": 543,
     "metadata": {},
     "output_type": "execute_result"
    }
   ],
   "source": [
    "data_null = data.isnull().sum()\n",
    "data_null"
   ]
  },
  {
   "cell_type": "code",
   "execution_count": 544,
   "id": "74a9eb77",
   "metadata": {},
   "outputs": [
    {
     "name": "stdout",
     "output_type": "stream",
     "text": [
      "   G  C  B  A\n",
      "0  1  0  0  1\n"
     ]
    },
    {
     "data": {
      "text/plain": [
       "0    1\n",
       "Name: A, dtype: int64"
      ]
     },
     "execution_count": 544,
     "metadata": {},
     "output_type": "execute_result"
    }
   ],
   "source": [
    "prueba = data.loc[:,['G','C','B','A']]\n",
    "hola = prueba.sample(10)\n",
    "print(prueba.iloc[0:1])\n",
    "prueba.iloc[0:1,3]"
   ]
  },
  {
   "cell_type": "code",
   "execution_count": 545,
   "id": "4c5c684a",
   "metadata": {},
   "outputs": [],
   "source": [
    "def clasifier_fault(data):\n",
    "    target = []\n",
    "    for i in range(0,len(data)):\n",
    "        c = data.iloc[i:int(i+1)].to_numpy().flatten()\n",
    "        if c[0] == 0 and c[1] == 0 and c[2]==0 and c[3]==0:\n",
    "            target.append(0)\n",
    "        elif c[0] == 0 and c[1] == 1 and c[2]==1 and c[3]==0: \n",
    "             target.append(1)\n",
    "        elif c[0] == 0 and c[1] == 1 and c[2]==1 and c[3]==1: \n",
    "             target.append(2)\n",
    "        elif c[0] == 1 and c[1] == 0 and c[2]==0 and c[3]==1: \n",
    "             target.append(3)\n",
    "        elif c[0] == 1 and c[1] == 0 and c[2]==1 and c[3]==1: \n",
    "             target.append(4)\n",
    "        elif c[0] == 1 and c[1] == 1 and c[2]==1 and c[3]==1: \n",
    "             target.append(5)\n",
    "    return target"
   ]
  },
  {
   "cell_type": "code",
   "execution_count": 546,
   "id": "0eccc38e",
   "metadata": {},
   "outputs": [
    {
     "data": {
      "text/html": [
       "<div>\n",
       "<style scoped>\n",
       "    .dataframe tbody tr th:only-of-type {\n",
       "        vertical-align: middle;\n",
       "    }\n",
       "\n",
       "    .dataframe tbody tr th {\n",
       "        vertical-align: top;\n",
       "    }\n",
       "\n",
       "    .dataframe thead th {\n",
       "        text-align: right;\n",
       "    }\n",
       "</style>\n",
       "<table border=\"1\" class=\"dataframe\">\n",
       "  <thead>\n",
       "    <tr style=\"text-align: right;\">\n",
       "      <th></th>\n",
       "      <th>G</th>\n",
       "      <th>C</th>\n",
       "      <th>B</th>\n",
       "      <th>A</th>\n",
       "      <th>Ia</th>\n",
       "      <th>Ib</th>\n",
       "      <th>Ic</th>\n",
       "      <th>Va</th>\n",
       "      <th>Vb</th>\n",
       "      <th>Vc</th>\n",
       "      <th>target</th>\n",
       "    </tr>\n",
       "  </thead>\n",
       "  <tbody>\n",
       "    <tr>\n",
       "      <th>0</th>\n",
       "      <td>1</td>\n",
       "      <td>0</td>\n",
       "      <td>0</td>\n",
       "      <td>1</td>\n",
       "      <td>-151.291812</td>\n",
       "      <td>-9.677452</td>\n",
       "      <td>85.800162</td>\n",
       "      <td>0.400750</td>\n",
       "      <td>-0.132935</td>\n",
       "      <td>-0.267815</td>\n",
       "      <td>3</td>\n",
       "    </tr>\n",
       "    <tr>\n",
       "      <th>1</th>\n",
       "      <td>1</td>\n",
       "      <td>0</td>\n",
       "      <td>0</td>\n",
       "      <td>1</td>\n",
       "      <td>-336.186183</td>\n",
       "      <td>-76.283262</td>\n",
       "      <td>18.328897</td>\n",
       "      <td>0.312732</td>\n",
       "      <td>-0.123633</td>\n",
       "      <td>-0.189099</td>\n",
       "      <td>3</td>\n",
       "    </tr>\n",
       "    <tr>\n",
       "      <th>2</th>\n",
       "      <td>1</td>\n",
       "      <td>0</td>\n",
       "      <td>0</td>\n",
       "      <td>1</td>\n",
       "      <td>-502.891583</td>\n",
       "      <td>-174.648023</td>\n",
       "      <td>-80.924663</td>\n",
       "      <td>0.265728</td>\n",
       "      <td>-0.114301</td>\n",
       "      <td>-0.151428</td>\n",
       "      <td>3</td>\n",
       "    </tr>\n",
       "    <tr>\n",
       "      <th>3</th>\n",
       "      <td>1</td>\n",
       "      <td>0</td>\n",
       "      <td>0</td>\n",
       "      <td>1</td>\n",
       "      <td>-593.941905</td>\n",
       "      <td>-217.703359</td>\n",
       "      <td>-124.891924</td>\n",
       "      <td>0.235511</td>\n",
       "      <td>-0.104940</td>\n",
       "      <td>-0.130570</td>\n",
       "      <td>3</td>\n",
       "    </tr>\n",
       "    <tr>\n",
       "      <th>4</th>\n",
       "      <td>1</td>\n",
       "      <td>0</td>\n",
       "      <td>0</td>\n",
       "      <td>1</td>\n",
       "      <td>-643.663617</td>\n",
       "      <td>-224.159427</td>\n",
       "      <td>-132.282815</td>\n",
       "      <td>0.209537</td>\n",
       "      <td>-0.095554</td>\n",
       "      <td>-0.113983</td>\n",
       "      <td>3</td>\n",
       "    </tr>\n",
       "    <tr>\n",
       "      <th>...</th>\n",
       "      <td>...</td>\n",
       "      <td>...</td>\n",
       "      <td>...</td>\n",
       "      <td>...</td>\n",
       "      <td>...</td>\n",
       "      <td>...</td>\n",
       "      <td>...</td>\n",
       "      <td>...</td>\n",
       "      <td>...</td>\n",
       "      <td>...</td>\n",
       "      <td>...</td>\n",
       "    </tr>\n",
       "    <tr>\n",
       "      <th>7856</th>\n",
       "      <td>0</td>\n",
       "      <td>0</td>\n",
       "      <td>0</td>\n",
       "      <td>0</td>\n",
       "      <td>-66.237921</td>\n",
       "      <td>38.457041</td>\n",
       "      <td>24.912239</td>\n",
       "      <td>0.094421</td>\n",
       "      <td>-0.552019</td>\n",
       "      <td>0.457598</td>\n",
       "      <td>0</td>\n",
       "    </tr>\n",
       "    <tr>\n",
       "      <th>7857</th>\n",
       "      <td>0</td>\n",
       "      <td>0</td>\n",
       "      <td>0</td>\n",
       "      <td>0</td>\n",
       "      <td>-65.849493</td>\n",
       "      <td>37.465454</td>\n",
       "      <td>25.515675</td>\n",
       "      <td>0.103778</td>\n",
       "      <td>-0.555186</td>\n",
       "      <td>0.451407</td>\n",
       "      <td>0</td>\n",
       "    </tr>\n",
       "    <tr>\n",
       "      <th>7858</th>\n",
       "      <td>0</td>\n",
       "      <td>0</td>\n",
       "      <td>0</td>\n",
       "      <td>0</td>\n",
       "      <td>-65.446698</td>\n",
       "      <td>36.472055</td>\n",
       "      <td>26.106554</td>\n",
       "      <td>0.113107</td>\n",
       "      <td>-0.558211</td>\n",
       "      <td>0.445104</td>\n",
       "      <td>0</td>\n",
       "    </tr>\n",
       "    <tr>\n",
       "      <th>7859</th>\n",
       "      <td>0</td>\n",
       "      <td>0</td>\n",
       "      <td>0</td>\n",
       "      <td>0</td>\n",
       "      <td>-65.029633</td>\n",
       "      <td>35.477088</td>\n",
       "      <td>26.684731</td>\n",
       "      <td>0.122404</td>\n",
       "      <td>-0.561094</td>\n",
       "      <td>0.438690</td>\n",
       "      <td>0</td>\n",
       "    </tr>\n",
       "    <tr>\n",
       "      <th>7860</th>\n",
       "      <td>0</td>\n",
       "      <td>0</td>\n",
       "      <td>0</td>\n",
       "      <td>0</td>\n",
       "      <td>-64.598401</td>\n",
       "      <td>34.480799</td>\n",
       "      <td>27.250065</td>\n",
       "      <td>0.131669</td>\n",
       "      <td>-0.563835</td>\n",
       "      <td>0.432166</td>\n",
       "      <td>0</td>\n",
       "    </tr>\n",
       "  </tbody>\n",
       "</table>\n",
       "<p>7861 rows × 11 columns</p>\n",
       "</div>"
      ],
      "text/plain": [
       "      G  C  B  A          Ia          Ib          Ic        Va        Vb  \\\n",
       "0     1  0  0  1 -151.291812   -9.677452   85.800162  0.400750 -0.132935   \n",
       "1     1  0  0  1 -336.186183  -76.283262   18.328897  0.312732 -0.123633   \n",
       "2     1  0  0  1 -502.891583 -174.648023  -80.924663  0.265728 -0.114301   \n",
       "3     1  0  0  1 -593.941905 -217.703359 -124.891924  0.235511 -0.104940   \n",
       "4     1  0  0  1 -643.663617 -224.159427 -132.282815  0.209537 -0.095554   \n",
       "...  .. .. .. ..         ...         ...         ...       ...       ...   \n",
       "7856  0  0  0  0  -66.237921   38.457041   24.912239  0.094421 -0.552019   \n",
       "7857  0  0  0  0  -65.849493   37.465454   25.515675  0.103778 -0.555186   \n",
       "7858  0  0  0  0  -65.446698   36.472055   26.106554  0.113107 -0.558211   \n",
       "7859  0  0  0  0  -65.029633   35.477088   26.684731  0.122404 -0.561094   \n",
       "7860  0  0  0  0  -64.598401   34.480799   27.250065  0.131669 -0.563835   \n",
       "\n",
       "            Vc  target  \n",
       "0    -0.267815       3  \n",
       "1    -0.189099       3  \n",
       "2    -0.151428       3  \n",
       "3    -0.130570       3  \n",
       "4    -0.113983       3  \n",
       "...        ...     ...  \n",
       "7856  0.457598       0  \n",
       "7857  0.451407       0  \n",
       "7858  0.445104       0  \n",
       "7859  0.438690       0  \n",
       "7860  0.432166       0  \n",
       "\n",
       "[7861 rows x 11 columns]"
      ]
     },
     "execution_count": 546,
     "metadata": {},
     "output_type": "execute_result"
    }
   ],
   "source": [
    "df = data.loc[:,['G','C','B','A']]\n",
    "target = clasifier_fault(df)\n",
    "data['target'] = target\n",
    "data"
   ]
  },
  {
   "cell_type": "code",
   "execution_count": 547,
   "id": "1bc172ae",
   "metadata": {},
   "outputs": [],
   "source": [
    "def falla(data):\n",
    "    target = []\n",
    "    if data == 0:\n",
    "        target.append('No hay falla')\n",
    "    elif data == 1:\n",
    "        target.append('Falla entre fase A y fase B')\n",
    "    elif data == 2:\n",
    "        target.append('Falla en todas las fases')\n",
    "    elif data == 3:\n",
    "        target.append('Falla entre fase A y tierra')\n",
    "    elif data == 4:\n",
    "        target.append('Falla entre fase A,B y tierra')\n",
    "    elif data == 5:\n",
    "        target.append('Falla entre todas las fases y tierra')\n",
    "    return target"
   ]
  },
  {
   "cell_type": "code",
   "execution_count": 548,
   "id": "bb67808f",
   "metadata": {},
   "outputs": [
    {
     "data": {
      "text/html": [
       "<div>\n",
       "<style scoped>\n",
       "    .dataframe tbody tr th:only-of-type {\n",
       "        vertical-align: middle;\n",
       "    }\n",
       "\n",
       "    .dataframe tbody tr th {\n",
       "        vertical-align: top;\n",
       "    }\n",
       "\n",
       "    .dataframe thead th {\n",
       "        text-align: right;\n",
       "    }\n",
       "</style>\n",
       "<table border=\"1\" class=\"dataframe\">\n",
       "  <thead>\n",
       "    <tr style=\"text-align: right;\">\n",
       "      <th></th>\n",
       "      <th>G</th>\n",
       "      <th>C</th>\n",
       "      <th>B</th>\n",
       "      <th>A</th>\n",
       "      <th>Ia</th>\n",
       "      <th>Ib</th>\n",
       "      <th>Ic</th>\n",
       "      <th>Va</th>\n",
       "      <th>Vb</th>\n",
       "      <th>Vc</th>\n",
       "      <th>target</th>\n",
       "      <th>falla</th>\n",
       "    </tr>\n",
       "  </thead>\n",
       "  <tbody>\n",
       "    <tr>\n",
       "      <th>0</th>\n",
       "      <td>1</td>\n",
       "      <td>0</td>\n",
       "      <td>0</td>\n",
       "      <td>1</td>\n",
       "      <td>-151.291812</td>\n",
       "      <td>-9.677452</td>\n",
       "      <td>85.800162</td>\n",
       "      <td>0.400750</td>\n",
       "      <td>-0.132935</td>\n",
       "      <td>-0.267815</td>\n",
       "      <td>3</td>\n",
       "      <td>Falla entre fase A y tierra</td>\n",
       "    </tr>\n",
       "    <tr>\n",
       "      <th>1</th>\n",
       "      <td>1</td>\n",
       "      <td>0</td>\n",
       "      <td>0</td>\n",
       "      <td>1</td>\n",
       "      <td>-336.186183</td>\n",
       "      <td>-76.283262</td>\n",
       "      <td>18.328897</td>\n",
       "      <td>0.312732</td>\n",
       "      <td>-0.123633</td>\n",
       "      <td>-0.189099</td>\n",
       "      <td>3</td>\n",
       "      <td>Falla entre fase A y tierra</td>\n",
       "    </tr>\n",
       "    <tr>\n",
       "      <th>2</th>\n",
       "      <td>1</td>\n",
       "      <td>0</td>\n",
       "      <td>0</td>\n",
       "      <td>1</td>\n",
       "      <td>-502.891583</td>\n",
       "      <td>-174.648023</td>\n",
       "      <td>-80.924663</td>\n",
       "      <td>0.265728</td>\n",
       "      <td>-0.114301</td>\n",
       "      <td>-0.151428</td>\n",
       "      <td>3</td>\n",
       "      <td>Falla entre fase A y tierra</td>\n",
       "    </tr>\n",
       "    <tr>\n",
       "      <th>3</th>\n",
       "      <td>1</td>\n",
       "      <td>0</td>\n",
       "      <td>0</td>\n",
       "      <td>1</td>\n",
       "      <td>-593.941905</td>\n",
       "      <td>-217.703359</td>\n",
       "      <td>-124.891924</td>\n",
       "      <td>0.235511</td>\n",
       "      <td>-0.104940</td>\n",
       "      <td>-0.130570</td>\n",
       "      <td>3</td>\n",
       "      <td>Falla entre fase A y tierra</td>\n",
       "    </tr>\n",
       "    <tr>\n",
       "      <th>4</th>\n",
       "      <td>1</td>\n",
       "      <td>0</td>\n",
       "      <td>0</td>\n",
       "      <td>1</td>\n",
       "      <td>-643.663617</td>\n",
       "      <td>-224.159427</td>\n",
       "      <td>-132.282815</td>\n",
       "      <td>0.209537</td>\n",
       "      <td>-0.095554</td>\n",
       "      <td>-0.113983</td>\n",
       "      <td>3</td>\n",
       "      <td>Falla entre fase A y tierra</td>\n",
       "    </tr>\n",
       "    <tr>\n",
       "      <th>...</th>\n",
       "      <td>...</td>\n",
       "      <td>...</td>\n",
       "      <td>...</td>\n",
       "      <td>...</td>\n",
       "      <td>...</td>\n",
       "      <td>...</td>\n",
       "      <td>...</td>\n",
       "      <td>...</td>\n",
       "      <td>...</td>\n",
       "      <td>...</td>\n",
       "      <td>...</td>\n",
       "      <td>...</td>\n",
       "    </tr>\n",
       "    <tr>\n",
       "      <th>7856</th>\n",
       "      <td>0</td>\n",
       "      <td>0</td>\n",
       "      <td>0</td>\n",
       "      <td>0</td>\n",
       "      <td>-66.237921</td>\n",
       "      <td>38.457041</td>\n",
       "      <td>24.912239</td>\n",
       "      <td>0.094421</td>\n",
       "      <td>-0.552019</td>\n",
       "      <td>0.457598</td>\n",
       "      <td>0</td>\n",
       "      <td>No hay falla</td>\n",
       "    </tr>\n",
       "    <tr>\n",
       "      <th>7857</th>\n",
       "      <td>0</td>\n",
       "      <td>0</td>\n",
       "      <td>0</td>\n",
       "      <td>0</td>\n",
       "      <td>-65.849493</td>\n",
       "      <td>37.465454</td>\n",
       "      <td>25.515675</td>\n",
       "      <td>0.103778</td>\n",
       "      <td>-0.555186</td>\n",
       "      <td>0.451407</td>\n",
       "      <td>0</td>\n",
       "      <td>No hay falla</td>\n",
       "    </tr>\n",
       "    <tr>\n",
       "      <th>7858</th>\n",
       "      <td>0</td>\n",
       "      <td>0</td>\n",
       "      <td>0</td>\n",
       "      <td>0</td>\n",
       "      <td>-65.446698</td>\n",
       "      <td>36.472055</td>\n",
       "      <td>26.106554</td>\n",
       "      <td>0.113107</td>\n",
       "      <td>-0.558211</td>\n",
       "      <td>0.445104</td>\n",
       "      <td>0</td>\n",
       "      <td>No hay falla</td>\n",
       "    </tr>\n",
       "    <tr>\n",
       "      <th>7859</th>\n",
       "      <td>0</td>\n",
       "      <td>0</td>\n",
       "      <td>0</td>\n",
       "      <td>0</td>\n",
       "      <td>-65.029633</td>\n",
       "      <td>35.477088</td>\n",
       "      <td>26.684731</td>\n",
       "      <td>0.122404</td>\n",
       "      <td>-0.561094</td>\n",
       "      <td>0.438690</td>\n",
       "      <td>0</td>\n",
       "      <td>No hay falla</td>\n",
       "    </tr>\n",
       "    <tr>\n",
       "      <th>7860</th>\n",
       "      <td>0</td>\n",
       "      <td>0</td>\n",
       "      <td>0</td>\n",
       "      <td>0</td>\n",
       "      <td>-64.598401</td>\n",
       "      <td>34.480799</td>\n",
       "      <td>27.250065</td>\n",
       "      <td>0.131669</td>\n",
       "      <td>-0.563835</td>\n",
       "      <td>0.432166</td>\n",
       "      <td>0</td>\n",
       "      <td>No hay falla</td>\n",
       "    </tr>\n",
       "  </tbody>\n",
       "</table>\n",
       "<p>7861 rows × 12 columns</p>\n",
       "</div>"
      ],
      "text/plain": [
       "      G  C  B  A          Ia          Ib          Ic        Va        Vb  \\\n",
       "0     1  0  0  1 -151.291812   -9.677452   85.800162  0.400750 -0.132935   \n",
       "1     1  0  0  1 -336.186183  -76.283262   18.328897  0.312732 -0.123633   \n",
       "2     1  0  0  1 -502.891583 -174.648023  -80.924663  0.265728 -0.114301   \n",
       "3     1  0  0  1 -593.941905 -217.703359 -124.891924  0.235511 -0.104940   \n",
       "4     1  0  0  1 -643.663617 -224.159427 -132.282815  0.209537 -0.095554   \n",
       "...  .. .. .. ..         ...         ...         ...       ...       ...   \n",
       "7856  0  0  0  0  -66.237921   38.457041   24.912239  0.094421 -0.552019   \n",
       "7857  0  0  0  0  -65.849493   37.465454   25.515675  0.103778 -0.555186   \n",
       "7858  0  0  0  0  -65.446698   36.472055   26.106554  0.113107 -0.558211   \n",
       "7859  0  0  0  0  -65.029633   35.477088   26.684731  0.122404 -0.561094   \n",
       "7860  0  0  0  0  -64.598401   34.480799   27.250065  0.131669 -0.563835   \n",
       "\n",
       "            Vc  target                        falla  \n",
       "0    -0.267815       3  Falla entre fase A y tierra  \n",
       "1    -0.189099       3  Falla entre fase A y tierra  \n",
       "2    -0.151428       3  Falla entre fase A y tierra  \n",
       "3    -0.130570       3  Falla entre fase A y tierra  \n",
       "4    -0.113983       3  Falla entre fase A y tierra  \n",
       "...        ...     ...                          ...  \n",
       "7856  0.457598       0                 No hay falla  \n",
       "7857  0.451407       0                 No hay falla  \n",
       "7858  0.445104       0                 No hay falla  \n",
       "7859  0.438690       0                 No hay falla  \n",
       "7860  0.432166       0                 No hay falla  \n",
       "\n",
       "[7861 rows x 12 columns]"
      ]
     },
     "execution_count": 548,
     "metadata": {},
     "output_type": "execute_result"
    }
   ],
   "source": [
    "data['falla'] = data.target.apply(lambda x: falla(x))\n",
    "data['falla'] = data.falla.apply(lambda x: x[0])\n",
    "data"
   ]
  },
  {
   "cell_type": "code",
   "execution_count": 549,
   "id": "823b9ed8",
   "metadata": {},
   "outputs": [
    {
     "data": {
      "text/html": [
       "<div>\n",
       "<style scoped>\n",
       "    .dataframe tbody tr th:only-of-type {\n",
       "        vertical-align: middle;\n",
       "    }\n",
       "\n",
       "    .dataframe tbody tr th {\n",
       "        vertical-align: top;\n",
       "    }\n",
       "\n",
       "    .dataframe thead th {\n",
       "        text-align: right;\n",
       "    }\n",
       "</style>\n",
       "<table border=\"1\" class=\"dataframe\">\n",
       "  <thead>\n",
       "    <tr style=\"text-align: right;\">\n",
       "      <th></th>\n",
       "      <th>Ia</th>\n",
       "    </tr>\n",
       "    <tr>\n",
       "      <th>target</th>\n",
       "      <th></th>\n",
       "    </tr>\n",
       "  </thead>\n",
       "  <tbody>\n",
       "    <tr>\n",
       "      <th>0</th>\n",
       "      <td>30.085231</td>\n",
       "    </tr>\n",
       "    <tr>\n",
       "      <th>1</th>\n",
       "      <td>12.771912</td>\n",
       "    </tr>\n",
       "    <tr>\n",
       "      <th>2</th>\n",
       "      <td>13.942247</td>\n",
       "    </tr>\n",
       "    <tr>\n",
       "      <th>3</th>\n",
       "      <td>14.362040</td>\n",
       "    </tr>\n",
       "    <tr>\n",
       "      <th>4</th>\n",
       "      <td>14.425646</td>\n",
       "    </tr>\n",
       "    <tr>\n",
       "      <th>5</th>\n",
       "      <td>14.412925</td>\n",
       "    </tr>\n",
       "  </tbody>\n",
       "</table>\n",
       "</div>"
      ],
      "text/plain": [
       "               Ia\n",
       "target           \n",
       "0       30.085231\n",
       "1       12.771912\n",
       "2       13.942247\n",
       "3       14.362040\n",
       "4       14.425646\n",
       "5       14.412925"
      ]
     },
     "execution_count": 549,
     "metadata": {},
     "output_type": "execute_result"
    }
   ],
   "source": [
    "data_bal = data.loc[:,['Ia','target']].groupby(['target']).count()\n",
    "data_bal = data_bal.apply(lambda x: x*100/data.shape[0])\n",
    "data_bal"
   ]
  },
  {
   "cell_type": "code",
   "execution_count": 550,
   "id": "7a7dff05",
   "metadata": {},
   "outputs": [
    {
     "data": {
      "text/html": [
       "<div>\n",
       "<style scoped>\n",
       "    .dataframe tbody tr th:only-of-type {\n",
       "        vertical-align: middle;\n",
       "    }\n",
       "\n",
       "    .dataframe tbody tr th {\n",
       "        vertical-align: top;\n",
       "    }\n",
       "\n",
       "    .dataframe thead th {\n",
       "        text-align: right;\n",
       "    }\n",
       "</style>\n",
       "<table border=\"1\" class=\"dataframe\">\n",
       "  <thead>\n",
       "    <tr style=\"text-align: right;\">\n",
       "      <th></th>\n",
       "      <th>Ia</th>\n",
       "    </tr>\n",
       "    <tr>\n",
       "      <th>falla</th>\n",
       "      <th></th>\n",
       "    </tr>\n",
       "  </thead>\n",
       "  <tbody>\n",
       "    <tr>\n",
       "      <th>Falla en todas las fases</th>\n",
       "      <td>13.942247</td>\n",
       "    </tr>\n",
       "    <tr>\n",
       "      <th>Falla entre fase A y fase B</th>\n",
       "      <td>12.771912</td>\n",
       "    </tr>\n",
       "    <tr>\n",
       "      <th>Falla entre fase A y tierra</th>\n",
       "      <td>14.362040</td>\n",
       "    </tr>\n",
       "    <tr>\n",
       "      <th>Falla entre fase A,B y tierra</th>\n",
       "      <td>14.425646</td>\n",
       "    </tr>\n",
       "    <tr>\n",
       "      <th>Falla entre todas las fases y tierra</th>\n",
       "      <td>14.412925</td>\n",
       "    </tr>\n",
       "    <tr>\n",
       "      <th>No hay falla</th>\n",
       "      <td>30.085231</td>\n",
       "    </tr>\n",
       "  </tbody>\n",
       "</table>\n",
       "</div>"
      ],
      "text/plain": [
       "                                             Ia\n",
       "falla                                          \n",
       "Falla en todas las fases              13.942247\n",
       "Falla entre fase A y fase B           12.771912\n",
       "Falla entre fase A y tierra           14.362040\n",
       "Falla entre fase A,B y tierra         14.425646\n",
       "Falla entre todas las fases y tierra  14.412925\n",
       "No hay falla                          30.085231"
      ]
     },
     "execution_count": 550,
     "metadata": {},
     "output_type": "execute_result"
    }
   ],
   "source": [
    "data_bal = data.loc[:,['Ia','falla']].groupby(['falla']).count()\n",
    "data_bal = data_bal.apply(lambda x: x*100/data.shape[0])\n",
    "data_bal"
   ]
  },
  {
   "cell_type": "code",
   "execution_count": 551,
   "id": "f367bef0",
   "metadata": {},
   "outputs": [
    {
     "data": {
      "text/html": [
       "<div>\n",
       "<style scoped>\n",
       "    .dataframe tbody tr th:only-of-type {\n",
       "        vertical-align: middle;\n",
       "    }\n",
       "\n",
       "    .dataframe tbody tr th {\n",
       "        vertical-align: top;\n",
       "    }\n",
       "\n",
       "    .dataframe thead th {\n",
       "        text-align: right;\n",
       "    }\n",
       "</style>\n",
       "<table border=\"1\" class=\"dataframe\">\n",
       "  <thead>\n",
       "    <tr style=\"text-align: right;\">\n",
       "      <th></th>\n",
       "      <th>G</th>\n",
       "      <th>C</th>\n",
       "      <th>B</th>\n",
       "      <th>A</th>\n",
       "      <th>Ia</th>\n",
       "      <th>Ib</th>\n",
       "      <th>Ic</th>\n",
       "      <th>Va</th>\n",
       "      <th>Vb</th>\n",
       "      <th>Vc</th>\n",
       "      <th>target</th>\n",
       "      <th>falla</th>\n",
       "      <th>target_binaria</th>\n",
       "    </tr>\n",
       "  </thead>\n",
       "  <tbody>\n",
       "    <tr>\n",
       "      <th>0</th>\n",
       "      <td>1</td>\n",
       "      <td>0</td>\n",
       "      <td>0</td>\n",
       "      <td>1</td>\n",
       "      <td>-151.291812</td>\n",
       "      <td>-9.677452</td>\n",
       "      <td>85.800162</td>\n",
       "      <td>0.400750</td>\n",
       "      <td>-0.132935</td>\n",
       "      <td>-0.267815</td>\n",
       "      <td>3</td>\n",
       "      <td>Falla entre fase A y tierra</td>\n",
       "      <td>1</td>\n",
       "    </tr>\n",
       "    <tr>\n",
       "      <th>1</th>\n",
       "      <td>1</td>\n",
       "      <td>0</td>\n",
       "      <td>0</td>\n",
       "      <td>1</td>\n",
       "      <td>-336.186183</td>\n",
       "      <td>-76.283262</td>\n",
       "      <td>18.328897</td>\n",
       "      <td>0.312732</td>\n",
       "      <td>-0.123633</td>\n",
       "      <td>-0.189099</td>\n",
       "      <td>3</td>\n",
       "      <td>Falla entre fase A y tierra</td>\n",
       "      <td>1</td>\n",
       "    </tr>\n",
       "    <tr>\n",
       "      <th>2</th>\n",
       "      <td>1</td>\n",
       "      <td>0</td>\n",
       "      <td>0</td>\n",
       "      <td>1</td>\n",
       "      <td>-502.891583</td>\n",
       "      <td>-174.648023</td>\n",
       "      <td>-80.924663</td>\n",
       "      <td>0.265728</td>\n",
       "      <td>-0.114301</td>\n",
       "      <td>-0.151428</td>\n",
       "      <td>3</td>\n",
       "      <td>Falla entre fase A y tierra</td>\n",
       "      <td>1</td>\n",
       "    </tr>\n",
       "    <tr>\n",
       "      <th>3</th>\n",
       "      <td>1</td>\n",
       "      <td>0</td>\n",
       "      <td>0</td>\n",
       "      <td>1</td>\n",
       "      <td>-593.941905</td>\n",
       "      <td>-217.703359</td>\n",
       "      <td>-124.891924</td>\n",
       "      <td>0.235511</td>\n",
       "      <td>-0.104940</td>\n",
       "      <td>-0.130570</td>\n",
       "      <td>3</td>\n",
       "      <td>Falla entre fase A y tierra</td>\n",
       "      <td>1</td>\n",
       "    </tr>\n",
       "    <tr>\n",
       "      <th>4</th>\n",
       "      <td>1</td>\n",
       "      <td>0</td>\n",
       "      <td>0</td>\n",
       "      <td>1</td>\n",
       "      <td>-643.663617</td>\n",
       "      <td>-224.159427</td>\n",
       "      <td>-132.282815</td>\n",
       "      <td>0.209537</td>\n",
       "      <td>-0.095554</td>\n",
       "      <td>-0.113983</td>\n",
       "      <td>3</td>\n",
       "      <td>Falla entre fase A y tierra</td>\n",
       "      <td>1</td>\n",
       "    </tr>\n",
       "    <tr>\n",
       "      <th>...</th>\n",
       "      <td>...</td>\n",
       "      <td>...</td>\n",
       "      <td>...</td>\n",
       "      <td>...</td>\n",
       "      <td>...</td>\n",
       "      <td>...</td>\n",
       "      <td>...</td>\n",
       "      <td>...</td>\n",
       "      <td>...</td>\n",
       "      <td>...</td>\n",
       "      <td>...</td>\n",
       "      <td>...</td>\n",
       "      <td>...</td>\n",
       "    </tr>\n",
       "    <tr>\n",
       "      <th>7856</th>\n",
       "      <td>0</td>\n",
       "      <td>0</td>\n",
       "      <td>0</td>\n",
       "      <td>0</td>\n",
       "      <td>-66.237921</td>\n",
       "      <td>38.457041</td>\n",
       "      <td>24.912239</td>\n",
       "      <td>0.094421</td>\n",
       "      <td>-0.552019</td>\n",
       "      <td>0.457598</td>\n",
       "      <td>0</td>\n",
       "      <td>No hay falla</td>\n",
       "      <td>0</td>\n",
       "    </tr>\n",
       "    <tr>\n",
       "      <th>7857</th>\n",
       "      <td>0</td>\n",
       "      <td>0</td>\n",
       "      <td>0</td>\n",
       "      <td>0</td>\n",
       "      <td>-65.849493</td>\n",
       "      <td>37.465454</td>\n",
       "      <td>25.515675</td>\n",
       "      <td>0.103778</td>\n",
       "      <td>-0.555186</td>\n",
       "      <td>0.451407</td>\n",
       "      <td>0</td>\n",
       "      <td>No hay falla</td>\n",
       "      <td>0</td>\n",
       "    </tr>\n",
       "    <tr>\n",
       "      <th>7858</th>\n",
       "      <td>0</td>\n",
       "      <td>0</td>\n",
       "      <td>0</td>\n",
       "      <td>0</td>\n",
       "      <td>-65.446698</td>\n",
       "      <td>36.472055</td>\n",
       "      <td>26.106554</td>\n",
       "      <td>0.113107</td>\n",
       "      <td>-0.558211</td>\n",
       "      <td>0.445104</td>\n",
       "      <td>0</td>\n",
       "      <td>No hay falla</td>\n",
       "      <td>0</td>\n",
       "    </tr>\n",
       "    <tr>\n",
       "      <th>7859</th>\n",
       "      <td>0</td>\n",
       "      <td>0</td>\n",
       "      <td>0</td>\n",
       "      <td>0</td>\n",
       "      <td>-65.029633</td>\n",
       "      <td>35.477088</td>\n",
       "      <td>26.684731</td>\n",
       "      <td>0.122404</td>\n",
       "      <td>-0.561094</td>\n",
       "      <td>0.438690</td>\n",
       "      <td>0</td>\n",
       "      <td>No hay falla</td>\n",
       "      <td>0</td>\n",
       "    </tr>\n",
       "    <tr>\n",
       "      <th>7860</th>\n",
       "      <td>0</td>\n",
       "      <td>0</td>\n",
       "      <td>0</td>\n",
       "      <td>0</td>\n",
       "      <td>-64.598401</td>\n",
       "      <td>34.480799</td>\n",
       "      <td>27.250065</td>\n",
       "      <td>0.131669</td>\n",
       "      <td>-0.563835</td>\n",
       "      <td>0.432166</td>\n",
       "      <td>0</td>\n",
       "      <td>No hay falla</td>\n",
       "      <td>0</td>\n",
       "    </tr>\n",
       "  </tbody>\n",
       "</table>\n",
       "<p>7861 rows × 13 columns</p>\n",
       "</div>"
      ],
      "text/plain": [
       "      G  C  B  A          Ia          Ib          Ic        Va        Vb  \\\n",
       "0     1  0  0  1 -151.291812   -9.677452   85.800162  0.400750 -0.132935   \n",
       "1     1  0  0  1 -336.186183  -76.283262   18.328897  0.312732 -0.123633   \n",
       "2     1  0  0  1 -502.891583 -174.648023  -80.924663  0.265728 -0.114301   \n",
       "3     1  0  0  1 -593.941905 -217.703359 -124.891924  0.235511 -0.104940   \n",
       "4     1  0  0  1 -643.663617 -224.159427 -132.282815  0.209537 -0.095554   \n",
       "...  .. .. .. ..         ...         ...         ...       ...       ...   \n",
       "7856  0  0  0  0  -66.237921   38.457041   24.912239  0.094421 -0.552019   \n",
       "7857  0  0  0  0  -65.849493   37.465454   25.515675  0.103778 -0.555186   \n",
       "7858  0  0  0  0  -65.446698   36.472055   26.106554  0.113107 -0.558211   \n",
       "7859  0  0  0  0  -65.029633   35.477088   26.684731  0.122404 -0.561094   \n",
       "7860  0  0  0  0  -64.598401   34.480799   27.250065  0.131669 -0.563835   \n",
       "\n",
       "            Vc  target                        falla  target_binaria  \n",
       "0    -0.267815       3  Falla entre fase A y tierra               1  \n",
       "1    -0.189099       3  Falla entre fase A y tierra               1  \n",
       "2    -0.151428       3  Falla entre fase A y tierra               1  \n",
       "3    -0.130570       3  Falla entre fase A y tierra               1  \n",
       "4    -0.113983       3  Falla entre fase A y tierra               1  \n",
       "...        ...     ...                          ...             ...  \n",
       "7856  0.457598       0                 No hay falla               0  \n",
       "7857  0.451407       0                 No hay falla               0  \n",
       "7858  0.445104       0                 No hay falla               0  \n",
       "7859  0.438690       0                 No hay falla               0  \n",
       "7860  0.432166       0                 No hay falla               0  \n",
       "\n",
       "[7861 rows x 13 columns]"
      ]
     },
     "execution_count": 551,
     "metadata": {},
     "output_type": "execute_result"
    }
   ],
   "source": [
    "data['target_binaria'] = data.target.apply(lambda x: x if x == 0 else 1)\n",
    "data"
   ]
  },
  {
   "cell_type": "code",
   "execution_count": 552,
   "id": "c15b202e",
   "metadata": {},
   "outputs": [
    {
     "data": {
      "text/html": [
       "<div>\n",
       "<style scoped>\n",
       "    .dataframe tbody tr th:only-of-type {\n",
       "        vertical-align: middle;\n",
       "    }\n",
       "\n",
       "    .dataframe tbody tr th {\n",
       "        vertical-align: top;\n",
       "    }\n",
       "\n",
       "    .dataframe thead th {\n",
       "        text-align: right;\n",
       "    }\n",
       "</style>\n",
       "<table border=\"1\" class=\"dataframe\">\n",
       "  <thead>\n",
       "    <tr style=\"text-align: right;\">\n",
       "      <th></th>\n",
       "      <th>Ia</th>\n",
       "    </tr>\n",
       "    <tr>\n",
       "      <th>target_binaria</th>\n",
       "      <th></th>\n",
       "    </tr>\n",
       "  </thead>\n",
       "  <tbody>\n",
       "    <tr>\n",
       "      <th>0</th>\n",
       "      <td>30.085231</td>\n",
       "    </tr>\n",
       "    <tr>\n",
       "      <th>1</th>\n",
       "      <td>69.914769</td>\n",
       "    </tr>\n",
       "  </tbody>\n",
       "</table>\n",
       "</div>"
      ],
      "text/plain": [
       "                       Ia\n",
       "target_binaria           \n",
       "0               30.085231\n",
       "1               69.914769"
      ]
     },
     "execution_count": 552,
     "metadata": {},
     "output_type": "execute_result"
    }
   ],
   "source": [
    "data_bal = data.loc[:,['Ia','target_binaria']].groupby(['target_binaria']).count()\n",
    "data_bal = data_bal.apply(lambda x: x*100/data.shape[0])\n",
    "data_bal"
   ]
  },
  {
   "cell_type": "code",
   "execution_count": 553,
   "id": "b235ba0e",
   "metadata": {},
   "outputs": [
    {
     "data": {
      "text/plain": [
       "<AxesSubplot:>"
      ]
     },
     "execution_count": 553,
     "metadata": {},
     "output_type": "execute_result"
    },
    {
     "data": {
      "image/png": "[encoded data removed]",
      "text/plain": [
       "<Figure size 1440x720 with 2 Axes>"
      ]
     },
     "metadata": {
      "needs_background": "light"
     },
     "output_type": "display_data"
    }
   ],
   "source": [
    "fig, ax = plt.subplots(figsize = (20, 10))\n",
    "sns.heatmap(data.corr(),annot=True,ax=ax)"
   ]
  },
  {
   "cell_type": "code",
   "execution_count": 554,
   "id": "dabf0773",
   "metadata": {},
   "outputs": [
    {
     "data": {
      "image/png": "[encoded data removed]",
      "text/plain": [
       "<Figure size 1296x864 with 6 Axes>"
      ]
     },
     "metadata": {
      "needs_background": "light"
     },
     "output_type": "display_data"
    }
   ],
   "source": [
    "dataplot = data[[\"Ia\",\"Ib\",\"Ic\",\"Va\",\"Vb\",\"Vc\",\"target_binaria\"]]\n",
    "fig, axes = plt.subplots(nrows=2, ncols=3, figsize=(18,12))\n",
    "fig.suptitle('Histogramas normalizados')\n",
    "for c, ax in zip(dataplot.columns[:-1], axes.flatten()):\n",
    "    sns.histplot(data = dataplot.loc[dataplot['target_binaria']==0, c].dropna(), stat = 'density', ax = ax, kde = False )\n",
    "    sns.histplot(data = dataplot.loc[dataplot['target_binaria']==1, c].dropna(), stat = 'density', kde=False, ax=ax, color = 'orange')\n",
    "    ax.legend(['target_binaria = 0', 'target_binaria = 1'])"
   ]
  },
  {
   "cell_type": "code",
   "execution_count": 555,
   "id": "cc0af417",
   "metadata": {},
   "outputs": [
    {
     "data": {
      "image/png": "[encoded data removed]",
      "text/plain": [
       "<Figure size 1296x864 with 6 Axes>"
      ]
     },
     "metadata": {
      "needs_background": "light"
     },
     "output_type": "display_data"
    }
   ],
   "source": [
    "dataplot1 = data[[\"Ia\",\"Ib\",\"Ic\",\"Va\",\"Vb\",\"Vc\",\"target\"]]\n",
    "fig, axes = plt.subplots(nrows=3, ncols=2, figsize=(18,12))\n",
    "fig.suptitle('Boxplots normalizados')\n",
    "for c, ax in zip(dataplot1.columns[:-1], axes.flatten()):\n",
    "    sns.boxplot(y = dataplot1[c].dropna(), x = dataplot1.target.dropna(),ax = ax)"
   ]
  },
  {
   "cell_type": "code",
   "execution_count": null,
   "id": "2359fa41",
   "metadata": {},
   "outputs": [],
   "source": []
  },
  {
   "cell_type": "code",
   "execution_count": 556,
   "id": "9f5cbabf",
   "metadata": {},
   "outputs": [
    {
     "data": {
      "image/png": "[encoded data removed]",
      "text/plain": [
       "<Figure size 1296x360 with 2 Axes>"
      ]
     },
     "metadata": {
      "needs_background": "light"
     },
     "output_type": "display_data"
    },
    {
     "data": {
      "image/png": "[encoded data removed]",
      "text/plain": [
       "<Figure size 1296x360 with 2 Axes>"
      ]
     },
     "metadata": {
      "needs_background": "light"
     },
     "output_type": "display_data"
    },
    {
     "data": {
      "image/png": "[encoded data removed]",
      "text/plain": [
       "<Figure size 1296x360 with 2 Axes>"
      ]
     },
     "metadata": {
      "needs_background": "light"
     },
     "output_type": "display_data"
    },
    {
     "data": {
      "image/png": "[encoded data removed]",
      "text/plain": [
       "<Figure size 1296x360 with 2 Axes>"
      ]
     },
     "metadata": {
      "needs_background": "light"
     },
     "output_type": "display_data"
    },
    {
     "data": {
      "image/png": "[encoded data removed]",
      "text/plain": [
       "<Figure size 1296x360 with 2 Axes>"
      ]
     },
     "metadata": {
      "needs_background": "light"
     },
     "output_type": "display_data"
    },
    {
     "data": {
      "image/png": "[encoded data removed]",
      "text/plain": [
       "<Figure size 1296x360 with 2 Axes>"
      ]
     },
     "metadata": {
      "needs_background": "light"
     },
     "output_type": "display_data"
    }
   ],
   "source": [
    "dataplot_corriente = data[[\"Ia\",\"Ib\",\"Ic\",\"target\"]]\n",
    "dataplot_voltaje = data[[\"Va\",\"Vb\",\"Vc\",\"target\"]]\n",
    "for y in dataplot1.target.value_counts().index.sort_values():\n",
    "    fig, axes = plt.subplots(nrows=1, ncols=2, figsize=(18,5))\n",
    "    fig.suptitle('Boxplots normalizados para Target =%i'%y)\n",
    "    for i, ax in zip(range(1,3), axes.flatten()):\n",
    "        if i == 1:\n",
    "            sns.boxplot(x=\"variable\", y=\"value\", data=pd.melt(dataplot_corriente.loc[dataplot_corriente.target == y,[\"Ia\",\"Ib\",\"Ic\"]]),ax = ax)\n",
    "        else:\n",
    "            sns.boxplot(x=\"variable\", y=\"value\", data=pd.melt(dataplot_voltaje.loc[dataplot_voltaje.target == y,[\"Va\",\"Vb\",\"Vc\"]]),ax = ax)"
   ]
  },
  {
   "cell_type": "raw",
   "id": "7222aef4",
   "metadata": {},
   "source": [
    "dataplot1 = data[[\"Ia\",\"Ib\",\"Ic\",\"Va\",\"Vb\",\"Vc\",\"target\"]]\n",
    "fig, axes = plt.subplots(nrows=2, ncols=3, figsize=(18,12))\n",
    "fig.suptitle('Histogramas normalizados')\n",
    "for c, ax in zip(dataplot1.columns[:-1], axes.flatten()):\n",
    "    sns.histplot(data = dataplot1.loc[dataplot1['target']==0, c].dropna(), stat = 'density', ax = ax, kde = False )\n",
    "    sns.histplot(data = dataplot1.loc[dataplot1['target']==1, c].dropna(), stat = 'density', kde=False, ax=ax, color = 'orange')\n",
    "    sns.histplot(data = dataplot1.loc[dataplot1['target']==2, c].dropna(), stat = 'density', kde=False, ax=ax, color = 'green')\n",
    "    sns.histplot(data = dataplot1.loc[dataplot1['target']==3, c].dropna(), stat = 'density', kde=False, ax=ax, color = 'violet')\n",
    "    sns.histplot(data = dataplot1.loc[dataplot1['target']==4, c].dropna(), stat = 'density', kde=False, ax=ax, color = 'red')\n",
    "    sns.histplot(data = dataplot1.loc[dataplot1['target']==5, c].dropna(), stat = 'density', kde=False, ax=ax, color = 'yellow')\n",
    "    ax.legend(['target = 0', 'target = 1','target = 2','target = 3','target = 4','target = 5'])"
   ]
  },
  {
   "cell_type": "code",
   "execution_count": null,
   "id": "5882442a",
   "metadata": {},
   "outputs": [],
   "source": []
  },
  {
   "cell_type": "code",
   "execution_count": 557,
   "id": "21a8b466",
   "metadata": {},
   "outputs": [],
   "source": [
    "X = data.loc[:,['Ia','Ib','Ic','Va','Vb','Vc']]\n",
    "y = data.target_binaria"
   ]
  },
  {
   "cell_type": "code",
   "execution_count": 558,
   "id": "9a642045",
   "metadata": {},
   "outputs": [],
   "source": [
    "from sklearn.model_selection import train_test_split,StratifiedKFold,GridSearchCV"
   ]
  },
  {
   "cell_type": "code",
   "execution_count": 559,
   "id": "871f2079",
   "metadata": {},
   "outputs": [],
   "source": [
    "X_train, X_test, y_train, y_test = train_test_split(X, y, stratify=y, random_state=0)"
   ]
  },
  {
   "cell_type": "code",
   "execution_count": 560,
   "id": "593c679f",
   "metadata": {},
   "outputs": [],
   "source": [
    "from sklearn.preprocessing import StandardScaler"
   ]
  },
  {
   "cell_type": "code",
   "execution_count": 561,
   "id": "c02347f9",
   "metadata": {},
   "outputs": [],
   "source": [
    "scaler = StandardScaler()\n",
    "X_train_scaler = scaler.fit_transform(X_train)\n",
    "X_test_scaler = scaler.transform(X_test)"
   ]
  },
  {
   "cell_type": "code",
   "execution_count": 562,
   "id": "e1c83405",
   "metadata": {},
   "outputs": [],
   "source": [
    "from sklearn.neighbors import KNeighborsClassifier"
   ]
  },
  {
   "cell_type": "code",
   "execution_count": 563,
   "id": "4dfd2f0c",
   "metadata": {},
   "outputs": [
    {
     "data": {
      "text/plain": [
       "KNeighborsClassifier()"
      ]
     },
     "execution_count": 563,
     "metadata": {},
     "output_type": "execute_result"
    }
   ],
   "source": [
    "knn = KNeighborsClassifier()\n",
    "knn.fit(X_train_scaler, y_train)"
   ]
  },
  {
   "cell_type": "code",
   "execution_count": 564,
   "id": "2ee9e932",
   "metadata": {},
   "outputs": [],
   "source": [
    "y_pred_train = knn.predict(X_train_scaler)"
   ]
  },
  {
   "cell_type": "code",
   "execution_count": 565,
   "id": "cd807453",
   "metadata": {},
   "outputs": [],
   "source": [
    "from sklearn.metrics import accuracy_score,confusion_matrix, classification_report"
   ]
  },
  {
   "cell_type": "code",
   "execution_count": 566,
   "id": "d8f56156",
   "metadata": {},
   "outputs": [
    {
     "name": "stdout",
     "output_type": "stream",
     "text": [
      "1.0\n"
     ]
    },
    {
     "data": {
      "text/plain": [
       "<AxesSubplot:>"
      ]
     },
     "execution_count": 566,
     "metadata": {},
     "output_type": "execute_result"
    },
    {
     "data": {
      "image/png": "[encoded data removed]",
      "text/plain": [
       "<Figure size 432x288 with 2 Axes>"
      ]
     },
     "metadata": {
      "needs_background": "light"
     },
     "output_type": "display_data"
    }
   ],
   "source": [
    "print(accuracy_score(y_train, y_pred_train))\n",
    "cm = confusion_matrix(y_train, y_pred_train)\n",
    "sns.heatmap(cm, annot=True,fmt='d')"
   ]
  },
  {
   "cell_type": "code",
   "execution_count": 567,
   "id": "455fb91c",
   "metadata": {},
   "outputs": [
    {
     "name": "stdout",
     "output_type": "stream",
     "text": [
      "0.9994913530010173\n"
     ]
    },
    {
     "data": {
      "text/plain": [
       "<AxesSubplot:>"
      ]
     },
     "execution_count": 567,
     "metadata": {},
     "output_type": "execute_result"
    },
    {
     "data": {
      "image/png": "[encoded data removed]",
      "text/plain": [
       "<Figure size 432x288 with 2 Axes>"
      ]
     },
     "metadata": {
      "needs_background": "light"
     },
     "output_type": "display_data"
    }
   ],
   "source": [
    "y_pred_test = knn.predict(X_test_scaler)\n",
    "print(accuracy_score(y_test, y_pred_test))\n",
    "cm = confusion_matrix(y_test, y_pred_test)\n",
    "sns.heatmap(cm, annot=True,fmt='d')"
   ]
  },
  {
   "cell_type": "code",
   "execution_count": 568,
   "id": "eb579517",
   "metadata": {},
   "outputs": [
    {
     "data": {
      "text/plain": [
       "array([[0., 1.],\n",
       "       [1., 0.],\n",
       "       [0., 1.],\n",
       "       ...,\n",
       "       [1., 0.],\n",
       "       [0., 1.],\n",
       "       [0., 1.]])"
      ]
     },
     "execution_count": 568,
     "metadata": {},
     "output_type": "execute_result"
    }
   ],
   "source": [
    "y_pred_knn_roc = knn.predict_proba(X_test_scaler)\n",
    "y_pred_knn_roc"
   ]
  },
  {
   "cell_type": "code",
   "execution_count": 569,
   "id": "6c784fa1",
   "metadata": {},
   "outputs": [
    {
     "data": {
      "image/png": "[encoded data removed]",
      "text/plain": [
       "<Figure size 432x288 with 1 Axes>"
      ]
     },
     "metadata": {
      "needs_background": "light"
     },
     "output_type": "display_data"
    }
   ],
   "source": [
    "from sklearn.metrics import roc_curve, auc\n",
    "y_pred_knn_roc = knn.predict_proba(X_test_scaler)\n",
    "fpr,tpr,_ = roc_curve(y_test, y_pred_knn_roc[:,1])\n",
    "df = pd.DataFrame(dict(fpr=fpr, tpr=tpr))\n",
    "plt.axis([0, 1.01, 0, 1.01])\n",
    "plt.xlabel('1 - Specificty')\n",
    "plt.ylabel('TPR / Sensitivity')\n",
    "plt.title('ROC Curve')\n",
    "plt.plot(df['fpr'],df['tpr'])\n",
    "plt.plot(np.arange(0,1, step =0.01), np.arange(0,1, step =0.01))\n",
    "plt.show() "
   ]
  },
  {
   "cell_type": "markdown",
   "id": "5f108d1f",
   "metadata": {},
   "source": [
    "# Multiclase"
   ]
  },
  {
   "cell_type": "code",
   "execution_count": 570,
   "id": "ff12ad84",
   "metadata": {},
   "outputs": [],
   "source": [
    "X = data.loc[:,['Ia','Ib','Ic','Va','Vb','Vc']]\n",
    "y = data.target"
   ]
  },
  {
   "cell_type": "code",
   "execution_count": 571,
   "id": "2bd6a5b6",
   "metadata": {},
   "outputs": [],
   "source": [
    "X_train, X_test, y_train, y_test = train_test_split(X, y,stratify=y, random_state=0) #"
   ]
  },
  {
   "cell_type": "code",
   "execution_count": 572,
   "id": "3780f478",
   "metadata": {},
   "outputs": [],
   "source": [
    "scaler = StandardScaler()\n",
    "X_train_scaler1 = scaler.fit_transform(X_train)\n",
    "X_test_scaler1 = scaler.transform(X_test)"
   ]
  },
  {
   "cell_type": "code",
   "execution_count": 573,
   "id": "42fe1c78",
   "metadata": {},
   "outputs": [
    {
     "data": {
      "text/plain": [
       "KNeighborsClassifier()"
      ]
     },
     "execution_count": 573,
     "metadata": {},
     "output_type": "execute_result"
    }
   ],
   "source": [
    "knn = KNeighborsClassifier()\n",
    "knn.fit(X_train_scaler1, y_train)"
   ]
  },
  {
   "cell_type": "code",
   "execution_count": 574,
   "id": "12c1118c",
   "metadata": {},
   "outputs": [],
   "source": [
    "y_pred_train = knn.predict(X_train_scaler1)"
   ]
  },
  {
   "cell_type": "code",
   "execution_count": 575,
   "id": "8a7a1162",
   "metadata": {},
   "outputs": [
    {
     "name": "stdout",
     "output_type": "stream",
     "text": [
      "0.8729431721798134\n"
     ]
    },
    {
     "data": {
      "text/plain": [
       "<AxesSubplot:>"
      ]
     },
     "execution_count": 575,
     "metadata": {},
     "output_type": "execute_result"
    },
    {
     "data": {
      "image/png": "[encoded data removed]",
      "text/plain": [
       "<Figure size 432x288 with 2 Axes>"
      ]
     },
     "metadata": {
      "needs_background": "light"
     },
     "output_type": "display_data"
    }
   ],
   "source": [
    "print(accuracy_score(y_train, y_pred_train))\n",
    "cm = confusion_matrix(y_train, y_pred_train)\n",
    "sns.heatmap(cm, annot=True,fmt='d')"
   ]
  },
  {
   "cell_type": "code",
   "execution_count": 576,
   "id": "9d90f611",
   "metadata": {},
   "outputs": [
    {
     "name": "stdout",
     "output_type": "stream",
     "text": [
      "0.8041709053916581\n"
     ]
    },
    {
     "data": {
      "text/plain": [
       "<AxesSubplot:>"
      ]
     },
     "execution_count": 576,
     "metadata": {},
     "output_type": "execute_result"
    },
    {
     "data": {
      "image/png": "[encoded data removed]",
      "text/plain": [
       "<Figure size 432x288 with 2 Axes>"
      ]
     },
     "metadata": {
      "needs_background": "light"
     },
     "output_type": "display_data"
    }
   ],
   "source": [
    "y_pred_test = knn.predict(X_test_scaler1)\n",
    "print(accuracy_score(y_test, y_pred_test))\n",
    "cm = confusion_matrix(y_test, y_pred_test)\n",
    "sns.heatmap(cm, annot=True,fmt='d')"
   ]
  },
  {
   "cell_type": "code",
   "execution_count": 577,
   "id": "7e83b153",
   "metadata": {},
   "outputs": [],
   "source": [
    "k_range = list(range(1, 31))\n",
    "weight_options = ['uniform', 'distance']\n",
    "param_grid = dict(n_neighbors=k_range, weights=weight_options)"
   ]
  },
  {
   "cell_type": "code",
   "execution_count": 578,
   "id": "82a7a28d",
   "metadata": {},
   "outputs": [],
   "source": [
    "folds=StratifiedKFold(n_splits=10, random_state=0, shuffle=True)"
   ]
  },
  {
   "cell_type": "code",
   "execution_count": 579,
   "id": "aa3ae7f9",
   "metadata": {},
   "outputs": [],
   "source": [
    "grid = GridSearchCV(knn, param_grid, cv=folds, scoring='accuracy')"
   ]
  },
  {
   "cell_type": "code",
   "execution_count": 580,
   "id": "851e6680",
   "metadata": {},
   "outputs": [
    {
     "data": {
      "text/plain": [
       "GridSearchCV(cv=StratifiedKFold(n_splits=10, random_state=0, shuffle=True),\n",
       "             estimator=KNeighborsClassifier(),\n",
       "             param_grid={'n_neighbors': [1, 2, 3, 4, 5, 6, 7, 8, 9, 10, 11, 12,\n",
       "                                         13, 14, 15, 16, 17, 18, 19, 20, 21, 22,\n",
       "                                         23, 24, 25, 26, 27, 28, 29, 30],\n",
       "                         'weights': ['uniform', 'distance']},\n",
       "             scoring='accuracy')"
      ]
     },
     "execution_count": 580,
     "metadata": {},
     "output_type": "execute_result"
    }
   ],
   "source": [
    "grid.fit(X_train_scaler1, y_train)"
   ]
  },
  {
   "cell_type": "code",
   "execution_count": 581,
   "id": "458b28b8",
   "metadata": {},
   "outputs": [
    {
     "data": {
      "text/html": [
       "<div>\n",
       "<style scoped>\n",
       "    .dataframe tbody tr th:only-of-type {\n",
       "        vertical-align: middle;\n",
       "    }\n",
       "\n",
       "    .dataframe tbody tr th {\n",
       "        vertical-align: top;\n",
       "    }\n",
       "\n",
       "    .dataframe thead th {\n",
       "        text-align: right;\n",
       "    }\n",
       "</style>\n",
       "<table border=\"1\" class=\"dataframe\">\n",
       "  <thead>\n",
       "    <tr style=\"text-align: right;\">\n",
       "      <th></th>\n",
       "      <th>mean_fit_time</th>\n",
       "      <th>std_fit_time</th>\n",
       "      <th>mean_score_time</th>\n",
       "      <th>std_score_time</th>\n",
       "      <th>param_n_neighbors</th>\n",
       "      <th>param_weights</th>\n",
       "      <th>params</th>\n",
       "      <th>split0_test_score</th>\n",
       "      <th>split1_test_score</th>\n",
       "      <th>split2_test_score</th>\n",
       "      <th>split3_test_score</th>\n",
       "      <th>split4_test_score</th>\n",
       "      <th>split5_test_score</th>\n",
       "      <th>split6_test_score</th>\n",
       "      <th>split7_test_score</th>\n",
       "      <th>split8_test_score</th>\n",
       "      <th>split9_test_score</th>\n",
       "      <th>mean_test_score</th>\n",
       "      <th>std_test_score</th>\n",
       "      <th>rank_test_score</th>\n",
       "    </tr>\n",
       "  </thead>\n",
       "  <tbody>\n",
       "    <tr>\n",
       "      <th>0</th>\n",
       "      <td>0.010005</td>\n",
       "      <td>0.000018</td>\n",
       "      <td>0.030619</td>\n",
       "      <td>0.015923</td>\n",
       "      <td>1</td>\n",
       "      <td>uniform</td>\n",
       "      <td>{'n_neighbors': 1, 'weights': 'uniform'}</td>\n",
       "      <td>0.869492</td>\n",
       "      <td>0.883051</td>\n",
       "      <td>0.876271</td>\n",
       "      <td>0.879661</td>\n",
       "      <td>0.871186</td>\n",
       "      <td>0.874363</td>\n",
       "      <td>0.867572</td>\n",
       "      <td>0.862479</td>\n",
       "      <td>0.872666</td>\n",
       "      <td>0.891341</td>\n",
       "      <td>0.874808</td>\n",
       "      <td>0.007858</td>\n",
       "      <td>1</td>\n",
       "    </tr>\n",
       "    <tr>\n",
       "      <th>1</th>\n",
       "      <td>0.016356</td>\n",
       "      <td>0.004421</td>\n",
       "      <td>0.006283</td>\n",
       "      <td>0.005626</td>\n",
       "      <td>1</td>\n",
       "      <td>distance</td>\n",
       "      <td>{'n_neighbors': 1, 'weights': 'distance'}</td>\n",
       "      <td>0.869492</td>\n",
       "      <td>0.883051</td>\n",
       "      <td>0.876271</td>\n",
       "      <td>0.879661</td>\n",
       "      <td>0.871186</td>\n",
       "      <td>0.874363</td>\n",
       "      <td>0.867572</td>\n",
       "      <td>0.862479</td>\n",
       "      <td>0.872666</td>\n",
       "      <td>0.891341</td>\n",
       "      <td>0.874808</td>\n",
       "      <td>0.007858</td>\n",
       "      <td>1</td>\n",
       "    </tr>\n",
       "    <tr>\n",
       "      <th>2</th>\n",
       "      <td>0.021345</td>\n",
       "      <td>0.012712</td>\n",
       "      <td>0.056547</td>\n",
       "      <td>0.031047</td>\n",
       "      <td>2</td>\n",
       "      <td>uniform</td>\n",
       "      <td>{'n_neighbors': 2, 'weights': 'uniform'}</td>\n",
       "      <td>0.835593</td>\n",
       "      <td>0.828814</td>\n",
       "      <td>0.842373</td>\n",
       "      <td>0.832203</td>\n",
       "      <td>0.840678</td>\n",
       "      <td>0.840407</td>\n",
       "      <td>0.845501</td>\n",
       "      <td>0.833616</td>\n",
       "      <td>0.840407</td>\n",
       "      <td>0.842105</td>\n",
       "      <td>0.838170</td>\n",
       "      <td>0.005037</td>\n",
       "      <td>32</td>\n",
       "    </tr>\n",
       "    <tr>\n",
       "      <th>3</th>\n",
       "      <td>0.021242</td>\n",
       "      <td>0.003124</td>\n",
       "      <td>0.008277</td>\n",
       "      <td>0.001895</td>\n",
       "      <td>2</td>\n",
       "      <td>distance</td>\n",
       "      <td>{'n_neighbors': 2, 'weights': 'distance'}</td>\n",
       "      <td>0.869492</td>\n",
       "      <td>0.883051</td>\n",
       "      <td>0.876271</td>\n",
       "      <td>0.879661</td>\n",
       "      <td>0.871186</td>\n",
       "      <td>0.874363</td>\n",
       "      <td>0.867572</td>\n",
       "      <td>0.862479</td>\n",
       "      <td>0.872666</td>\n",
       "      <td>0.891341</td>\n",
       "      <td>0.874808</td>\n",
       "      <td>0.007858</td>\n",
       "      <td>1</td>\n",
       "    </tr>\n",
       "    <tr>\n",
       "      <th>4</th>\n",
       "      <td>0.018547</td>\n",
       "      <td>0.003916</td>\n",
       "      <td>0.055851</td>\n",
       "      <td>0.015256</td>\n",
       "      <td>3</td>\n",
       "      <td>uniform</td>\n",
       "      <td>{'n_neighbors': 3, 'weights': 'uniform'}</td>\n",
       "      <td>0.808475</td>\n",
       "      <td>0.786441</td>\n",
       "      <td>0.793220</td>\n",
       "      <td>0.784746</td>\n",
       "      <td>0.803390</td>\n",
       "      <td>0.809847</td>\n",
       "      <td>0.796265</td>\n",
       "      <td>0.796265</td>\n",
       "      <td>0.797963</td>\n",
       "      <td>0.814941</td>\n",
       "      <td>0.799155</td>\n",
       "      <td>0.009439</td>\n",
       "      <td>60</td>\n",
       "    </tr>\n",
       "  </tbody>\n",
       "</table>\n",
       "</div>"
      ],
      "text/plain": [
       "   mean_fit_time  std_fit_time  mean_score_time  std_score_time  \\\n",
       "0       0.010005      0.000018         0.030619        0.015923   \n",
       "1       0.016356      0.004421         0.006283        0.005626   \n",
       "2       0.021345      0.012712         0.056547        0.031047   \n",
       "3       0.021242      0.003124         0.008277        0.001895   \n",
       "4       0.018547      0.003916         0.055851        0.015256   \n",
       "\n",
       "  param_n_neighbors param_weights                                     params  \\\n",
       "0                 1       uniform   {'n_neighbors': 1, 'weights': 'uniform'}   \n",
       "1                 1      distance  {'n_neighbors': 1, 'weights': 'distance'}   \n",
       "2                 2       uniform   {'n_neighbors': 2, 'weights': 'uniform'}   \n",
       "3                 2      distance  {'n_neighbors': 2, 'weights': 'distance'}   \n",
       "4                 3       uniform   {'n_neighbors': 3, 'weights': 'uniform'}   \n",
       "\n",
       "   split0_test_score  split1_test_score  split2_test_score  split3_test_score  \\\n",
       "0           0.869492           0.883051           0.876271           0.879661   \n",
       "1           0.869492           0.883051           0.876271           0.879661   \n",
       "2           0.835593           0.828814           0.842373           0.832203   \n",
       "3           0.869492           0.883051           0.876271           0.879661   \n",
       "4           0.808475           0.786441           0.793220           0.784746   \n",
       "\n",
       "   split4_test_score  split5_test_score  split6_test_score  split7_test_score  \\\n",
       "0           0.871186           0.874363           0.867572           0.862479   \n",
       "1           0.871186           0.874363           0.867572           0.862479   \n",
       "2           0.840678           0.840407           0.845501           0.833616   \n",
       "3           0.871186           0.874363           0.867572           0.862479   \n",
       "4           0.803390           0.809847           0.796265           0.796265   \n",
       "\n",
       "   split8_test_score  split9_test_score  mean_test_score  std_test_score  \\\n",
       "0           0.872666           0.891341         0.874808        0.007858   \n",
       "1           0.872666           0.891341         0.874808        0.007858   \n",
       "2           0.840407           0.842105         0.838170        0.005037   \n",
       "3           0.872666           0.891341         0.874808        0.007858   \n",
       "4           0.797963           0.814941         0.799155        0.009439   \n",
       "\n",
       "   rank_test_score  \n",
       "0                1  \n",
       "1                1  \n",
       "2               32  \n",
       "3                1  \n",
       "4               60  "
      ]
     },
     "execution_count": 581,
     "metadata": {},
     "output_type": "execute_result"
    }
   ],
   "source": [
    "grid.cv_results_.keys()\n",
    "pd.DataFrame(grid.cv_results_).head()"
   ]
  },
  {
   "cell_type": "code",
   "execution_count": 582,
   "id": "86bea449",
   "metadata": {},
   "outputs": [
    {
     "data": {
      "text/plain": [
       "KNeighborsClassifier(n_neighbors=1)"
      ]
     },
     "execution_count": 582,
     "metadata": {},
     "output_type": "execute_result"
    }
   ],
   "source": [
    "grid.best_estimator_"
   ]
  },
  {
   "cell_type": "code",
   "execution_count": 583,
   "id": "9ba59dd3",
   "metadata": {},
   "outputs": [
    {
     "data": {
      "text/plain": [
       "0.874808206958073"
      ]
     },
     "execution_count": 583,
     "metadata": {},
     "output_type": "execute_result"
    }
   ],
   "source": [
    "grid.best_score_"
   ]
  },
  {
   "cell_type": "code",
   "execution_count": 584,
   "id": "390abb56",
   "metadata": {},
   "outputs": [
    {
     "data": {
      "text/plain": [
       "{'n_neighbors': 1, 'weights': 'uniform'}"
      ]
     },
     "execution_count": 584,
     "metadata": {},
     "output_type": "execute_result"
    }
   ],
   "source": [
    "grid.best_params_"
   ]
  },
  {
   "cell_type": "code",
   "execution_count": 585,
   "id": "ae7b0dbd",
   "metadata": {},
   "outputs": [],
   "source": [
    "y_pred_grid = grid.predict(X_test_scaler1)"
   ]
  },
  {
   "cell_type": "code",
   "execution_count": 586,
   "id": "adac8dae",
   "metadata": {},
   "outputs": [
    {
     "name": "stdout",
     "output_type": "stream",
     "text": [
      "                                      precision    recall  f1-score   support\n",
      "\n",
      "                            No Falla       1.00      1.00      1.00       592\n",
      "         Falla entre fase A y fase B       1.00      1.00      1.00       251\n",
      "            Falla en todas las fases       0.59      0.58      0.58       274\n",
      "         Falla entre fase A y tierra       0.98      1.00      0.99       282\n",
      "       Falla entre fase A,B y tierra       1.00      0.98      0.99       284\n",
      "Falla entre todas las fases y tierra       0.59      0.61      0.60       283\n",
      "\n",
      "                            accuracy                           0.88      1966\n",
      "                           macro avg       0.86      0.86      0.86      1966\n",
      "                        weighted avg       0.88      0.88      0.88      1966\n",
      "\n"
     ]
    }
   ],
   "source": [
    "target_names = ['No Falla','Falla entre fase A y fase B','Falla en todas las fases',\n",
    "                'Falla entre fase A y tierra','Falla entre fase A,B y tierra',\n",
    "                'Falla entre todas las fases y tierra']\n",
    "print(classification_report(y_test, y_pred_grid,target_names=target_names))"
   ]
  },
  {
   "cell_type": "code",
   "execution_count": 587,
   "id": "244a360a",
   "metadata": {},
   "outputs": [
    {
     "data": {
      "text/plain": [
       "<AxesSubplot:>"
      ]
     },
     "execution_count": 587,
     "metadata": {},
     "output_type": "execute_result"
    },
    {
     "data": {
      "image/png": "[encoded data removed]",
      "text/plain": [
       "<Figure size 432x288 with 2 Axes>"
      ]
     },
     "metadata": {
      "needs_background": "light"
     },
     "output_type": "display_data"
    }
   ],
   "source": [
    "confusion = confusion_matrix(y_test, y_pred_grid)\n",
    "sns.heatmap(confusion, annot=True,fmt='d')"
   ]
  },
  {
   "cell_type": "markdown",
   "id": "f061d29e",
   "metadata": {},
   "source": [
    "## Merge de fallas 2 y 5"
   ]
  },
  {
   "cell_type": "code",
   "execution_count": 588,
   "id": "f007b4a8",
   "metadata": {},
   "outputs": [],
   "source": [
    "def clasifier_fault_unification(data):\n",
    "    target = []\n",
    "    for i in range(0,len(data)):\n",
    "        c = data.iloc[i:int(i+1)].to_numpy().flatten()\n",
    "        if c[0] == 0 and c[1] == 0 and c[2]==0 and c[3]==0:\n",
    "            target.append(0)\n",
    "        elif c[0] == 0 and c[1] == 1 and c[2]==1 and c[3]==0: \n",
    "             target.append(1)\n",
    "        elif c[0] == 0 and c[1] == 1 and c[2]==1 and c[3]==1: \n",
    "             target.append(2)\n",
    "        elif c[0] == 1 and c[1] == 0 and c[2]==0 and c[3]==1: \n",
    "             target.append(3)\n",
    "        elif c[0] == 1 and c[1] == 0 and c[2]==1 and c[3]==1: \n",
    "             target.append(4)\n",
    "        elif c[0] == 1 and c[1] == 1 and c[2]==1 and c[3]==1: \n",
    "             target.append(2)\n",
    "    return target"
   ]
  },
  {
   "cell_type": "code",
   "execution_count": 589,
   "id": "955e58e5",
   "metadata": {},
   "outputs": [],
   "source": [
    "def falla_unificacion(data):\n",
    "    target = []\n",
    "    if data == 0:\n",
    "        target.append('No hay falla')\n",
    "    elif data == 1:\n",
    "        target.append('Falla entre fase A y fase B')\n",
    "    elif data == 2:\n",
    "        target.append('Falla Total')\n",
    "    elif data == 3:\n",
    "        target.append('Falla entre fase A y tierra')\n",
    "    elif data == 4:\n",
    "        target.append('Falla entre fase A,B y tierra')\n",
    "    return target"
   ]
  },
  {
   "cell_type": "code",
   "execution_count": 590,
   "id": "8ce6793a",
   "metadata": {},
   "outputs": [
    {
     "data": {
      "text/html": [
       "<div>\n",
       "<style scoped>\n",
       "    .dataframe tbody tr th:only-of-type {\n",
       "        vertical-align: middle;\n",
       "    }\n",
       "\n",
       "    .dataframe tbody tr th {\n",
       "        vertical-align: top;\n",
       "    }\n",
       "\n",
       "    .dataframe thead th {\n",
       "        text-align: right;\n",
       "    }\n",
       "</style>\n",
       "<table border=\"1\" class=\"dataframe\">\n",
       "  <thead>\n",
       "    <tr style=\"text-align: right;\">\n",
       "      <th></th>\n",
       "      <th>G</th>\n",
       "      <th>C</th>\n",
       "      <th>B</th>\n",
       "      <th>A</th>\n",
       "      <th>Ia</th>\n",
       "      <th>Ib</th>\n",
       "      <th>Ic</th>\n",
       "      <th>Va</th>\n",
       "      <th>Vb</th>\n",
       "      <th>Vc</th>\n",
       "      <th>target</th>\n",
       "      <th>falla</th>\n",
       "      <th>target_binaria</th>\n",
       "      <th>target_unif</th>\n",
       "      <th>falla_unif</th>\n",
       "    </tr>\n",
       "  </thead>\n",
       "  <tbody>\n",
       "    <tr>\n",
       "      <th>7807</th>\n",
       "      <td>0</td>\n",
       "      <td>0</td>\n",
       "      <td>0</td>\n",
       "      <td>0</td>\n",
       "      <td>-66.606246</td>\n",
       "      <td>80.008493</td>\n",
       "      <td>-16.284428</td>\n",
       "      <td>-0.350762</td>\n",
       "      <td>-0.247971</td>\n",
       "      <td>0.598733</td>\n",
       "      <td>0</td>\n",
       "      <td>No hay falla</td>\n",
       "      <td>0</td>\n",
       "      <td>0</td>\n",
       "      <td>No hay falla</td>\n",
       "    </tr>\n",
       "    <tr>\n",
       "      <th>6008</th>\n",
       "      <td>0</td>\n",
       "      <td>0</td>\n",
       "      <td>0</td>\n",
       "      <td>0</td>\n",
       "      <td>50.219967</td>\n",
       "      <td>-13.145710</td>\n",
       "      <td>-40.500234</td>\n",
       "      <td>0.316192</td>\n",
       "      <td>0.295660</td>\n",
       "      <td>-0.611852</td>\n",
       "      <td>0</td>\n",
       "      <td>No hay falla</td>\n",
       "      <td>0</td>\n",
       "      <td>0</td>\n",
       "      <td>No hay falla</td>\n",
       "    </tr>\n",
       "    <tr>\n",
       "      <th>3479</th>\n",
       "      <td>0</td>\n",
       "      <td>1</td>\n",
       "      <td>1</td>\n",
       "      <td>1</td>\n",
       "      <td>820.788975</td>\n",
       "      <td>-702.347385</td>\n",
       "      <td>-116.294591</td>\n",
       "      <td>0.004155</td>\n",
       "      <td>-0.038662</td>\n",
       "      <td>0.034507</td>\n",
       "      <td>2</td>\n",
       "      <td>Falla en todas las fases</td>\n",
       "      <td>1</td>\n",
       "      <td>2</td>\n",
       "      <td>Falla Total</td>\n",
       "    </tr>\n",
       "    <tr>\n",
       "      <th>1148</th>\n",
       "      <td>1</td>\n",
       "      <td>0</td>\n",
       "      <td>1</td>\n",
       "      <td>1</td>\n",
       "      <td>-657.198904</td>\n",
       "      <td>311.645744</td>\n",
       "      <td>-8.143680</td>\n",
       "      <td>-0.046231</td>\n",
       "      <td>0.232758</td>\n",
       "      <td>-0.186527</td>\n",
       "      <td>4</td>\n",
       "      <td>Falla entre fase A,B y tierra</td>\n",
       "      <td>1</td>\n",
       "      <td>4</td>\n",
       "      <td>Falla entre fase A,B y tierra</td>\n",
       "    </tr>\n",
       "    <tr>\n",
       "      <th>7392</th>\n",
       "      <td>0</td>\n",
       "      <td>0</td>\n",
       "      <td>0</td>\n",
       "      <td>0</td>\n",
       "      <td>-59.825558</td>\n",
       "      <td>89.052154</td>\n",
       "      <td>-32.226050</td>\n",
       "      <td>-0.459204</td>\n",
       "      <td>-0.112793</td>\n",
       "      <td>0.571997</td>\n",
       "      <td>0</td>\n",
       "      <td>No hay falla</td>\n",
       "      <td>0</td>\n",
       "      <td>0</td>\n",
       "      <td>No hay falla</td>\n",
       "    </tr>\n",
       "  </tbody>\n",
       "</table>\n",
       "</div>"
      ],
      "text/plain": [
       "      G  C  B  A          Ia          Ib          Ic        Va        Vb  \\\n",
       "7807  0  0  0  0  -66.606246   80.008493  -16.284428 -0.350762 -0.247971   \n",
       "6008  0  0  0  0   50.219967  -13.145710  -40.500234  0.316192  0.295660   \n",
       "3479  0  1  1  1  820.788975 -702.347385 -116.294591  0.004155 -0.038662   \n",
       "1148  1  0  1  1 -657.198904  311.645744   -8.143680 -0.046231  0.232758   \n",
       "7392  0  0  0  0  -59.825558   89.052154  -32.226050 -0.459204 -0.112793   \n",
       "\n",
       "            Vc  target                          falla  target_binaria  \\\n",
       "7807  0.598733       0                   No hay falla               0   \n",
       "6008 -0.611852       0                   No hay falla               0   \n",
       "3479  0.034507       2       Falla en todas las fases               1   \n",
       "1148 -0.186527       4  Falla entre fase A,B y tierra               1   \n",
       "7392  0.571997       0                   No hay falla               0   \n",
       "\n",
       "      target_unif                     falla_unif  \n",
       "7807            0                   No hay falla  \n",
       "6008            0                   No hay falla  \n",
       "3479            2                    Falla Total  \n",
       "1148            4  Falla entre fase A,B y tierra  \n",
       "7392            0                   No hay falla  "
      ]
     },
     "execution_count": 590,
     "metadata": {},
     "output_type": "execute_result"
    }
   ],
   "source": [
    "df_unif = data.loc[:,['G','C','B','A']]\n",
    "target_unif = clasifier_fault_unification(df_unif)\n",
    "data['target_unif'] = target_unif\n",
    "data['falla_unif'] = data.target_unif.apply(lambda x: falla_unificacion(x))\n",
    "data['falla_unif'] = data.falla_unif.apply(lambda x: x[0])\n",
    "data.sample(5)"
   ]
  },
  {
   "cell_type": "code",
   "execution_count": 591,
   "id": "0554eb08",
   "metadata": {},
   "outputs": [
    {
     "data": {
      "text/plain": [
       "Int64Index([0, 1, 2, 3, 4], dtype='int64')"
      ]
     },
     "execution_count": 591,
     "metadata": {},
     "output_type": "execute_result"
    }
   ],
   "source": [
    "data.target_unif.value_counts().index.sort_values()"
   ]
  },
  {
   "cell_type": "code",
   "execution_count": 592,
   "id": "eed52737",
   "metadata": {},
   "outputs": [
    {
     "data": {
      "image/png": "[encoded data removed]",
      "text/plain": [
       "<Figure size 1296x864 with 6 Axes>"
      ]
     },
     "metadata": {
      "needs_background": "light"
     },
     "output_type": "display_data"
    }
   ],
   "source": [
    "dataplot2 = data[[\"Ia\",\"Ib\",\"Ic\",\"Va\",\"Vb\",\"Vc\",\"target_unif\"]]\n",
    "fig, axes = plt.subplots(nrows=3, ncols=2, figsize=(18,12))\n",
    "fig.suptitle('Boxplots normalizados')\n",
    "for c, ax in zip(dataplot2.columns[:-1], axes.flatten()):\n",
    "    sns.boxplot(y = dataplot2[c].dropna(), x = dataplot2.target_unif.dropna(),ax = ax)"
   ]
  },
  {
   "cell_type": "code",
   "execution_count": 593,
   "id": "a7b9f666",
   "metadata": {},
   "outputs": [
    {
     "data": {
      "image/png": "[encoded data removed]",
      "text/plain": [
       "<Figure size 1296x360 with 2 Axes>"
      ]
     },
     "metadata": {
      "needs_background": "light"
     },
     "output_type": "display_data"
    },
    {
     "data": {
      "image/png": "[encoded data removed]",
      "text/plain": [
       "<Figure size 1296x360 with 2 Axes>"
      ]
     },
     "metadata": {
      "needs_background": "light"
     },
     "output_type": "display_data"
    },
    {
     "data": {
      "image/png": "[encoded data removed]",
      "text/plain": [
       "<Figure size 1296x360 with 2 Axes>"
      ]
     },
     "metadata": {
      "needs_background": "light"
     },
     "output_type": "display_data"
    },
    {
     "data": {
      "image/png": "[encoded data removed]",
      "text/plain": [
       "<Figure size 1296x360 with 2 Axes>"
      ]
     },
     "metadata": {
      "needs_background": "light"
     },
     "output_type": "display_data"
    },
    {
     "data": {
      "image/png": "[encoded data removed]",
      "text/plain": [
       "<Figure size 1296x360 with 2 Axes>"
      ]
     },
     "metadata": {
      "needs_background": "light"
     },
     "output_type": "display_data"
    }
   ],
   "source": [
    "dataplot_corriente1 = data[[\"Ia\",\"Ib\",\"Ic\",\"target_unif\"]]\n",
    "dataplot_voltaje1 = data[[\"Va\",\"Vb\",\"Vc\",\"target_unif\"]]\n",
    "for y in data.target_unif.value_counts().index.sort_values():\n",
    "    fig, axes = plt.subplots(nrows=1, ncols=2, figsize=(18,5))\n",
    "    fig.suptitle('Boxplots normalizados para Target =%i'%y)\n",
    "    for i, ax in zip(range(1,3), axes.flatten()):\n",
    "        if i == 1:\n",
    "            sns.boxplot(x=\"variable\", y=\"value\", data=pd.melt(dataplot_corriente1.loc[dataplot_corriente1.target_unif == y,[\"Ia\",\"Ib\",\"Ic\"]]),ax = ax)\n",
    "        else:\n",
    "            sns.boxplot(x=\"variable\", y=\"value\", data=pd.melt(dataplot_voltaje1.loc[dataplot_voltaje1.target_unif == y,[\"Va\",\"Vb\",\"Vc\"]]),ax = ax)"
   ]
  },
  {
   "cell_type": "code",
   "execution_count": null,
   "id": "b917cbec",
   "metadata": {},
   "outputs": [],
   "source": []
  },
  {
   "cell_type": "markdown",
   "id": "d7dadab1",
   "metadata": {},
   "source": [
    "## Clasificación con unificación de fallas"
   ]
  },
  {
   "cell_type": "code",
   "execution_count": 594,
   "id": "dc3fcf4a",
   "metadata": {},
   "outputs": [],
   "source": [
    "X = data.loc[:,['Ia','Ib','Ic','Va','Vb','Vc']]\n",
    "y = data.target_unif"
   ]
  },
  {
   "cell_type": "code",
   "execution_count": 595,
   "id": "04352ee4",
   "metadata": {},
   "outputs": [],
   "source": [
    "X_train, X_test, y_train, y_test = train_test_split(X, y,stratify=y, random_state=0)"
   ]
  },
  {
   "cell_type": "code",
   "execution_count": 596,
   "id": "1736520b",
   "metadata": {},
   "outputs": [],
   "source": [
    "scaler = StandardScaler()\n",
    "X_train_scaler2 = scaler.fit_transform(X_train)\n",
    "X_test_scaler2 = scaler.transform(X_test)"
   ]
  },
  {
   "cell_type": "code",
   "execution_count": 597,
   "id": "881cff0f",
   "metadata": {},
   "outputs": [
    {
     "data": {
      "text/plain": [
       "KNeighborsClassifier()"
      ]
     },
     "execution_count": 597,
     "metadata": {},
     "output_type": "execute_result"
    }
   ],
   "source": [
    "knn = KNeighborsClassifier()\n",
    "knn.fit(X_train_scaler2, y_train)"
   ]
  },
  {
   "cell_type": "code",
   "execution_count": 598,
   "id": "4ac9d3cb",
   "metadata": {},
   "outputs": [],
   "source": [
    "y_pred_train = knn.predict(X_train_scaler2)"
   ]
  },
  {
   "cell_type": "code",
   "execution_count": 599,
   "id": "b6b3b2d0",
   "metadata": {},
   "outputs": [
    {
     "name": "stdout",
     "output_type": "stream",
     "text": [
      "0.9938931297709923\n"
     ]
    },
    {
     "data": {
      "text/plain": [
       "<AxesSubplot:>"
      ]
     },
     "execution_count": 599,
     "metadata": {},
     "output_type": "execute_result"
    },
    {
     "data": {
      "image/png": "[encoded data removed]",
      "text/plain": [
       "<Figure size 432x288 with 2 Axes>"
      ]
     },
     "metadata": {
      "needs_background": "light"
     },
     "output_type": "display_data"
    }
   ],
   "source": [
    "print(accuracy_score(y_train, y_pred_train))\n",
    "cm = confusion_matrix(y_train, y_pred_train)\n",
    "sns.heatmap(cm, annot=True,fmt='d')"
   ]
  },
  {
   "cell_type": "code",
   "execution_count": 600,
   "id": "20265f60",
   "metadata": {},
   "outputs": [
    {
     "name": "stdout",
     "output_type": "stream",
     "text": [
      "0.9908443540183113\n"
     ]
    },
    {
     "data": {
      "text/plain": [
       "<AxesSubplot:>"
      ]
     },
     "execution_count": 600,
     "metadata": {},
     "output_type": "execute_result"
    },
    {
     "data": {
      "image/png": "[encoded data removed]",
      "text/plain": [
       "<Figure size 432x288 with 2 Axes>"
      ]
     },
     "metadata": {
      "needs_background": "light"
     },
     "output_type": "display_data"
    }
   ],
   "source": [
    "y_pred_test = knn.predict(X_test_scaler2)\n",
    "print(accuracy_score(y_test, y_pred_test))\n",
    "cm = confusion_matrix(y_test, y_pred_test)\n",
    "sns.heatmap(cm, annot=True,fmt='d')"
   ]
  },
  {
   "cell_type": "code",
   "execution_count": 601,
   "id": "8982a710",
   "metadata": {},
   "outputs": [],
   "source": [
    "folds=StratifiedKFold(n_splits=10, random_state=0, shuffle=True)"
   ]
  },
  {
   "cell_type": "code",
   "execution_count": 602,
   "id": "fc958ed1",
   "metadata": {},
   "outputs": [],
   "source": [
    "grid2 = GridSearchCV(knn, param_grid, cv=folds, scoring='accuracy')"
   ]
  },
  {
   "cell_type": "code",
   "execution_count": 603,
   "id": "459e94d7",
   "metadata": {},
   "outputs": [
    {
     "data": {
      "text/plain": [
       "GridSearchCV(cv=StratifiedKFold(n_splits=10, random_state=0, shuffle=True),\n",
       "             estimator=KNeighborsClassifier(),\n",
       "             param_grid={'n_neighbors': [1, 2, 3, 4, 5, 6, 7, 8, 9, 10, 11, 12,\n",
       "                                         13, 14, 15, 16, 17, 18, 19, 20, 21, 22,\n",
       "                                         23, 24, 25, 26, 27, 28, 29, 30],\n",
       "                         'weights': ['uniform', 'distance']},\n",
       "             scoring='accuracy')"
      ]
     },
     "execution_count": 603,
     "metadata": {},
     "output_type": "execute_result"
    }
   ],
   "source": [
    "grid2.fit(X_train_scaler2, y_train)"
   ]
  },
  {
   "cell_type": "code",
   "execution_count": 604,
   "id": "54ca712b",
   "metadata": {},
   "outputs": [
    {
     "data": {
      "text/html": [
       "<div>\n",
       "<style scoped>\n",
       "    .dataframe tbody tr th:only-of-type {\n",
       "        vertical-align: middle;\n",
       "    }\n",
       "\n",
       "    .dataframe tbody tr th {\n",
       "        vertical-align: top;\n",
       "    }\n",
       "\n",
       "    .dataframe thead th {\n",
       "        text-align: right;\n",
       "    }\n",
       "</style>\n",
       "<table border=\"1\" class=\"dataframe\">\n",
       "  <thead>\n",
       "    <tr style=\"text-align: right;\">\n",
       "      <th></th>\n",
       "      <th>mean_fit_time</th>\n",
       "      <th>std_fit_time</th>\n",
       "      <th>mean_score_time</th>\n",
       "      <th>std_score_time</th>\n",
       "      <th>param_n_neighbors</th>\n",
       "      <th>param_weights</th>\n",
       "      <th>params</th>\n",
       "      <th>split0_test_score</th>\n",
       "      <th>split1_test_score</th>\n",
       "      <th>split2_test_score</th>\n",
       "      <th>split3_test_score</th>\n",
       "      <th>split4_test_score</th>\n",
       "      <th>split5_test_score</th>\n",
       "      <th>split6_test_score</th>\n",
       "      <th>split7_test_score</th>\n",
       "      <th>split8_test_score</th>\n",
       "      <th>split9_test_score</th>\n",
       "      <th>mean_test_score</th>\n",
       "      <th>std_test_score</th>\n",
       "      <th>rank_test_score</th>\n",
       "    </tr>\n",
       "  </thead>\n",
       "  <tbody>\n",
       "    <tr>\n",
       "      <th>0</th>\n",
       "      <td>0.012279</td>\n",
       "      <td>0.004643</td>\n",
       "      <td>0.031947</td>\n",
       "      <td>0.010145</td>\n",
       "      <td>1</td>\n",
       "      <td>uniform</td>\n",
       "      <td>{'n_neighbors': 1, 'weights': 'uniform'}</td>\n",
       "      <td>0.996610</td>\n",
       "      <td>0.991525</td>\n",
       "      <td>0.996610</td>\n",
       "      <td>0.993220</td>\n",
       "      <td>0.994915</td>\n",
       "      <td>0.996604</td>\n",
       "      <td>0.998302</td>\n",
       "      <td>0.996604</td>\n",
       "      <td>0.998302</td>\n",
       "      <td>0.998302</td>\n",
       "      <td>0.996100</td>\n",
       "      <td>0.002149</td>\n",
       "      <td>1</td>\n",
       "    </tr>\n",
       "    <tr>\n",
       "      <th>1</th>\n",
       "      <td>0.012000</td>\n",
       "      <td>0.004000</td>\n",
       "      <td>0.005000</td>\n",
       "      <td>0.005000</td>\n",
       "      <td>1</td>\n",
       "      <td>distance</td>\n",
       "      <td>{'n_neighbors': 1, 'weights': 'distance'}</td>\n",
       "      <td>0.996610</td>\n",
       "      <td>0.991525</td>\n",
       "      <td>0.996610</td>\n",
       "      <td>0.993220</td>\n",
       "      <td>0.994915</td>\n",
       "      <td>0.996604</td>\n",
       "      <td>0.998302</td>\n",
       "      <td>0.996604</td>\n",
       "      <td>0.998302</td>\n",
       "      <td>0.998302</td>\n",
       "      <td>0.996100</td>\n",
       "      <td>0.002149</td>\n",
       "      <td>1</td>\n",
       "    </tr>\n",
       "    <tr>\n",
       "      <th>2</th>\n",
       "      <td>0.011999</td>\n",
       "      <td>0.004000</td>\n",
       "      <td>0.032000</td>\n",
       "      <td>0.004000</td>\n",
       "      <td>2</td>\n",
       "      <td>uniform</td>\n",
       "      <td>{'n_neighbors': 2, 'weights': 'uniform'}</td>\n",
       "      <td>0.993220</td>\n",
       "      <td>0.991525</td>\n",
       "      <td>0.996610</td>\n",
       "      <td>0.991525</td>\n",
       "      <td>0.993220</td>\n",
       "      <td>0.996604</td>\n",
       "      <td>0.996604</td>\n",
       "      <td>0.996604</td>\n",
       "      <td>0.996604</td>\n",
       "      <td>0.998302</td>\n",
       "      <td>0.995082</td>\n",
       "      <td>0.002328</td>\n",
       "      <td>4</td>\n",
       "    </tr>\n",
       "    <tr>\n",
       "      <th>3</th>\n",
       "      <td>0.012996</td>\n",
       "      <td>0.004585</td>\n",
       "      <td>0.007004</td>\n",
       "      <td>0.004585</td>\n",
       "      <td>2</td>\n",
       "      <td>distance</td>\n",
       "      <td>{'n_neighbors': 2, 'weights': 'distance'}</td>\n",
       "      <td>0.996610</td>\n",
       "      <td>0.991525</td>\n",
       "      <td>0.996610</td>\n",
       "      <td>0.993220</td>\n",
       "      <td>0.994915</td>\n",
       "      <td>0.996604</td>\n",
       "      <td>0.998302</td>\n",
       "      <td>0.996604</td>\n",
       "      <td>0.998302</td>\n",
       "      <td>0.998302</td>\n",
       "      <td>0.996100</td>\n",
       "      <td>0.002149</td>\n",
       "      <td>1</td>\n",
       "    </tr>\n",
       "    <tr>\n",
       "      <th>4</th>\n",
       "      <td>0.014994</td>\n",
       "      <td>0.004996</td>\n",
       "      <td>0.045151</td>\n",
       "      <td>0.045862</td>\n",
       "      <td>3</td>\n",
       "      <td>uniform</td>\n",
       "      <td>{'n_neighbors': 3, 'weights': 'uniform'}</td>\n",
       "      <td>0.991525</td>\n",
       "      <td>0.991525</td>\n",
       "      <td>0.994915</td>\n",
       "      <td>0.986441</td>\n",
       "      <td>0.988136</td>\n",
       "      <td>0.994907</td>\n",
       "      <td>0.996604</td>\n",
       "      <td>0.993209</td>\n",
       "      <td>0.994907</td>\n",
       "      <td>0.993209</td>\n",
       "      <td>0.992538</td>\n",
       "      <td>0.003048</td>\n",
       "      <td>7</td>\n",
       "    </tr>\n",
       "  </tbody>\n",
       "</table>\n",
       "</div>"
      ],
      "text/plain": [
       "   mean_fit_time  std_fit_time  mean_score_time  std_score_time  \\\n",
       "0       0.012279      0.004643         0.031947        0.010145   \n",
       "1       0.012000      0.004000         0.005000        0.005000   \n",
       "2       0.011999      0.004000         0.032000        0.004000   \n",
       "3       0.012996      0.004585         0.007004        0.004585   \n",
       "4       0.014994      0.004996         0.045151        0.045862   \n",
       "\n",
       "  param_n_neighbors param_weights                                     params  \\\n",
       "0                 1       uniform   {'n_neighbors': 1, 'weights': 'uniform'}   \n",
       "1                 1      distance  {'n_neighbors': 1, 'weights': 'distance'}   \n",
       "2                 2       uniform   {'n_neighbors': 2, 'weights': 'uniform'}   \n",
       "3                 2      distance  {'n_neighbors': 2, 'weights': 'distance'}   \n",
       "4                 3       uniform   {'n_neighbors': 3, 'weights': 'uniform'}   \n",
       "\n",
       "   split0_test_score  split1_test_score  split2_test_score  split3_test_score  \\\n",
       "0           0.996610           0.991525           0.996610           0.993220   \n",
       "1           0.996610           0.991525           0.996610           0.993220   \n",
       "2           0.993220           0.991525           0.996610           0.991525   \n",
       "3           0.996610           0.991525           0.996610           0.993220   \n",
       "4           0.991525           0.991525           0.994915           0.986441   \n",
       "\n",
       "   split4_test_score  split5_test_score  split6_test_score  split7_test_score  \\\n",
       "0           0.994915           0.996604           0.998302           0.996604   \n",
       "1           0.994915           0.996604           0.998302           0.996604   \n",
       "2           0.993220           0.996604           0.996604           0.996604   \n",
       "3           0.994915           0.996604           0.998302           0.996604   \n",
       "4           0.988136           0.994907           0.996604           0.993209   \n",
       "\n",
       "   split8_test_score  split9_test_score  mean_test_score  std_test_score  \\\n",
       "0           0.998302           0.998302         0.996100        0.002149   \n",
       "1           0.998302           0.998302         0.996100        0.002149   \n",
       "2           0.996604           0.998302         0.995082        0.002328   \n",
       "3           0.998302           0.998302         0.996100        0.002149   \n",
       "4           0.994907           0.993209         0.992538        0.003048   \n",
       "\n",
       "   rank_test_score  \n",
       "0                1  \n",
       "1                1  \n",
       "2                4  \n",
       "3                1  \n",
       "4                7  "
      ]
     },
     "execution_count": 604,
     "metadata": {},
     "output_type": "execute_result"
    }
   ],
   "source": [
    "pd.DataFrame(grid2.cv_results_).head()"
   ]
  },
  {
   "cell_type": "code",
   "execution_count": 605,
   "id": "b191396b",
   "metadata": {},
   "outputs": [
    {
     "data": {
      "text/plain": [
       "KNeighborsClassifier(n_neighbors=1)"
      ]
     },
     "execution_count": 605,
     "metadata": {},
     "output_type": "execute_result"
    }
   ],
   "source": [
    "grid2.best_estimator_"
   ]
  },
  {
   "cell_type": "code",
   "execution_count": 606,
   "id": "208be9d2",
   "metadata": {},
   "outputs": [
    {
     "data": {
      "text/plain": [
       "0.9960996805847312"
      ]
     },
     "execution_count": 606,
     "metadata": {},
     "output_type": "execute_result"
    }
   ],
   "source": [
    "grid2.best_score_"
   ]
  },
  {
   "cell_type": "code",
   "execution_count": 607,
   "id": "b4a86b57",
   "metadata": {},
   "outputs": [
    {
     "data": {
      "text/plain": [
       "{'n_neighbors': 1, 'weights': 'uniform'}"
      ]
     },
     "execution_count": 607,
     "metadata": {},
     "output_type": "execute_result"
    }
   ],
   "source": [
    "grid2.best_params_"
   ]
  },
  {
   "cell_type": "code",
   "execution_count": 608,
   "id": "4b9cfc8c",
   "metadata": {},
   "outputs": [],
   "source": [
    "y_pred_grid2 = grid2.predict(X_test_scaler2)"
   ]
  },
  {
   "cell_type": "code",
   "execution_count": 609,
   "id": "045de7c7",
   "metadata": {},
   "outputs": [
    {
     "name": "stdout",
     "output_type": "stream",
     "text": [
      "                               precision    recall  f1-score   support\n",
      "\n",
      "                     No Falla       1.00      1.00      1.00       592\n",
      "  Falla entre fase A y fase B       1.00      1.00      1.00       251\n",
      "                  Falla Total       1.00      1.00      1.00       557\n",
      "  Falla entre fase A y tierra       0.97      1.00      0.99       282\n",
      "Falla entre fase A,B y tierra       1.00      0.97      0.99       284\n",
      "\n",
      "                     accuracy                           1.00      1966\n",
      "                    macro avg       0.99      0.99      0.99      1966\n",
      "                 weighted avg       1.00      1.00      1.00      1966\n",
      "\n"
     ]
    }
   ],
   "source": [
    "target_names = ['No Falla','Falla entre fase A y fase B','Falla Total',\n",
    "                'Falla entre fase A y tierra','Falla entre fase A,B y tierra']\n",
    "print(classification_report(y_test, y_pred_grid2,target_names=target_names))"
   ]
  },
  {
   "cell_type": "code",
   "execution_count": 610,
   "id": "b9ea79ab",
   "metadata": {},
   "outputs": [
    {
     "data": {
      "text/plain": [
       "<AxesSubplot:>"
      ]
     },
     "execution_count": 610,
     "metadata": {},
     "output_type": "execute_result"
    },
    {
     "data": {
      "image/png": "[encoded data removed]",
      "text/plain": [
       "<Figure size 432x288 with 2 Axes>"
      ]
     },
     "metadata": {
      "needs_background": "light"
     },
     "output_type": "display_data"
    }
   ],
   "source": [
    "confusion = confusion_matrix(y_test, y_pred_grid2)\n",
    "sns.heatmap(confusion, annot=True,fmt='d')"
   ]
  },
  {
   "cell_type": "markdown",
   "id": "96535ca9",
   "metadata": {},
   "source": [
    "# Regresión Logística"
   ]
  },
  {
   "cell_type": "code",
   "execution_count": 611,
   "id": "e3e8649e-70aa-462b-98f7-6e6025a43d4d",
   "metadata": {},
   "outputs": [],
   "source": [
    "#y = data.target_binaria\n",
    "y = data.target_unif\n",
    "X_train, X_test, y_train, y_test = train_test_split(X, y,stratify=y, random_state=0)\n",
    "scaler = StandardScaler()\n",
    "X_train_scaler2 = scaler.fit_transform(X_train)\n",
    "X_test_scaler2 = scaler.transform(X_test)"
   ]
  },
  {
   "cell_type": "code",
   "execution_count": 612,
   "id": "9d777620",
   "metadata": {},
   "outputs": [
    {
     "data": {
      "text/plain": [
       "LogisticRegression()"
      ]
     },
     "execution_count": 612,
     "metadata": {},
     "output_type": "execute_result"
    }
   ],
   "source": [
    "from sklearn.linear_model import LogisticRegression\n",
    "#from sklearn.naive_bayes import MultinomialNB\n",
    "#instancio el modelo\n",
    "dic = { 0:0.3008, 1:0.1277 , 2:0.2835, 3:0.1436, 4:0.1442} \n",
    "logistic_regression = LogisticRegression() #class_weight=dic\n",
    "#nb_multiclass = MultinomialNB()\n",
    "# Ajustamos el modelo\n",
    "logistic_regression.fit(X_train_scaler2, y_train)\n",
    "#nb_multiclass.fit(X_train_scaler2, y_train)"
   ]
  },
  {
   "cell_type": "code",
   "execution_count": 613,
   "id": "43d7ef34",
   "metadata": {},
   "outputs": [
    {
     "name": "stdout",
     "output_type": "stream",
     "text": [
      "0.3891433418150975\n",
      "[[0.41292458 0.09371625 0.18864906 0.16451556 0.14019454]\n",
      " [0.33763435 0.12411639 0.23596862 0.17168517 0.13059547]\n",
      " [0.23333834 0.12963336 0.29936428 0.12612847 0.21153556]\n",
      " ...\n",
      " [0.38540097 0.11699196 0.24673057 0.16931595 0.08156055]\n",
      " [0.44247121 0.07632596 0.14777945 0.17355281 0.15987057]\n",
      " [0.18032194 0.17347045 0.42016739 0.10594061 0.1200996 ]]\n"
     ]
    },
    {
     "data": {
      "text/plain": [
       "array([0, 0, 2, ..., 0, 0, 2], dtype=int64)"
      ]
     },
     "execution_count": 613,
     "metadata": {},
     "output_type": "execute_result"
    },
    {
     "data": {
      "image/png": "[encoded data removed]",
      "text/plain": [
       "<Figure size 432x288 with 2 Axes>"
      ]
     },
     "metadata": {
      "needs_background": "light"
     },
     "output_type": "display_data"
    }
   ],
   "source": [
    "y_pred_train_lr_proba = logistic_regression.predict_proba(X_train_scaler2)\n",
    "preds = np.where(y_pred_train_lr_proba[:,1] > 0.6, 1, 0)\n",
    "y_pred_train_lr = logistic_regression.predict(X_train_scaler2)\n",
    "print(accuracy_score(y_train, y_pred_train_lr))\n",
    "cm_train_lr = confusion_matrix(y_train, y_pred_train_lr)\n",
    "sns.heatmap(cm_train_lr, annot=True,fmt='d')\n",
    "plt.ylabel('Verdaderos')\n",
    "plt.xlabel('Predichos');\n",
    "print(y_pred_train_lr_proba)\n",
    "y_pred_train_lr"
   ]
  },
  {
   "cell_type": "code",
   "execution_count": 614,
   "id": "4811040c-84d7-4d32-b359-f7b980de2a8f",
   "metadata": {},
   "outputs": [
    {
     "name": "stdout",
     "output_type": "stream",
     "text": [
      "              precision    recall  f1-score   support\n",
      "\n",
      "           0       0.38      0.65      0.48      1773\n",
      "           1       0.00      0.00      0.00       753\n",
      "           2       0.37      0.61      0.46      1672\n",
      "           3       0.00      0.00      0.00       847\n",
      "           4       1.00      0.14      0.25       850\n",
      "\n",
      "    accuracy                           0.39      5895\n",
      "   macro avg       0.35      0.28      0.24      5895\n",
      "weighted avg       0.36      0.39      0.31      5895\n",
      "\n"
     ]
    },
    {
     "name": "stderr",
     "output_type": "stream",
     "text": [
      "D:\\Users\\Lean\\anaconda3\\lib\\site-packages\\sklearn\\metrics\\_classification.py:1245: UndefinedMetricWarning: Precision and F-score are ill-defined and being set to 0.0 in labels with no predicted samples. Use `zero_division` parameter to control this behavior.\n",
      "  _warn_prf(average, modifier, msg_start, len(result))\n",
      "D:\\Users\\Lean\\anaconda3\\lib\\site-packages\\sklearn\\metrics\\_classification.py:1245: UndefinedMetricWarning: Precision and F-score are ill-defined and being set to 0.0 in labels with no predicted samples. Use `zero_division` parameter to control this behavior.\n",
      "  _warn_prf(average, modifier, msg_start, len(result))\n",
      "D:\\Users\\Lean\\anaconda3\\lib\\site-packages\\sklearn\\metrics\\_classification.py:1245: UndefinedMetricWarning: Precision and F-score are ill-defined and being set to 0.0 in labels with no predicted samples. Use `zero_division` parameter to control this behavior.\n",
      "  _warn_prf(average, modifier, msg_start, len(result))\n"
     ]
    }
   ],
   "source": [
    "print(classification_report(y_train, y_pred_train_lr))"
   ]
  },
  {
   "cell_type": "code",
   "execution_count": 615,
   "id": "7f9ae466",
   "metadata": {},
   "outputs": [
    {
     "name": "stdout",
     "output_type": "stream",
     "text": [
      "0.36775178026449645\n"
     ]
    },
    {
     "data": {
      "text/plain": [
       "<AxesSubplot:>"
      ]
     },
     "execution_count": 615,
     "metadata": {},
     "output_type": "execute_result"
    },
    {
     "data": {
      "image/png": "[encoded data removed]",
      "text/plain": [
       "<Figure size 432x288 with 2 Axes>"
      ]
     },
     "metadata": {
      "needs_background": "light"
     },
     "output_type": "display_data"
    }
   ],
   "source": [
    "y_pred_test_lr = logistic_regression.predict(X_test_scaler2)\n",
    "print(accuracy_score(y_test, y_pred_test_lr))\n",
    "cm_test_lr = confusion_matrix(y_test, y_pred_test_lr)\n",
    "sns.heatmap(cm_test_lr, annot=True,fmt='d')"
   ]
  },
  {
   "cell_type": "code",
   "execution_count": 616,
   "id": "881c299e",
   "metadata": {},
   "outputs": [],
   "source": [
    "#y_pred_train_nb = nb_multiclass.predict(X_train_scaler2)\n",
    "#print(accuracy_score(y_train, y_pred_train_nb))\n",
    "#cm_train_nb = confusion_matrix(y_train, y_pred_train_nb)\n",
    "#sns.heatmap(cm_train_nb, annot=True,fmt='d')\n",
    "#plt.ylabel('Verdaderos')\n",
    "#plt.xlabel('Predichos');"
   ]
  },
  {
   "cell_type": "code",
   "execution_count": 617,
   "id": "1ff65784-82ba-4a81-b963-4261824fb10f",
   "metadata": {},
   "outputs": [],
   "source": [
    "#y_pred_test_nb = nb_multiclass.predict(X_test_scaler2)\n",
    "#print(accuracy_score(y_train, y_pred_test_nb))\n",
    "#cm_test_nb = confusion_matrix(y_train, y_pred_test_nb)\n",
    "#sns.heatmap(cm_test_nb, annot=True,fmt='d')\n",
    "#plt.ylabel('Verdaderos')\n",
    "#plt.xlabel('Predichos');"
   ]
  }
 ],
 "metadata": {
  "kernelspec": {
   "display_name": "Python 3",
   "language": "python",
   "name": "python3"
  },
  "language_info": {
   "codemirror_mode": {
    "name": "ipython",
    "version": 3
   },
   "file_extension": ".py",
   "mimetype": "text/x-python",
   "name": "python",
   "nbconvert_exporter": "python",
   "pygments_lexer": "ipython3",
   "version": "3.8.5"
  }
 },
 "nbformat": 4,
 "nbformat_minor": 5
}
