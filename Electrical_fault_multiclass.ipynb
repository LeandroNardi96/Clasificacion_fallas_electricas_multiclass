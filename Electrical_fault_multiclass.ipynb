{
 "cells": [
  {
   "cell_type": "code",
   "execution_count": 64,
   "id": "563f3fc1",
   "metadata": {},
   "outputs": [],
   "source": [
    "import numpy as np\n",
    "import pandas as pd\n",
    "import seaborn as sns\n",
    "import matplotlib.pyplot as plt\n",
    "import seaborn as sns"
   ]
  },
  {
   "cell_type": "code",
   "execution_count": 65,
   "id": "f0f7a6f6",
   "metadata": {},
   "outputs": [
    {
     "data": {
      "text/html": [
       "<div>\n",
       "<style scoped>\n",
       "    .dataframe tbody tr th:only-of-type {\n",
       "        vertical-align: middle;\n",
       "    }\n",
       "\n",
       "    .dataframe tbody tr th {\n",
       "        vertical-align: top;\n",
       "    }\n",
       "\n",
       "    .dataframe thead th {\n",
       "        text-align: right;\n",
       "    }\n",
       "</style>\n",
       "<table border=\"1\" class=\"dataframe\">\n",
       "  <thead>\n",
       "    <tr style=\"text-align: right;\">\n",
       "      <th></th>\n",
       "      <th>G</th>\n",
       "      <th>C</th>\n",
       "      <th>B</th>\n",
       "      <th>A</th>\n",
       "      <th>Ia</th>\n",
       "      <th>Ib</th>\n",
       "      <th>Ic</th>\n",
       "      <th>Va</th>\n",
       "      <th>Vb</th>\n",
       "      <th>Vc</th>\n",
       "    </tr>\n",
       "  </thead>\n",
       "  <tbody>\n",
       "    <tr>\n",
       "      <th>0</th>\n",
       "      <td>1</td>\n",
       "      <td>0</td>\n",
       "      <td>0</td>\n",
       "      <td>1</td>\n",
       "      <td>-151.291812</td>\n",
       "      <td>-9.677452</td>\n",
       "      <td>85.800162</td>\n",
       "      <td>0.400750</td>\n",
       "      <td>-0.132935</td>\n",
       "      <td>-0.267815</td>\n",
       "    </tr>\n",
       "    <tr>\n",
       "      <th>1</th>\n",
       "      <td>1</td>\n",
       "      <td>0</td>\n",
       "      <td>0</td>\n",
       "      <td>1</td>\n",
       "      <td>-336.186183</td>\n",
       "      <td>-76.283262</td>\n",
       "      <td>18.328897</td>\n",
       "      <td>0.312732</td>\n",
       "      <td>-0.123633</td>\n",
       "      <td>-0.189099</td>\n",
       "    </tr>\n",
       "    <tr>\n",
       "      <th>2</th>\n",
       "      <td>1</td>\n",
       "      <td>0</td>\n",
       "      <td>0</td>\n",
       "      <td>1</td>\n",
       "      <td>-502.891583</td>\n",
       "      <td>-174.648023</td>\n",
       "      <td>-80.924663</td>\n",
       "      <td>0.265728</td>\n",
       "      <td>-0.114301</td>\n",
       "      <td>-0.151428</td>\n",
       "    </tr>\n",
       "    <tr>\n",
       "      <th>3</th>\n",
       "      <td>1</td>\n",
       "      <td>0</td>\n",
       "      <td>0</td>\n",
       "      <td>1</td>\n",
       "      <td>-593.941905</td>\n",
       "      <td>-217.703359</td>\n",
       "      <td>-124.891924</td>\n",
       "      <td>0.235511</td>\n",
       "      <td>-0.104940</td>\n",
       "      <td>-0.130570</td>\n",
       "    </tr>\n",
       "    <tr>\n",
       "      <th>4</th>\n",
       "      <td>1</td>\n",
       "      <td>0</td>\n",
       "      <td>0</td>\n",
       "      <td>1</td>\n",
       "      <td>-643.663617</td>\n",
       "      <td>-224.159427</td>\n",
       "      <td>-132.282815</td>\n",
       "      <td>0.209537</td>\n",
       "      <td>-0.095554</td>\n",
       "      <td>-0.113983</td>\n",
       "    </tr>\n",
       "    <tr>\n",
       "      <th>...</th>\n",
       "      <td>...</td>\n",
       "      <td>...</td>\n",
       "      <td>...</td>\n",
       "      <td>...</td>\n",
       "      <td>...</td>\n",
       "      <td>...</td>\n",
       "      <td>...</td>\n",
       "      <td>...</td>\n",
       "      <td>...</td>\n",
       "      <td>...</td>\n",
       "    </tr>\n",
       "    <tr>\n",
       "      <th>7856</th>\n",
       "      <td>0</td>\n",
       "      <td>0</td>\n",
       "      <td>0</td>\n",
       "      <td>0</td>\n",
       "      <td>-66.237921</td>\n",
       "      <td>38.457041</td>\n",
       "      <td>24.912239</td>\n",
       "      <td>0.094421</td>\n",
       "      <td>-0.552019</td>\n",
       "      <td>0.457598</td>\n",
       "    </tr>\n",
       "    <tr>\n",
       "      <th>7857</th>\n",
       "      <td>0</td>\n",
       "      <td>0</td>\n",
       "      <td>0</td>\n",
       "      <td>0</td>\n",
       "      <td>-65.849493</td>\n",
       "      <td>37.465454</td>\n",
       "      <td>25.515675</td>\n",
       "      <td>0.103778</td>\n",
       "      <td>-0.555186</td>\n",
       "      <td>0.451407</td>\n",
       "    </tr>\n",
       "    <tr>\n",
       "      <th>7858</th>\n",
       "      <td>0</td>\n",
       "      <td>0</td>\n",
       "      <td>0</td>\n",
       "      <td>0</td>\n",
       "      <td>-65.446698</td>\n",
       "      <td>36.472055</td>\n",
       "      <td>26.106554</td>\n",
       "      <td>0.113107</td>\n",
       "      <td>-0.558211</td>\n",
       "      <td>0.445104</td>\n",
       "    </tr>\n",
       "    <tr>\n",
       "      <th>7859</th>\n",
       "      <td>0</td>\n",
       "      <td>0</td>\n",
       "      <td>0</td>\n",
       "      <td>0</td>\n",
       "      <td>-65.029633</td>\n",
       "      <td>35.477088</td>\n",
       "      <td>26.684731</td>\n",
       "      <td>0.122404</td>\n",
       "      <td>-0.561094</td>\n",
       "      <td>0.438690</td>\n",
       "    </tr>\n",
       "    <tr>\n",
       "      <th>7860</th>\n",
       "      <td>0</td>\n",
       "      <td>0</td>\n",
       "      <td>0</td>\n",
       "      <td>0</td>\n",
       "      <td>-64.598401</td>\n",
       "      <td>34.480799</td>\n",
       "      <td>27.250065</td>\n",
       "      <td>0.131669</td>\n",
       "      <td>-0.563835</td>\n",
       "      <td>0.432166</td>\n",
       "    </tr>\n",
       "  </tbody>\n",
       "</table>\n",
       "<p>7861 rows × 10 columns</p>\n",
       "</div>"
      ],
      "text/plain": [
       "      G  C  B  A          Ia          Ib          Ic        Va        Vb  \\\n",
       "0     1  0  0  1 -151.291812   -9.677452   85.800162  0.400750 -0.132935   \n",
       "1     1  0  0  1 -336.186183  -76.283262   18.328897  0.312732 -0.123633   \n",
       "2     1  0  0  1 -502.891583 -174.648023  -80.924663  0.265728 -0.114301   \n",
       "3     1  0  0  1 -593.941905 -217.703359 -124.891924  0.235511 -0.104940   \n",
       "4     1  0  0  1 -643.663617 -224.159427 -132.282815  0.209537 -0.095554   \n",
       "...  .. .. .. ..         ...         ...         ...       ...       ...   \n",
       "7856  0  0  0  0  -66.237921   38.457041   24.912239  0.094421 -0.552019   \n",
       "7857  0  0  0  0  -65.849493   37.465454   25.515675  0.103778 -0.555186   \n",
       "7858  0  0  0  0  -65.446698   36.472055   26.106554  0.113107 -0.558211   \n",
       "7859  0  0  0  0  -65.029633   35.477088   26.684731  0.122404 -0.561094   \n",
       "7860  0  0  0  0  -64.598401   34.480799   27.250065  0.131669 -0.563835   \n",
       "\n",
       "            Vc  \n",
       "0    -0.267815  \n",
       "1    -0.189099  \n",
       "2    -0.151428  \n",
       "3    -0.130570  \n",
       "4    -0.113983  \n",
       "...        ...  \n",
       "7856  0.457598  \n",
       "7857  0.451407  \n",
       "7858  0.445104  \n",
       "7859  0.438690  \n",
       "7860  0.432166  \n",
       "\n",
       "[7861 rows x 10 columns]"
      ]
     },
     "execution_count": 65,
     "metadata": {},
     "output_type": "execute_result"
    }
   ],
   "source": [
    "data = pd.read_csv('classData.csv')\n",
    "data"
   ]
  },
  {
   "cell_type": "code",
   "execution_count": 66,
   "id": "f5bc53a5",
   "metadata": {},
   "outputs": [
    {
     "data": {
      "text/plain": [
       "G     0\n",
       "C     0\n",
       "B     0\n",
       "A     0\n",
       "Ia    0\n",
       "Ib    0\n",
       "Ic    0\n",
       "Va    0\n",
       "Vb    0\n",
       "Vc    0\n",
       "dtype: int64"
      ]
     },
     "execution_count": 66,
     "metadata": {},
     "output_type": "execute_result"
    }
   ],
   "source": [
    "data_null = data.isnull().sum()\n",
    "data_null"
   ]
  },
  {
   "cell_type": "code",
   "execution_count": 67,
   "id": "ef149029",
   "metadata": {},
   "outputs": [
    {
     "name": "stdout",
     "output_type": "stream",
     "text": [
      "   G  C  B  A\n",
      "0  1  0  0  1\n"
     ]
    },
    {
     "data": {
      "text/plain": [
       "0    1\n",
       "Name: A, dtype: int64"
      ]
     },
     "execution_count": 67,
     "metadata": {},
     "output_type": "execute_result"
    }
   ],
   "source": [
    "prueba = data.loc[:,['G','C','B','A']]\n",
    "hola = prueba.sample(10)\n",
    "print(prueba.iloc[0:1])\n",
    "prueba.iloc[0:1,3]"
   ]
  },
  {
   "cell_type": "code",
   "execution_count": 68,
   "id": "157ca78f",
   "metadata": {},
   "outputs": [],
   "source": [
    "def clasifier_fault(data):\n",
    "    target = []\n",
    "    for i in range(0,len(data)):\n",
    "        c = data.iloc[i:int(i+1)].to_numpy().flatten()\n",
    "        if c[0] == 0 and c[1] == 0 and c[2]==0 and c[3]==0:\n",
    "            target.append(0)\n",
    "        elif c[0] == 0 and c[1] == 1 and c[2]==1 and c[3]==0: \n",
    "             target.append(1)\n",
    "        elif c[0] == 0 and c[1] == 1 and c[2]==1 and c[3]==1: \n",
    "             target.append(2)\n",
    "        elif c[0] == 1 and c[1] == 0 and c[2]==0 and c[3]==1: \n",
    "             target.append(3)\n",
    "        elif c[0] == 1 and c[1] == 0 and c[2]==1 and c[3]==1: \n",
    "             target.append(4)\n",
    "        elif c[0] == 1 and c[1] == 1 and c[2]==1 and c[3]==1: \n",
    "             target.append(5)\n",
    "    return target"
   ]
  },
  {
   "cell_type": "code",
   "execution_count": 69,
   "id": "7b09f53b",
   "metadata": {},
   "outputs": [
    {
     "data": {
      "text/html": [
       "<div>\n",
       "<style scoped>\n",
       "    .dataframe tbody tr th:only-of-type {\n",
       "        vertical-align: middle;\n",
       "    }\n",
       "\n",
       "    .dataframe tbody tr th {\n",
       "        vertical-align: top;\n",
       "    }\n",
       "\n",
       "    .dataframe thead th {\n",
       "        text-align: right;\n",
       "    }\n",
       "</style>\n",
       "<table border=\"1\" class=\"dataframe\">\n",
       "  <thead>\n",
       "    <tr style=\"text-align: right;\">\n",
       "      <th></th>\n",
       "      <th>G</th>\n",
       "      <th>C</th>\n",
       "      <th>B</th>\n",
       "      <th>A</th>\n",
       "      <th>Ia</th>\n",
       "      <th>Ib</th>\n",
       "      <th>Ic</th>\n",
       "      <th>Va</th>\n",
       "      <th>Vb</th>\n",
       "      <th>Vc</th>\n",
       "      <th>target</th>\n",
       "    </tr>\n",
       "  </thead>\n",
       "  <tbody>\n",
       "    <tr>\n",
       "      <th>0</th>\n",
       "      <td>1</td>\n",
       "      <td>0</td>\n",
       "      <td>0</td>\n",
       "      <td>1</td>\n",
       "      <td>-151.291812</td>\n",
       "      <td>-9.677452</td>\n",
       "      <td>85.800162</td>\n",
       "      <td>0.400750</td>\n",
       "      <td>-0.132935</td>\n",
       "      <td>-0.267815</td>\n",
       "      <td>3</td>\n",
       "    </tr>\n",
       "    <tr>\n",
       "      <th>1</th>\n",
       "      <td>1</td>\n",
       "      <td>0</td>\n",
       "      <td>0</td>\n",
       "      <td>1</td>\n",
       "      <td>-336.186183</td>\n",
       "      <td>-76.283262</td>\n",
       "      <td>18.328897</td>\n",
       "      <td>0.312732</td>\n",
       "      <td>-0.123633</td>\n",
       "      <td>-0.189099</td>\n",
       "      <td>3</td>\n",
       "    </tr>\n",
       "    <tr>\n",
       "      <th>2</th>\n",
       "      <td>1</td>\n",
       "      <td>0</td>\n",
       "      <td>0</td>\n",
       "      <td>1</td>\n",
       "      <td>-502.891583</td>\n",
       "      <td>-174.648023</td>\n",
       "      <td>-80.924663</td>\n",
       "      <td>0.265728</td>\n",
       "      <td>-0.114301</td>\n",
       "      <td>-0.151428</td>\n",
       "      <td>3</td>\n",
       "    </tr>\n",
       "    <tr>\n",
       "      <th>3</th>\n",
       "      <td>1</td>\n",
       "      <td>0</td>\n",
       "      <td>0</td>\n",
       "      <td>1</td>\n",
       "      <td>-593.941905</td>\n",
       "      <td>-217.703359</td>\n",
       "      <td>-124.891924</td>\n",
       "      <td>0.235511</td>\n",
       "      <td>-0.104940</td>\n",
       "      <td>-0.130570</td>\n",
       "      <td>3</td>\n",
       "    </tr>\n",
       "    <tr>\n",
       "      <th>4</th>\n",
       "      <td>1</td>\n",
       "      <td>0</td>\n",
       "      <td>0</td>\n",
       "      <td>1</td>\n",
       "      <td>-643.663617</td>\n",
       "      <td>-224.159427</td>\n",
       "      <td>-132.282815</td>\n",
       "      <td>0.209537</td>\n",
       "      <td>-0.095554</td>\n",
       "      <td>-0.113983</td>\n",
       "      <td>3</td>\n",
       "    </tr>\n",
       "    <tr>\n",
       "      <th>...</th>\n",
       "      <td>...</td>\n",
       "      <td>...</td>\n",
       "      <td>...</td>\n",
       "      <td>...</td>\n",
       "      <td>...</td>\n",
       "      <td>...</td>\n",
       "      <td>...</td>\n",
       "      <td>...</td>\n",
       "      <td>...</td>\n",
       "      <td>...</td>\n",
       "      <td>...</td>\n",
       "    </tr>\n",
       "    <tr>\n",
       "      <th>7856</th>\n",
       "      <td>0</td>\n",
       "      <td>0</td>\n",
       "      <td>0</td>\n",
       "      <td>0</td>\n",
       "      <td>-66.237921</td>\n",
       "      <td>38.457041</td>\n",
       "      <td>24.912239</td>\n",
       "      <td>0.094421</td>\n",
       "      <td>-0.552019</td>\n",
       "      <td>0.457598</td>\n",
       "      <td>0</td>\n",
       "    </tr>\n",
       "    <tr>\n",
       "      <th>7857</th>\n",
       "      <td>0</td>\n",
       "      <td>0</td>\n",
       "      <td>0</td>\n",
       "      <td>0</td>\n",
       "      <td>-65.849493</td>\n",
       "      <td>37.465454</td>\n",
       "      <td>25.515675</td>\n",
       "      <td>0.103778</td>\n",
       "      <td>-0.555186</td>\n",
       "      <td>0.451407</td>\n",
       "      <td>0</td>\n",
       "    </tr>\n",
       "    <tr>\n",
       "      <th>7858</th>\n",
       "      <td>0</td>\n",
       "      <td>0</td>\n",
       "      <td>0</td>\n",
       "      <td>0</td>\n",
       "      <td>-65.446698</td>\n",
       "      <td>36.472055</td>\n",
       "      <td>26.106554</td>\n",
       "      <td>0.113107</td>\n",
       "      <td>-0.558211</td>\n",
       "      <td>0.445104</td>\n",
       "      <td>0</td>\n",
       "    </tr>\n",
       "    <tr>\n",
       "      <th>7859</th>\n",
       "      <td>0</td>\n",
       "      <td>0</td>\n",
       "      <td>0</td>\n",
       "      <td>0</td>\n",
       "      <td>-65.029633</td>\n",
       "      <td>35.477088</td>\n",
       "      <td>26.684731</td>\n",
       "      <td>0.122404</td>\n",
       "      <td>-0.561094</td>\n",
       "      <td>0.438690</td>\n",
       "      <td>0</td>\n",
       "    </tr>\n",
       "    <tr>\n",
       "      <th>7860</th>\n",
       "      <td>0</td>\n",
       "      <td>0</td>\n",
       "      <td>0</td>\n",
       "      <td>0</td>\n",
       "      <td>-64.598401</td>\n",
       "      <td>34.480799</td>\n",
       "      <td>27.250065</td>\n",
       "      <td>0.131669</td>\n",
       "      <td>-0.563835</td>\n",
       "      <td>0.432166</td>\n",
       "      <td>0</td>\n",
       "    </tr>\n",
       "  </tbody>\n",
       "</table>\n",
       "<p>7861 rows × 11 columns</p>\n",
       "</div>"
      ],
      "text/plain": [
       "      G  C  B  A          Ia          Ib          Ic        Va        Vb  \\\n",
       "0     1  0  0  1 -151.291812   -9.677452   85.800162  0.400750 -0.132935   \n",
       "1     1  0  0  1 -336.186183  -76.283262   18.328897  0.312732 -0.123633   \n",
       "2     1  0  0  1 -502.891583 -174.648023  -80.924663  0.265728 -0.114301   \n",
       "3     1  0  0  1 -593.941905 -217.703359 -124.891924  0.235511 -0.104940   \n",
       "4     1  0  0  1 -643.663617 -224.159427 -132.282815  0.209537 -0.095554   \n",
       "...  .. .. .. ..         ...         ...         ...       ...       ...   \n",
       "7856  0  0  0  0  -66.237921   38.457041   24.912239  0.094421 -0.552019   \n",
       "7857  0  0  0  0  -65.849493   37.465454   25.515675  0.103778 -0.555186   \n",
       "7858  0  0  0  0  -65.446698   36.472055   26.106554  0.113107 -0.558211   \n",
       "7859  0  0  0  0  -65.029633   35.477088   26.684731  0.122404 -0.561094   \n",
       "7860  0  0  0  0  -64.598401   34.480799   27.250065  0.131669 -0.563835   \n",
       "\n",
       "            Vc  target  \n",
       "0    -0.267815       3  \n",
       "1    -0.189099       3  \n",
       "2    -0.151428       3  \n",
       "3    -0.130570       3  \n",
       "4    -0.113983       3  \n",
       "...        ...     ...  \n",
       "7856  0.457598       0  \n",
       "7857  0.451407       0  \n",
       "7858  0.445104       0  \n",
       "7859  0.438690       0  \n",
       "7860  0.432166       0  \n",
       "\n",
       "[7861 rows x 11 columns]"
      ]
     },
     "execution_count": 69,
     "metadata": {},
     "output_type": "execute_result"
    }
   ],
   "source": [
    "df = data.loc[:,['G','C','B','A']]\n",
    "target = clasifier_fault(df)\n",
    "data['target'] = target\n",
    "data"
   ]
  },
  {
   "cell_type": "code",
   "execution_count": 70,
   "id": "3981c857",
   "metadata": {},
   "outputs": [],
   "source": [
    "def falla(data):\n",
    "    target = []\n",
    "    if data == 0:\n",
    "        target.append('No hay falla')\n",
    "    elif data == 1:\n",
    "        target.append('Falla entre fase A y fase B')\n",
    "    elif data == 2:\n",
    "        target.append('Falla en todas las fases')\n",
    "    elif data == 3:\n",
    "        target.append('Falla entre fase A y tierra')\n",
    "    elif data == 4:\n",
    "        target.append('Falla entre fase A,B y tierra')\n",
    "    elif data == 5:\n",
    "        target.append('Falla entre todas las fases y tierra')\n",
    "    return target"
   ]
  },
  {
   "cell_type": "code",
   "execution_count": 71,
   "id": "9366de52",
   "metadata": {},
   "outputs": [
    {
     "data": {
      "text/html": [
       "<div>\n",
       "<style scoped>\n",
       "    .dataframe tbody tr th:only-of-type {\n",
       "        vertical-align: middle;\n",
       "    }\n",
       "\n",
       "    .dataframe tbody tr th {\n",
       "        vertical-align: top;\n",
       "    }\n",
       "\n",
       "    .dataframe thead th {\n",
       "        text-align: right;\n",
       "    }\n",
       "</style>\n",
       "<table border=\"1\" class=\"dataframe\">\n",
       "  <thead>\n",
       "    <tr style=\"text-align: right;\">\n",
       "      <th></th>\n",
       "      <th>G</th>\n",
       "      <th>C</th>\n",
       "      <th>B</th>\n",
       "      <th>A</th>\n",
       "      <th>Ia</th>\n",
       "      <th>Ib</th>\n",
       "      <th>Ic</th>\n",
       "      <th>Va</th>\n",
       "      <th>Vb</th>\n",
       "      <th>Vc</th>\n",
       "      <th>target</th>\n",
       "      <th>falla</th>\n",
       "    </tr>\n",
       "  </thead>\n",
       "  <tbody>\n",
       "    <tr>\n",
       "      <th>0</th>\n",
       "      <td>1</td>\n",
       "      <td>0</td>\n",
       "      <td>0</td>\n",
       "      <td>1</td>\n",
       "      <td>-151.291812</td>\n",
       "      <td>-9.677452</td>\n",
       "      <td>85.800162</td>\n",
       "      <td>0.400750</td>\n",
       "      <td>-0.132935</td>\n",
       "      <td>-0.267815</td>\n",
       "      <td>3</td>\n",
       "      <td>Falla entre fase A y tierra</td>\n",
       "    </tr>\n",
       "    <tr>\n",
       "      <th>1</th>\n",
       "      <td>1</td>\n",
       "      <td>0</td>\n",
       "      <td>0</td>\n",
       "      <td>1</td>\n",
       "      <td>-336.186183</td>\n",
       "      <td>-76.283262</td>\n",
       "      <td>18.328897</td>\n",
       "      <td>0.312732</td>\n",
       "      <td>-0.123633</td>\n",
       "      <td>-0.189099</td>\n",
       "      <td>3</td>\n",
       "      <td>Falla entre fase A y tierra</td>\n",
       "    </tr>\n",
       "    <tr>\n",
       "      <th>2</th>\n",
       "      <td>1</td>\n",
       "      <td>0</td>\n",
       "      <td>0</td>\n",
       "      <td>1</td>\n",
       "      <td>-502.891583</td>\n",
       "      <td>-174.648023</td>\n",
       "      <td>-80.924663</td>\n",
       "      <td>0.265728</td>\n",
       "      <td>-0.114301</td>\n",
       "      <td>-0.151428</td>\n",
       "      <td>3</td>\n",
       "      <td>Falla entre fase A y tierra</td>\n",
       "    </tr>\n",
       "    <tr>\n",
       "      <th>3</th>\n",
       "      <td>1</td>\n",
       "      <td>0</td>\n",
       "      <td>0</td>\n",
       "      <td>1</td>\n",
       "      <td>-593.941905</td>\n",
       "      <td>-217.703359</td>\n",
       "      <td>-124.891924</td>\n",
       "      <td>0.235511</td>\n",
       "      <td>-0.104940</td>\n",
       "      <td>-0.130570</td>\n",
       "      <td>3</td>\n",
       "      <td>Falla entre fase A y tierra</td>\n",
       "    </tr>\n",
       "    <tr>\n",
       "      <th>4</th>\n",
       "      <td>1</td>\n",
       "      <td>0</td>\n",
       "      <td>0</td>\n",
       "      <td>1</td>\n",
       "      <td>-643.663617</td>\n",
       "      <td>-224.159427</td>\n",
       "      <td>-132.282815</td>\n",
       "      <td>0.209537</td>\n",
       "      <td>-0.095554</td>\n",
       "      <td>-0.113983</td>\n",
       "      <td>3</td>\n",
       "      <td>Falla entre fase A y tierra</td>\n",
       "    </tr>\n",
       "    <tr>\n",
       "      <th>...</th>\n",
       "      <td>...</td>\n",
       "      <td>...</td>\n",
       "      <td>...</td>\n",
       "      <td>...</td>\n",
       "      <td>...</td>\n",
       "      <td>...</td>\n",
       "      <td>...</td>\n",
       "      <td>...</td>\n",
       "      <td>...</td>\n",
       "      <td>...</td>\n",
       "      <td>...</td>\n",
       "      <td>...</td>\n",
       "    </tr>\n",
       "    <tr>\n",
       "      <th>7856</th>\n",
       "      <td>0</td>\n",
       "      <td>0</td>\n",
       "      <td>0</td>\n",
       "      <td>0</td>\n",
       "      <td>-66.237921</td>\n",
       "      <td>38.457041</td>\n",
       "      <td>24.912239</td>\n",
       "      <td>0.094421</td>\n",
       "      <td>-0.552019</td>\n",
       "      <td>0.457598</td>\n",
       "      <td>0</td>\n",
       "      <td>No hay falla</td>\n",
       "    </tr>\n",
       "    <tr>\n",
       "      <th>7857</th>\n",
       "      <td>0</td>\n",
       "      <td>0</td>\n",
       "      <td>0</td>\n",
       "      <td>0</td>\n",
       "      <td>-65.849493</td>\n",
       "      <td>37.465454</td>\n",
       "      <td>25.515675</td>\n",
       "      <td>0.103778</td>\n",
       "      <td>-0.555186</td>\n",
       "      <td>0.451407</td>\n",
       "      <td>0</td>\n",
       "      <td>No hay falla</td>\n",
       "    </tr>\n",
       "    <tr>\n",
       "      <th>7858</th>\n",
       "      <td>0</td>\n",
       "      <td>0</td>\n",
       "      <td>0</td>\n",
       "      <td>0</td>\n",
       "      <td>-65.446698</td>\n",
       "      <td>36.472055</td>\n",
       "      <td>26.106554</td>\n",
       "      <td>0.113107</td>\n",
       "      <td>-0.558211</td>\n",
       "      <td>0.445104</td>\n",
       "      <td>0</td>\n",
       "      <td>No hay falla</td>\n",
       "    </tr>\n",
       "    <tr>\n",
       "      <th>7859</th>\n",
       "      <td>0</td>\n",
       "      <td>0</td>\n",
       "      <td>0</td>\n",
       "      <td>0</td>\n",
       "      <td>-65.029633</td>\n",
       "      <td>35.477088</td>\n",
       "      <td>26.684731</td>\n",
       "      <td>0.122404</td>\n",
       "      <td>-0.561094</td>\n",
       "      <td>0.438690</td>\n",
       "      <td>0</td>\n",
       "      <td>No hay falla</td>\n",
       "    </tr>\n",
       "    <tr>\n",
       "      <th>7860</th>\n",
       "      <td>0</td>\n",
       "      <td>0</td>\n",
       "      <td>0</td>\n",
       "      <td>0</td>\n",
       "      <td>-64.598401</td>\n",
       "      <td>34.480799</td>\n",
       "      <td>27.250065</td>\n",
       "      <td>0.131669</td>\n",
       "      <td>-0.563835</td>\n",
       "      <td>0.432166</td>\n",
       "      <td>0</td>\n",
       "      <td>No hay falla</td>\n",
       "    </tr>\n",
       "  </tbody>\n",
       "</table>\n",
       "<p>7861 rows × 12 columns</p>\n",
       "</div>"
      ],
      "text/plain": [
       "      G  C  B  A          Ia          Ib          Ic        Va        Vb  \\\n",
       "0     1  0  0  1 -151.291812   -9.677452   85.800162  0.400750 -0.132935   \n",
       "1     1  0  0  1 -336.186183  -76.283262   18.328897  0.312732 -0.123633   \n",
       "2     1  0  0  1 -502.891583 -174.648023  -80.924663  0.265728 -0.114301   \n",
       "3     1  0  0  1 -593.941905 -217.703359 -124.891924  0.235511 -0.104940   \n",
       "4     1  0  0  1 -643.663617 -224.159427 -132.282815  0.209537 -0.095554   \n",
       "...  .. .. .. ..         ...         ...         ...       ...       ...   \n",
       "7856  0  0  0  0  -66.237921   38.457041   24.912239  0.094421 -0.552019   \n",
       "7857  0  0  0  0  -65.849493   37.465454   25.515675  0.103778 -0.555186   \n",
       "7858  0  0  0  0  -65.446698   36.472055   26.106554  0.113107 -0.558211   \n",
       "7859  0  0  0  0  -65.029633   35.477088   26.684731  0.122404 -0.561094   \n",
       "7860  0  0  0  0  -64.598401   34.480799   27.250065  0.131669 -0.563835   \n",
       "\n",
       "            Vc  target                        falla  \n",
       "0    -0.267815       3  Falla entre fase A y tierra  \n",
       "1    -0.189099       3  Falla entre fase A y tierra  \n",
       "2    -0.151428       3  Falla entre fase A y tierra  \n",
       "3    -0.130570       3  Falla entre fase A y tierra  \n",
       "4    -0.113983       3  Falla entre fase A y tierra  \n",
       "...        ...     ...                          ...  \n",
       "7856  0.457598       0                 No hay falla  \n",
       "7857  0.451407       0                 No hay falla  \n",
       "7858  0.445104       0                 No hay falla  \n",
       "7859  0.438690       0                 No hay falla  \n",
       "7860  0.432166       0                 No hay falla  \n",
       "\n",
       "[7861 rows x 12 columns]"
      ]
     },
     "execution_count": 71,
     "metadata": {},
     "output_type": "execute_result"
    }
   ],
   "source": [
    "data['falla'] = data.target.apply(lambda x: falla(x))\n",
    "data['falla'] = data.falla.apply(lambda x: x[0])\n",
    "data"
   ]
  },
  {
   "cell_type": "code",
   "execution_count": 72,
   "id": "7a3f9cc8",
   "metadata": {},
   "outputs": [
    {
     "data": {
      "text/html": [
       "<div>\n",
       "<style scoped>\n",
       "    .dataframe tbody tr th:only-of-type {\n",
       "        vertical-align: middle;\n",
       "    }\n",
       "\n",
       "    .dataframe tbody tr th {\n",
       "        vertical-align: top;\n",
       "    }\n",
       "\n",
       "    .dataframe thead th {\n",
       "        text-align: right;\n",
       "    }\n",
       "</style>\n",
       "<table border=\"1\" class=\"dataframe\">\n",
       "  <thead>\n",
       "    <tr style=\"text-align: right;\">\n",
       "      <th></th>\n",
       "      <th>Ia</th>\n",
       "    </tr>\n",
       "    <tr>\n",
       "      <th>target</th>\n",
       "      <th></th>\n",
       "    </tr>\n",
       "  </thead>\n",
       "  <tbody>\n",
       "    <tr>\n",
       "      <th>0</th>\n",
       "      <td>30.085231</td>\n",
       "    </tr>\n",
       "    <tr>\n",
       "      <th>1</th>\n",
       "      <td>12.771912</td>\n",
       "    </tr>\n",
       "    <tr>\n",
       "      <th>2</th>\n",
       "      <td>13.942247</td>\n",
       "    </tr>\n",
       "    <tr>\n",
       "      <th>3</th>\n",
       "      <td>14.362040</td>\n",
       "    </tr>\n",
       "    <tr>\n",
       "      <th>4</th>\n",
       "      <td>14.425646</td>\n",
       "    </tr>\n",
       "    <tr>\n",
       "      <th>5</th>\n",
       "      <td>14.412925</td>\n",
       "    </tr>\n",
       "  </tbody>\n",
       "</table>\n",
       "</div>"
      ],
      "text/plain": [
       "               Ia\n",
       "target           \n",
       "0       30.085231\n",
       "1       12.771912\n",
       "2       13.942247\n",
       "3       14.362040\n",
       "4       14.425646\n",
       "5       14.412925"
      ]
     },
     "execution_count": 72,
     "metadata": {},
     "output_type": "execute_result"
    }
   ],
   "source": [
    "data_bal = data.loc[:,['Ia','target']].groupby(['target']).count()\n",
    "data_bal = data_bal.apply(lambda x: x*100/data.shape[0])\n",
    "data_bal"
   ]
  },
  {
   "cell_type": "code",
   "execution_count": 73,
   "id": "71f49fc5",
   "metadata": {},
   "outputs": [
    {
     "data": {
      "text/html": [
       "<div>\n",
       "<style scoped>\n",
       "    .dataframe tbody tr th:only-of-type {\n",
       "        vertical-align: middle;\n",
       "    }\n",
       "\n",
       "    .dataframe tbody tr th {\n",
       "        vertical-align: top;\n",
       "    }\n",
       "\n",
       "    .dataframe thead th {\n",
       "        text-align: right;\n",
       "    }\n",
       "</style>\n",
       "<table border=\"1\" class=\"dataframe\">\n",
       "  <thead>\n",
       "    <tr style=\"text-align: right;\">\n",
       "      <th></th>\n",
       "      <th>Ia</th>\n",
       "    </tr>\n",
       "    <tr>\n",
       "      <th>falla</th>\n",
       "      <th></th>\n",
       "    </tr>\n",
       "  </thead>\n",
       "  <tbody>\n",
       "    <tr>\n",
       "      <th>Falla en todas las fases</th>\n",
       "      <td>13.942247</td>\n",
       "    </tr>\n",
       "    <tr>\n",
       "      <th>Falla entre fase A y fase B</th>\n",
       "      <td>12.771912</td>\n",
       "    </tr>\n",
       "    <tr>\n",
       "      <th>Falla entre fase A y tierra</th>\n",
       "      <td>14.362040</td>\n",
       "    </tr>\n",
       "    <tr>\n",
       "      <th>Falla entre fase A,B y tierra</th>\n",
       "      <td>14.425646</td>\n",
       "    </tr>\n",
       "    <tr>\n",
       "      <th>Falla entre todas las fases y tierra</th>\n",
       "      <td>14.412925</td>\n",
       "    </tr>\n",
       "    <tr>\n",
       "      <th>No hay falla</th>\n",
       "      <td>30.085231</td>\n",
       "    </tr>\n",
       "  </tbody>\n",
       "</table>\n",
       "</div>"
      ],
      "text/plain": [
       "                                             Ia\n",
       "falla                                          \n",
       "Falla en todas las fases              13.942247\n",
       "Falla entre fase A y fase B           12.771912\n",
       "Falla entre fase A y tierra           14.362040\n",
       "Falla entre fase A,B y tierra         14.425646\n",
       "Falla entre todas las fases y tierra  14.412925\n",
       "No hay falla                          30.085231"
      ]
     },
     "execution_count": 73,
     "metadata": {},
     "output_type": "execute_result"
    }
   ],
   "source": [
    "data_bal = data.loc[:,['Ia','falla']].groupby(['falla']).count()\n",
    "data_bal = data_bal.apply(lambda x: x*100/data.shape[0])\n",
    "data_bal"
   ]
  },
  {
   "cell_type": "code",
   "execution_count": 74,
   "id": "83f7e5f5",
   "metadata": {},
   "outputs": [
    {
     "data": {
      "text/html": [
       "<div>\n",
       "<style scoped>\n",
       "    .dataframe tbody tr th:only-of-type {\n",
       "        vertical-align: middle;\n",
       "    }\n",
       "\n",
       "    .dataframe tbody tr th {\n",
       "        vertical-align: top;\n",
       "    }\n",
       "\n",
       "    .dataframe thead th {\n",
       "        text-align: right;\n",
       "    }\n",
       "</style>\n",
       "<table border=\"1\" class=\"dataframe\">\n",
       "  <thead>\n",
       "    <tr style=\"text-align: right;\">\n",
       "      <th></th>\n",
       "      <th>G</th>\n",
       "      <th>C</th>\n",
       "      <th>B</th>\n",
       "      <th>A</th>\n",
       "      <th>Ia</th>\n",
       "      <th>Ib</th>\n",
       "      <th>Ic</th>\n",
       "      <th>Va</th>\n",
       "      <th>Vb</th>\n",
       "      <th>Vc</th>\n",
       "      <th>target</th>\n",
       "      <th>falla</th>\n",
       "      <th>target_binaria</th>\n",
       "    </tr>\n",
       "  </thead>\n",
       "  <tbody>\n",
       "    <tr>\n",
       "      <th>0</th>\n",
       "      <td>1</td>\n",
       "      <td>0</td>\n",
       "      <td>0</td>\n",
       "      <td>1</td>\n",
       "      <td>-151.291812</td>\n",
       "      <td>-9.677452</td>\n",
       "      <td>85.800162</td>\n",
       "      <td>0.400750</td>\n",
       "      <td>-0.132935</td>\n",
       "      <td>-0.267815</td>\n",
       "      <td>3</td>\n",
       "      <td>Falla entre fase A y tierra</td>\n",
       "      <td>1</td>\n",
       "    </tr>\n",
       "    <tr>\n",
       "      <th>1</th>\n",
       "      <td>1</td>\n",
       "      <td>0</td>\n",
       "      <td>0</td>\n",
       "      <td>1</td>\n",
       "      <td>-336.186183</td>\n",
       "      <td>-76.283262</td>\n",
       "      <td>18.328897</td>\n",
       "      <td>0.312732</td>\n",
       "      <td>-0.123633</td>\n",
       "      <td>-0.189099</td>\n",
       "      <td>3</td>\n",
       "      <td>Falla entre fase A y tierra</td>\n",
       "      <td>1</td>\n",
       "    </tr>\n",
       "    <tr>\n",
       "      <th>2</th>\n",
       "      <td>1</td>\n",
       "      <td>0</td>\n",
       "      <td>0</td>\n",
       "      <td>1</td>\n",
       "      <td>-502.891583</td>\n",
       "      <td>-174.648023</td>\n",
       "      <td>-80.924663</td>\n",
       "      <td>0.265728</td>\n",
       "      <td>-0.114301</td>\n",
       "      <td>-0.151428</td>\n",
       "      <td>3</td>\n",
       "      <td>Falla entre fase A y tierra</td>\n",
       "      <td>1</td>\n",
       "    </tr>\n",
       "    <tr>\n",
       "      <th>3</th>\n",
       "      <td>1</td>\n",
       "      <td>0</td>\n",
       "      <td>0</td>\n",
       "      <td>1</td>\n",
       "      <td>-593.941905</td>\n",
       "      <td>-217.703359</td>\n",
       "      <td>-124.891924</td>\n",
       "      <td>0.235511</td>\n",
       "      <td>-0.104940</td>\n",
       "      <td>-0.130570</td>\n",
       "      <td>3</td>\n",
       "      <td>Falla entre fase A y tierra</td>\n",
       "      <td>1</td>\n",
       "    </tr>\n",
       "    <tr>\n",
       "      <th>4</th>\n",
       "      <td>1</td>\n",
       "      <td>0</td>\n",
       "      <td>0</td>\n",
       "      <td>1</td>\n",
       "      <td>-643.663617</td>\n",
       "      <td>-224.159427</td>\n",
       "      <td>-132.282815</td>\n",
       "      <td>0.209537</td>\n",
       "      <td>-0.095554</td>\n",
       "      <td>-0.113983</td>\n",
       "      <td>3</td>\n",
       "      <td>Falla entre fase A y tierra</td>\n",
       "      <td>1</td>\n",
       "    </tr>\n",
       "    <tr>\n",
       "      <th>...</th>\n",
       "      <td>...</td>\n",
       "      <td>...</td>\n",
       "      <td>...</td>\n",
       "      <td>...</td>\n",
       "      <td>...</td>\n",
       "      <td>...</td>\n",
       "      <td>...</td>\n",
       "      <td>...</td>\n",
       "      <td>...</td>\n",
       "      <td>...</td>\n",
       "      <td>...</td>\n",
       "      <td>...</td>\n",
       "      <td>...</td>\n",
       "    </tr>\n",
       "    <tr>\n",
       "      <th>7856</th>\n",
       "      <td>0</td>\n",
       "      <td>0</td>\n",
       "      <td>0</td>\n",
       "      <td>0</td>\n",
       "      <td>-66.237921</td>\n",
       "      <td>38.457041</td>\n",
       "      <td>24.912239</td>\n",
       "      <td>0.094421</td>\n",
       "      <td>-0.552019</td>\n",
       "      <td>0.457598</td>\n",
       "      <td>0</td>\n",
       "      <td>No hay falla</td>\n",
       "      <td>0</td>\n",
       "    </tr>\n",
       "    <tr>\n",
       "      <th>7857</th>\n",
       "      <td>0</td>\n",
       "      <td>0</td>\n",
       "      <td>0</td>\n",
       "      <td>0</td>\n",
       "      <td>-65.849493</td>\n",
       "      <td>37.465454</td>\n",
       "      <td>25.515675</td>\n",
       "      <td>0.103778</td>\n",
       "      <td>-0.555186</td>\n",
       "      <td>0.451407</td>\n",
       "      <td>0</td>\n",
       "      <td>No hay falla</td>\n",
       "      <td>0</td>\n",
       "    </tr>\n",
       "    <tr>\n",
       "      <th>7858</th>\n",
       "      <td>0</td>\n",
       "      <td>0</td>\n",
       "      <td>0</td>\n",
       "      <td>0</td>\n",
       "      <td>-65.446698</td>\n",
       "      <td>36.472055</td>\n",
       "      <td>26.106554</td>\n",
       "      <td>0.113107</td>\n",
       "      <td>-0.558211</td>\n",
       "      <td>0.445104</td>\n",
       "      <td>0</td>\n",
       "      <td>No hay falla</td>\n",
       "      <td>0</td>\n",
       "    </tr>\n",
       "    <tr>\n",
       "      <th>7859</th>\n",
       "      <td>0</td>\n",
       "      <td>0</td>\n",
       "      <td>0</td>\n",
       "      <td>0</td>\n",
       "      <td>-65.029633</td>\n",
       "      <td>35.477088</td>\n",
       "      <td>26.684731</td>\n",
       "      <td>0.122404</td>\n",
       "      <td>-0.561094</td>\n",
       "      <td>0.438690</td>\n",
       "      <td>0</td>\n",
       "      <td>No hay falla</td>\n",
       "      <td>0</td>\n",
       "    </tr>\n",
       "    <tr>\n",
       "      <th>7860</th>\n",
       "      <td>0</td>\n",
       "      <td>0</td>\n",
       "      <td>0</td>\n",
       "      <td>0</td>\n",
       "      <td>-64.598401</td>\n",
       "      <td>34.480799</td>\n",
       "      <td>27.250065</td>\n",
       "      <td>0.131669</td>\n",
       "      <td>-0.563835</td>\n",
       "      <td>0.432166</td>\n",
       "      <td>0</td>\n",
       "      <td>No hay falla</td>\n",
       "      <td>0</td>\n",
       "    </tr>\n",
       "  </tbody>\n",
       "</table>\n",
       "<p>7861 rows × 13 columns</p>\n",
       "</div>"
      ],
      "text/plain": [
       "      G  C  B  A          Ia          Ib          Ic        Va        Vb  \\\n",
       "0     1  0  0  1 -151.291812   -9.677452   85.800162  0.400750 -0.132935   \n",
       "1     1  0  0  1 -336.186183  -76.283262   18.328897  0.312732 -0.123633   \n",
       "2     1  0  0  1 -502.891583 -174.648023  -80.924663  0.265728 -0.114301   \n",
       "3     1  0  0  1 -593.941905 -217.703359 -124.891924  0.235511 -0.104940   \n",
       "4     1  0  0  1 -643.663617 -224.159427 -132.282815  0.209537 -0.095554   \n",
       "...  .. .. .. ..         ...         ...         ...       ...       ...   \n",
       "7856  0  0  0  0  -66.237921   38.457041   24.912239  0.094421 -0.552019   \n",
       "7857  0  0  0  0  -65.849493   37.465454   25.515675  0.103778 -0.555186   \n",
       "7858  0  0  0  0  -65.446698   36.472055   26.106554  0.113107 -0.558211   \n",
       "7859  0  0  0  0  -65.029633   35.477088   26.684731  0.122404 -0.561094   \n",
       "7860  0  0  0  0  -64.598401   34.480799   27.250065  0.131669 -0.563835   \n",
       "\n",
       "            Vc  target                        falla  target_binaria  \n",
       "0    -0.267815       3  Falla entre fase A y tierra               1  \n",
       "1    -0.189099       3  Falla entre fase A y tierra               1  \n",
       "2    -0.151428       3  Falla entre fase A y tierra               1  \n",
       "3    -0.130570       3  Falla entre fase A y tierra               1  \n",
       "4    -0.113983       3  Falla entre fase A y tierra               1  \n",
       "...        ...     ...                          ...             ...  \n",
       "7856  0.457598       0                 No hay falla               0  \n",
       "7857  0.451407       0                 No hay falla               0  \n",
       "7858  0.445104       0                 No hay falla               0  \n",
       "7859  0.438690       0                 No hay falla               0  \n",
       "7860  0.432166       0                 No hay falla               0  \n",
       "\n",
       "[7861 rows x 13 columns]"
      ]
     },
     "execution_count": 74,
     "metadata": {},
     "output_type": "execute_result"
    }
   ],
   "source": [
    "data['target_binaria'] = data.target.apply(lambda x: x if x == 0 else 1)\n",
    "data"
   ]
  },
  {
   "cell_type": "code",
   "execution_count": 75,
   "id": "c7738162",
   "metadata": {},
   "outputs": [
    {
     "data": {
      "text/html": [
       "<div>\n",
       "<style scoped>\n",
       "    .dataframe tbody tr th:only-of-type {\n",
       "        vertical-align: middle;\n",
       "    }\n",
       "\n",
       "    .dataframe tbody tr th {\n",
       "        vertical-align: top;\n",
       "    }\n",
       "\n",
       "    .dataframe thead th {\n",
       "        text-align: right;\n",
       "    }\n",
       "</style>\n",
       "<table border=\"1\" class=\"dataframe\">\n",
       "  <thead>\n",
       "    <tr style=\"text-align: right;\">\n",
       "      <th></th>\n",
       "      <th>Ia</th>\n",
       "    </tr>\n",
       "    <tr>\n",
       "      <th>target_binaria</th>\n",
       "      <th></th>\n",
       "    </tr>\n",
       "  </thead>\n",
       "  <tbody>\n",
       "    <tr>\n",
       "      <th>0</th>\n",
       "      <td>30.085231</td>\n",
       "    </tr>\n",
       "    <tr>\n",
       "      <th>1</th>\n",
       "      <td>69.914769</td>\n",
       "    </tr>\n",
       "  </tbody>\n",
       "</table>\n",
       "</div>"
      ],
      "text/plain": [
       "                       Ia\n",
       "target_binaria           \n",
       "0               30.085231\n",
       "1               69.914769"
      ]
     },
     "execution_count": 75,
     "metadata": {},
     "output_type": "execute_result"
    }
   ],
   "source": [
    "data_bal = data.loc[:,['Ia','target_binaria']].groupby(['target_binaria']).count()\n",
    "data_bal = data_bal.apply(lambda x: x*100/data.shape[0])\n",
    "data_bal"
   ]
  },
  {
   "cell_type": "code",
   "execution_count": 76,
   "id": "a7dae4e8",
   "metadata": {},
   "outputs": [
    {
     "data": {
      "text/plain": [
       "<AxesSubplot:>"
      ]
     },
     "execution_count": 76,
     "metadata": {},
     "output_type": "execute_result"
    },
    {
     "data": {
      "image/png": "[encoded data removed]",
      "text/plain": [
       "<Figure size 1440x720 with 2 Axes>"
      ]
     },
     "metadata": {
      "needs_background": "light"
     },
     "output_type": "display_data"
    }
   ],
   "source": [
    "fig, ax = plt.subplots(figsize = (20, 10))\n",
    "sns.heatmap(data.corr(),annot=True,ax=ax)"
   ]
  },
  {
   "cell_type": "code",
   "execution_count": 77,
   "id": "225ded85",
   "metadata": {},
   "outputs": [
    {
     "data": {
      "image/png": "[encoded data removed]",
      "text/plain": [
       "<Figure size 1296x864 with 6 Axes>"
      ]
     },
     "metadata": {
      "needs_background": "light"
     },
     "output_type": "display_data"
    }
   ],
   "source": [
    "dataplot = data[[\"Ia\",\"Ib\",\"Ic\",\"Va\",\"Vb\",\"Vc\",\"target_binaria\"]]\n",
    "fig, axes = plt.subplots(nrows=2, ncols=3, figsize=(18,12))\n",
    "fig.suptitle('Histogramas normalizados')\n",
    "for c, ax in zip(dataplot.columns[:-1], axes.flatten()):\n",
    "    sns.histplot(data = dataplot.loc[dataplot['target_binaria']==0, c].dropna(), stat = 'density', ax = ax, kde = False )\n",
    "    sns.histplot(data = dataplot.loc[dataplot['target_binaria']==1, c].dropna(), stat = 'density', kde=False, ax=ax, color = 'orange')\n",
    "    ax.legend(['target_binaria = 0', 'target_binaria = 1'])"
   ]
  },
  {
   "cell_type": "code",
   "execution_count": 78,
   "id": "7f17cd92",
   "metadata": {},
   "outputs": [
    {
     "data": {
      "image/png": "[encoded data removed]",
      "text/plain": [
       "<Figure size 1296x864 with 6 Axes>"
      ]
     },
     "metadata": {
      "needs_background": "light"
     },
     "output_type": "display_data"
    }
   ],
   "source": [
    "dataplot1 = data[[\"Ia\",\"Ib\",\"Ic\",\"Va\",\"Vb\",\"Vc\",\"target\"]]\n",
    "fig, axes = plt.subplots(nrows=2, ncols=3, figsize=(18,12))\n",
    "fig.suptitle('Histogramas normalizados')\n",
    "for c, ax in zip(dataplot1.columns[:-1], axes.flatten()):\n",
    "    sns.histplot(data = dataplot1.loc[dataplot1['target']==0, c].dropna(), stat = 'density', ax = ax, kde = False )\n",
    "    sns.histplot(data = dataplot1.loc[dataplot1['target']==1, c].dropna(), stat = 'density', kde=False, ax=ax, color = 'orange')\n",
    "    sns.histplot(data = dataplot1.loc[dataplot1['target']==2, c].dropna(), stat = 'density', kde=False, ax=ax, color = 'green')\n",
    "    sns.histplot(data = dataplot1.loc[dataplot1['target']==3, c].dropna(), stat = 'density', kde=False, ax=ax, color = 'violet')\n",
    "    sns.histplot(data = dataplot1.loc[dataplot1['target']==4, c].dropna(), stat = 'density', kde=False, ax=ax, color = 'red')\n",
    "    sns.histplot(data = dataplot1.loc[dataplot1['target']==5, c].dropna(), stat = 'density', kde=False, ax=ax, color = 'yellow')\n",
    "    ax.legend(['target = 0', 'target = 1','target = 2','target = 3','target = 4','target = 5'])"
   ]
  },
  {
   "cell_type": "code",
   "execution_count": null,
   "id": "4eb96d03",
   "metadata": {},
   "outputs": [],
   "source": []
  },
  {
   "cell_type": "code",
   "execution_count": 79,
   "id": "eb70ca1c",
   "metadata": {},
   "outputs": [],
   "source": [
    "X = data.loc[:,['Ia','Ib','Ic','Va','Vb','Vc']]\n",
    "y = data.target_binaria"
   ]
  },
  {
   "cell_type": "code",
   "execution_count": 80,
   "id": "e050df46",
   "metadata": {},
   "outputs": [],
   "source": [
    "from sklearn.model_selection import train_test_split,StratifiedKFold,GridSearchCV"
   ]
  },
  {
   "cell_type": "code",
   "execution_count": 81,
   "id": "bdfb5a03",
   "metadata": {},
   "outputs": [],
   "source": [
    "X_train, X_test, y_train, y_test = train_test_split(X, y, stratify=y, random_state=0)"
   ]
  },
  {
   "cell_type": "code",
   "execution_count": 82,
   "id": "871315d0",
   "metadata": {},
   "outputs": [],
   "source": [
    "from sklearn.preprocessing import StandardScaler"
   ]
  },
  {
   "cell_type": "code",
   "execution_count": 83,
   "id": "b715bf89",
   "metadata": {},
   "outputs": [],
   "source": [
    "scaler = StandardScaler()\n",
    "X_train_scaler = scaler.fit_transform(X_train)\n",
    "X_test_scaler = scaler.transform(X_test)"
   ]
  },
  {
   "cell_type": "code",
   "execution_count": 84,
   "id": "dd52eef1",
   "metadata": {},
   "outputs": [],
   "source": [
    "from sklearn.neighbors import KNeighborsClassifier"
   ]
  },
  {
   "cell_type": "code",
   "execution_count": 85,
   "id": "ae15c249",
   "metadata": {},
   "outputs": [
    {
     "data": {
      "text/plain": [
       "KNeighborsClassifier()"
      ]
     },
     "execution_count": 85,
     "metadata": {},
     "output_type": "execute_result"
    }
   ],
   "source": [
    "knn = KNeighborsClassifier()\n",
    "knn.fit(X_train_scaler, y_train)"
   ]
  },
  {
   "cell_type": "code",
   "execution_count": 86,
   "id": "dbf52268",
   "metadata": {},
   "outputs": [],
   "source": [
    "y_pred_train = knn.predict(X_train_scaler)"
   ]
  },
  {
   "cell_type": "code",
   "execution_count": 87,
   "id": "f21f924d",
   "metadata": {},
   "outputs": [],
   "source": [
    "from sklearn.metrics import accuracy_score,confusion_matrix, classification_report"
   ]
  },
  {
   "cell_type": "code",
   "execution_count": 88,
   "id": "7377489b",
   "metadata": {},
   "outputs": [
    {
     "name": "stdout",
     "output_type": "stream",
     "text": [
      "1.0\n"
     ]
    },
    {
     "data": {
      "text/plain": [
       "<AxesSubplot:>"
      ]
     },
     "execution_count": 88,
     "metadata": {},
     "output_type": "execute_result"
    },
    {
     "data": {
      "image/png": "[encoded data removed]",
      "text/plain": [
       "<Figure size 432x288 with 2 Axes>"
      ]
     },
     "metadata": {
      "needs_background": "light"
     },
     "output_type": "display_data"
    }
   ],
   "source": [
    "print(accuracy_score(y_train, y_pred_train))\n",
    "cm = confusion_matrix(y_train, y_pred_train)\n",
    "sns.heatmap(cm, annot=True,fmt='d')"
   ]
  },
  {
   "cell_type": "code",
   "execution_count": 89,
   "id": "7ede7c6a",
   "metadata": {},
   "outputs": [
    {
     "name": "stdout",
     "output_type": "stream",
     "text": [
      "0.9994913530010173\n"
     ]
    },
    {
     "data": {
      "text/plain": [
       "<AxesSubplot:>"
      ]
     },
     "execution_count": 89,
     "metadata": {},
     "output_type": "execute_result"
    },
    {
     "data": {
      "image/png": "[encoded data removed]",
      "text/plain": [
       "<Figure size 432x288 with 2 Axes>"
      ]
     },
     "metadata": {
      "needs_background": "light"
     },
     "output_type": "display_data"
    }
   ],
   "source": [
    "y_pred_test = knn.predict(X_test_scaler)\n",
    "print(accuracy_score(y_test, y_pred_test))\n",
    "cm = confusion_matrix(y_test, y_pred_test)\n",
    "sns.heatmap(cm, annot=True,fmt='d')"
   ]
  },
  {
   "cell_type": "code",
   "execution_count": 90,
   "id": "4feb20f9",
   "metadata": {},
   "outputs": [
    {
     "data": {
      "text/plain": [
       "array([[0., 1.],\n",
       "       [1., 0.],\n",
       "       [0., 1.],\n",
       "       ...,\n",
       "       [1., 0.],\n",
       "       [0., 1.],\n",
       "       [0., 1.]])"
      ]
     },
     "execution_count": 90,
     "metadata": {},
     "output_type": "execute_result"
    }
   ],
   "source": [
    "y_pred_knn_roc = knn.predict_proba(X_test_scaler)\n",
    "y_pred_knn_roc"
   ]
  },
  {
   "cell_type": "code",
   "execution_count": 91,
   "id": "ccffea90",
   "metadata": {},
   "outputs": [
    {
     "data": {
      "image/png": "[encoded data removed]",
      "text/plain": [
       "<Figure size 432x288 with 1 Axes>"
      ]
     },
     "metadata": {
      "needs_background": "light"
     },
     "output_type": "display_data"
    }
   ],
   "source": [
    "from sklearn.metrics import roc_curve, auc\n",
    "y_pred_knn_roc = knn.predict_proba(X_test_scaler)\n",
    "fpr,tpr,_ = roc_curve(y_test, y_pred_knn_roc[:,1])\n",
    "df = pd.DataFrame(dict(fpr=fpr, tpr=tpr))\n",
    "plt.axis([0, 1.01, 0, 1.01])\n",
    "plt.xlabel('1 - Specificty')\n",
    "plt.ylabel('TPR / Sensitivity')\n",
    "plt.title('ROC Curve')\n",
    "plt.plot(df['fpr'],df['tpr'])\n",
    "plt.plot(np.arange(0,1, step =0.01), np.arange(0,1, step =0.01))\n",
    "plt.show() "
   ]
  },
  {
   "cell_type": "markdown",
   "id": "3941ea84",
   "metadata": {},
   "source": [
    "# Multiclase"
   ]
  },
  {
   "cell_type": "code",
   "execution_count": 92,
   "id": "ea7abe78",
   "metadata": {},
   "outputs": [],
   "source": [
    "X = data.loc[:,['Ia','Ib','Ic','Va','Vb','Vc']]\n",
    "y = data.target"
   ]
  },
  {
   "cell_type": "code",
   "execution_count": 93,
   "id": "735b9398",
   "metadata": {},
   "outputs": [],
   "source": [
    "X_train, X_test, y_train, y_test = train_test_split(X, y,stratify=y, random_state=0) #"
   ]
  },
  {
   "cell_type": "code",
   "execution_count": 94,
   "id": "e4b878ba",
   "metadata": {},
   "outputs": [],
   "source": [
    "scaler = StandardScaler()\n",
    "X_train_scaler1 = scaler.fit_transform(X_train)\n",
    "X_test_scaler1 = scaler.transform(X_test)"
   ]
  },
  {
   "cell_type": "code",
   "execution_count": 95,
   "id": "af9ffb05",
   "metadata": {},
   "outputs": [
    {
     "data": {
      "text/plain": [
       "KNeighborsClassifier()"
      ]
     },
     "execution_count": 95,
     "metadata": {},
     "output_type": "execute_result"
    }
   ],
   "source": [
    "knn = KNeighborsClassifier()\n",
    "knn.fit(X_train_scaler1, y_train)"
   ]
  },
  {
   "cell_type": "code",
   "execution_count": 96,
   "id": "a28b0f63",
   "metadata": {},
   "outputs": [],
   "source": [
    "y_pred_train = knn.predict(X_train_scaler1)"
   ]
  },
  {
   "cell_type": "code",
   "execution_count": 97,
   "id": "99cebea3",
   "metadata": {},
   "outputs": [
    {
     "name": "stdout",
     "output_type": "stream",
     "text": [
      "0.8729431721798134\n"
     ]
    },
    {
     "data": {
      "text/plain": [
       "<AxesSubplot:>"
      ]
     },
     "execution_count": 97,
     "metadata": {},
     "output_type": "execute_result"
    },
    {
     "data": {
      "image/png": "[encoded data removed]",
      "text/plain": [
       "<Figure size 432x288 with 2 Axes>"
      ]
     },
     "metadata": {
      "needs_background": "light"
     },
     "output_type": "display_data"
    }
   ],
   "source": [
    "print(accuracy_score(y_train, y_pred_train))\n",
    "cm = confusion_matrix(y_train, y_pred_train)\n",
    "sns.heatmap(cm, annot=True,fmt='d')"
   ]
  },
  {
   "cell_type": "code",
   "execution_count": 98,
   "id": "7d799c4e",
   "metadata": {},
   "outputs": [
    {
     "name": "stdout",
     "output_type": "stream",
     "text": [
      "0.8041709053916581\n"
     ]
    },
    {
     "data": {
      "text/plain": [
       "<AxesSubplot:>"
      ]
     },
     "execution_count": 98,
     "metadata": {},
     "output_type": "execute_result"
    },
    {
     "data": {
      "image/png": "[encoded data removed]",
      "text/plain": [
       "<Figure size 432x288 with 2 Axes>"
      ]
     },
     "metadata": {
      "needs_background": "light"
     },
     "output_type": "display_data"
    }
   ],
   "source": [
    "y_pred_test = knn.predict(X_test_scaler1)\n",
    "print(accuracy_score(y_test, y_pred_test))\n",
    "cm = confusion_matrix(y_test, y_pred_test)\n",
    "sns.heatmap(cm, annot=True,fmt='d')"
   ]
  },
  {
   "cell_type": "code",
   "execution_count": 99,
   "id": "f10c2e9b",
   "metadata": {},
   "outputs": [],
   "source": [
    "k_range = list(range(1, 31))\n",
    "weight_options = ['uniform', 'distance']\n",
    "param_grid = dict(n_neighbors=k_range, weights=weight_options)"
   ]
  },
  {
   "cell_type": "code",
   "execution_count": 100,
   "id": "a9d4381d",
   "metadata": {},
   "outputs": [],
   "source": [
    "folds=StratifiedKFold(n_splits=10, random_state=0, shuffle=True)"
   ]
  },
  {
   "cell_type": "code",
   "execution_count": 101,
   "id": "a2c79745",
   "metadata": {},
   "outputs": [],
   "source": [
    "grid = GridSearchCV(knn, param_grid, cv=folds, scoring='accuracy')"
   ]
  },
  {
   "cell_type": "code",
   "execution_count": 102,
   "id": "ed4cb6d6",
   "metadata": {},
   "outputs": [
    {
     "data": {
      "text/plain": [
       "GridSearchCV(cv=StratifiedKFold(n_splits=10, random_state=0, shuffle=True),\n",
       "             estimator=KNeighborsClassifier(),\n",
       "             param_grid={'n_neighbors': [1, 2, 3, 4, 5, 6, 7, 8, 9, 10, 11, 12,\n",
       "                                         13, 14, 15, 16, 17, 18, 19, 20, 21, 22,\n",
       "                                         23, 24, 25, 26, 27, 28, 29, 30],\n",
       "                         'weights': ['uniform', 'distance']},\n",
       "             scoring='accuracy')"
      ]
     },
     "execution_count": 102,
     "metadata": {},
     "output_type": "execute_result"
    }
   ],
   "source": [
    "grid.fit(X_train_scaler1, y_train)"
   ]
  },
  {
   "cell_type": "code",
   "execution_count": 103,
   "id": "f80763c9",
   "metadata": {},
   "outputs": [
    {
     "data": {
      "text/html": [
       "<div>\n",
       "<style scoped>\n",
       "    .dataframe tbody tr th:only-of-type {\n",
       "        vertical-align: middle;\n",
       "    }\n",
       "\n",
       "    .dataframe tbody tr th {\n",
       "        vertical-align: top;\n",
       "    }\n",
       "\n",
       "    .dataframe thead th {\n",
       "        text-align: right;\n",
       "    }\n",
       "</style>\n",
       "<table border=\"1\" class=\"dataframe\">\n",
       "  <thead>\n",
       "    <tr style=\"text-align: right;\">\n",
       "      <th></th>\n",
       "      <th>mean_fit_time</th>\n",
       "      <th>std_fit_time</th>\n",
       "      <th>mean_score_time</th>\n",
       "      <th>std_score_time</th>\n",
       "      <th>param_n_neighbors</th>\n",
       "      <th>param_weights</th>\n",
       "      <th>params</th>\n",
       "      <th>split0_test_score</th>\n",
       "      <th>split1_test_score</th>\n",
       "      <th>split2_test_score</th>\n",
       "      <th>split3_test_score</th>\n",
       "      <th>split4_test_score</th>\n",
       "      <th>split5_test_score</th>\n",
       "      <th>split6_test_score</th>\n",
       "      <th>split7_test_score</th>\n",
       "      <th>split8_test_score</th>\n",
       "      <th>split9_test_score</th>\n",
       "      <th>mean_test_score</th>\n",
       "      <th>std_test_score</th>\n",
       "      <th>rank_test_score</th>\n",
       "    </tr>\n",
       "  </thead>\n",
       "  <tbody>\n",
       "    <tr>\n",
       "      <th>0</th>\n",
       "      <td>0.007419</td>\n",
       "      <td>0.008498</td>\n",
       "      <td>0.015354</td>\n",
       "      <td>0.007167</td>\n",
       "      <td>1</td>\n",
       "      <td>uniform</td>\n",
       "      <td>{'n_neighbors': 1, 'weights': 'uniform'}</td>\n",
       "      <td>0.869492</td>\n",
       "      <td>0.883051</td>\n",
       "      <td>0.876271</td>\n",
       "      <td>0.879661</td>\n",
       "      <td>0.871186</td>\n",
       "      <td>0.874363</td>\n",
       "      <td>0.867572</td>\n",
       "      <td>0.862479</td>\n",
       "      <td>0.872666</td>\n",
       "      <td>0.891341</td>\n",
       "      <td>0.874808</td>\n",
       "      <td>0.007858</td>\n",
       "      <td>1</td>\n",
       "    </tr>\n",
       "    <tr>\n",
       "      <th>1</th>\n",
       "      <td>0.006825</td>\n",
       "      <td>0.008198</td>\n",
       "      <td>0.002013</td>\n",
       "      <td>0.003605</td>\n",
       "      <td>1</td>\n",
       "      <td>distance</td>\n",
       "      <td>{'n_neighbors': 1, 'weights': 'distance'}</td>\n",
       "      <td>0.869492</td>\n",
       "      <td>0.883051</td>\n",
       "      <td>0.876271</td>\n",
       "      <td>0.879661</td>\n",
       "      <td>0.871186</td>\n",
       "      <td>0.874363</td>\n",
       "      <td>0.867572</td>\n",
       "      <td>0.862479</td>\n",
       "      <td>0.872666</td>\n",
       "      <td>0.891341</td>\n",
       "      <td>0.874808</td>\n",
       "      <td>0.007858</td>\n",
       "      <td>1</td>\n",
       "    </tr>\n",
       "    <tr>\n",
       "      <th>2</th>\n",
       "      <td>0.006724</td>\n",
       "      <td>0.008053</td>\n",
       "      <td>0.016097</td>\n",
       "      <td>0.005142</td>\n",
       "      <td>2</td>\n",
       "      <td>uniform</td>\n",
       "      <td>{'n_neighbors': 2, 'weights': 'uniform'}</td>\n",
       "      <td>0.835593</td>\n",
       "      <td>0.828814</td>\n",
       "      <td>0.842373</td>\n",
       "      <td>0.832203</td>\n",
       "      <td>0.840678</td>\n",
       "      <td>0.840407</td>\n",
       "      <td>0.845501</td>\n",
       "      <td>0.833616</td>\n",
       "      <td>0.840407</td>\n",
       "      <td>0.842105</td>\n",
       "      <td>0.838170</td>\n",
       "      <td>0.005037</td>\n",
       "      <td>32</td>\n",
       "    </tr>\n",
       "    <tr>\n",
       "      <th>3</th>\n",
       "      <td>0.006723</td>\n",
       "      <td>0.008246</td>\n",
       "      <td>0.005241</td>\n",
       "      <td>0.007797</td>\n",
       "      <td>2</td>\n",
       "      <td>distance</td>\n",
       "      <td>{'n_neighbors': 2, 'weights': 'distance'}</td>\n",
       "      <td>0.869492</td>\n",
       "      <td>0.883051</td>\n",
       "      <td>0.876271</td>\n",
       "      <td>0.879661</td>\n",
       "      <td>0.871186</td>\n",
       "      <td>0.874363</td>\n",
       "      <td>0.867572</td>\n",
       "      <td>0.862479</td>\n",
       "      <td>0.872666</td>\n",
       "      <td>0.891341</td>\n",
       "      <td>0.874808</td>\n",
       "      <td>0.007858</td>\n",
       "      <td>1</td>\n",
       "    </tr>\n",
       "    <tr>\n",
       "      <th>4</th>\n",
       "      <td>0.004080</td>\n",
       "      <td>0.006600</td>\n",
       "      <td>0.020434</td>\n",
       "      <td>0.007759</td>\n",
       "      <td>3</td>\n",
       "      <td>uniform</td>\n",
       "      <td>{'n_neighbors': 3, 'weights': 'uniform'}</td>\n",
       "      <td>0.808475</td>\n",
       "      <td>0.786441</td>\n",
       "      <td>0.793220</td>\n",
       "      <td>0.784746</td>\n",
       "      <td>0.803390</td>\n",
       "      <td>0.809847</td>\n",
       "      <td>0.796265</td>\n",
       "      <td>0.796265</td>\n",
       "      <td>0.797963</td>\n",
       "      <td>0.814941</td>\n",
       "      <td>0.799155</td>\n",
       "      <td>0.009439</td>\n",
       "      <td>60</td>\n",
       "    </tr>\n",
       "  </tbody>\n",
       "</table>\n",
       "</div>"
      ],
      "text/plain": [
       "   mean_fit_time  std_fit_time  mean_score_time  std_score_time  \\\n",
       "0       0.007419      0.008498         0.015354        0.007167   \n",
       "1       0.006825      0.008198         0.002013        0.003605   \n",
       "2       0.006724      0.008053         0.016097        0.005142   \n",
       "3       0.006723      0.008246         0.005241        0.007797   \n",
       "4       0.004080      0.006600         0.020434        0.007759   \n",
       "\n",
       "  param_n_neighbors param_weights                                     params  \\\n",
       "0                 1       uniform   {'n_neighbors': 1, 'weights': 'uniform'}   \n",
       "1                 1      distance  {'n_neighbors': 1, 'weights': 'distance'}   \n",
       "2                 2       uniform   {'n_neighbors': 2, 'weights': 'uniform'}   \n",
       "3                 2      distance  {'n_neighbors': 2, 'weights': 'distance'}   \n",
       "4                 3       uniform   {'n_neighbors': 3, 'weights': 'uniform'}   \n",
       "\n",
       "   split0_test_score  split1_test_score  split2_test_score  split3_test_score  \\\n",
       "0           0.869492           0.883051           0.876271           0.879661   \n",
       "1           0.869492           0.883051           0.876271           0.879661   \n",
       "2           0.835593           0.828814           0.842373           0.832203   \n",
       "3           0.869492           0.883051           0.876271           0.879661   \n",
       "4           0.808475           0.786441           0.793220           0.784746   \n",
       "\n",
       "   split4_test_score  split5_test_score  split6_test_score  split7_test_score  \\\n",
       "0           0.871186           0.874363           0.867572           0.862479   \n",
       "1           0.871186           0.874363           0.867572           0.862479   \n",
       "2           0.840678           0.840407           0.845501           0.833616   \n",
       "3           0.871186           0.874363           0.867572           0.862479   \n",
       "4           0.803390           0.809847           0.796265           0.796265   \n",
       "\n",
       "   split8_test_score  split9_test_score  mean_test_score  std_test_score  \\\n",
       "0           0.872666           0.891341         0.874808        0.007858   \n",
       "1           0.872666           0.891341         0.874808        0.007858   \n",
       "2           0.840407           0.842105         0.838170        0.005037   \n",
       "3           0.872666           0.891341         0.874808        0.007858   \n",
       "4           0.797963           0.814941         0.799155        0.009439   \n",
       "\n",
       "   rank_test_score  \n",
       "0                1  \n",
       "1                1  \n",
       "2               32  \n",
       "3                1  \n",
       "4               60  "
      ]
     },
     "execution_count": 103,
     "metadata": {},
     "output_type": "execute_result"
    }
   ],
   "source": [
    "grid.cv_results_.keys()\n",
    "pd.DataFrame(grid.cv_results_).head()"
   ]
  },
  {
   "cell_type": "code",
   "execution_count": 104,
   "id": "796202e5",
   "metadata": {},
   "outputs": [
    {
     "data": {
      "text/plain": [
       "KNeighborsClassifier(n_neighbors=1)"
      ]
     },
     "execution_count": 104,
     "metadata": {},
     "output_type": "execute_result"
    }
   ],
   "source": [
    "grid.best_estimator_"
   ]
  },
  {
   "cell_type": "code",
   "execution_count": 105,
   "id": "4942512d",
   "metadata": {},
   "outputs": [
    {
     "data": {
      "text/plain": [
       "0.874808206958073"
      ]
     },
     "execution_count": 105,
     "metadata": {},
     "output_type": "execute_result"
    }
   ],
   "source": [
    "grid.best_score_"
   ]
  },
  {
   "cell_type": "code",
   "execution_count": 106,
   "id": "4318ac9b",
   "metadata": {},
   "outputs": [
    {
     "data": {
      "text/plain": [
       "{'n_neighbors': 1, 'weights': 'uniform'}"
      ]
     },
     "execution_count": 106,
     "metadata": {},
     "output_type": "execute_result"
    }
   ],
   "source": [
    "grid.best_params_"
   ]
  },
  {
   "cell_type": "code",
   "execution_count": 107,
   "id": "6cc701d3",
   "metadata": {},
   "outputs": [],
   "source": [
    "y_pred_grid = grid.predict(X_test_scaler1)"
   ]
  },
  {
   "cell_type": "code",
   "execution_count": 108,
   "id": "e3696d2a",
   "metadata": {},
   "outputs": [
    {
     "name": "stdout",
     "output_type": "stream",
     "text": [
      "                                      precision    recall  f1-score   support\n",
      "\n",
      "                            No Falla       1.00      1.00      1.00       592\n",
      "         Falla entre fase A y fase B       1.00      1.00      1.00       251\n",
      "            Falla en todas las fases       0.59      0.58      0.58       274\n",
      "         Falla entre fase A y tierra       0.98      1.00      0.99       282\n",
      "       Falla entre fase A,B y tierra       1.00      0.98      0.99       284\n",
      "Falla entre todas las fases y tierra       0.59      0.61      0.60       283\n",
      "\n",
      "                            accuracy                           0.88      1966\n",
      "                           macro avg       0.86      0.86      0.86      1966\n",
      "                        weighted avg       0.88      0.88      0.88      1966\n",
      "\n"
     ]
    }
   ],
   "source": [
    "target_names = ['No Falla','Falla entre fase A y fase B','Falla en todas las fases',\n",
    "                'Falla entre fase A y tierra','Falla entre fase A,B y tierra',\n",
    "                'Falla entre todas las fases y tierra']\n",
    "print(classification_report(y_test, y_pred_grid,target_names=target_names))"
   ]
  },
  {
   "cell_type": "code",
   "execution_count": 109,
   "id": "71b5237c",
   "metadata": {},
   "outputs": [
    {
     "data": {
      "text/plain": [
       "<AxesSubplot:>"
      ]
     },
     "execution_count": 109,
     "metadata": {},
     "output_type": "execute_result"
    },
    {
     "data": {
      "image/png": "[encoded data removed]",
      "text/plain": [
       "<Figure size 432x288 with 2 Axes>"
      ]
     },
     "metadata": {
      "needs_background": "light"
     },
     "output_type": "display_data"
    }
   ],
   "source": [
    "confusion = confusion_matrix(y_test, y_pred_grid)\n",
    "sns.heatmap(confusion, annot=True,fmt='d')"
   ]
  },
  {
   "cell_type": "code",
   "execution_count": null,
   "id": "aa8c5878",
   "metadata": {},
   "outputs": [],
   "source": []
  },
  {
   "cell_type": "code",
   "execution_count": null,
   "id": "4787d905",
   "metadata": {},
   "outputs": [],
   "source": []
  }
 ],
 "metadata": {
  "kernelspec": {
   "display_name": "Python 3",
   "language": "python",
   "name": "python3"
  },
  "language_info": {
   "codemirror_mode": {
    "name": "ipython",
    "version": 3
   },
   "file_extension": ".py",
   "mimetype": "text/x-python",
   "name": "python",
   "nbconvert_exporter": "python",
   "pygments_lexer": "ipython3",
   "version": "3.8.5"
  }
 },
 "nbformat": 4,
 "nbformat_minor": 5
}
