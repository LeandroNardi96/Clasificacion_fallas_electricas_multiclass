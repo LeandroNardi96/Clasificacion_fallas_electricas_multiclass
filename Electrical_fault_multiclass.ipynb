{
 "cells": [
  {
   "cell_type": "markdown",
   "id": "486c6ef1-6ca0-4016-a226-2a890363f1bd",
   "metadata": {},
   "source": [
    "# <h1><center>Workshop 3: Predicción de una falla eléctrica</center></h1>"
   ]
  },
  {
   "cell_type": "markdown",
   "id": "97d9cf02-5c15-4a4e-b366-0aed5f56d093",
   "metadata": {},
   "source": [
    "<a id=\"indice\"></a> \n",
    "## Índice\n",
    "\n",
    "### <a href='#section_objetivos'>0. Objetivos del Workshop</a>\n",
    "\n",
    "\n",
    "### <a href='#section_dataset'>1. Dataset</a>\n",
    "- #### <a href='#1.1'>1.1 Análisis generales y balanceo de clases</a>\n",
    "- #### <a href='#1.2'>1.2 Análisis exploratorio: Correlación, histogramas y boxplots</a>\n",
    "\n",
    "\n",
    "### <a href='#2.'>2. Entrenamiento de los modelos de clasificación</a>\n",
    "- #### <a href='#2.1'>2.1 Entrenamiento para la **_target_binaria_**</a>\n",
    "- #### <a href='#2.2'>2.2 Entrenamiento para la variable multiclass</a>\n",
    "- #### <a href='#2.3'>2.3 GridSearchCV</a>\n",
    "\n",
    "### <a href='#3.'>3. Merge de fallas 2 y 5</a>\n",
    "- #### <a href='#3.1'>3.1 Clasificación con unificación de fallas</a>\n",
    "- #### <a href='#3.2'>3.2 GridSeachCV unificación de fallas</a>"
   ]
  },
  {
   "cell_type": "markdown",
   "id": "def3a14c-7dc4-42d4-ae4b-fc79d5478f7a",
   "metadata": {},
   "source": [
    "<a id=\"section_objetivos\"></a> \n",
    "## 0. Objetivos del Workshop\n",
    "<a href='#indice'>Volver a TOC</a>\n",
    "\n",
    "EL objetivo de este trabajo consiste en poder aplicar un modelo de clasificación a un dataset multiclase de fallas eléctricas de Kaggle, el cuál se puede descargar en el siguiente [`enlace`](https://www.kaggle.com/esathyaprakash/electrical-fault-detection-and-classification?select=classData.csv)\n",
    "\n",
    "Dicho dataset consta de las siguientes características:\n",
    "- Inputs: [Ia,Ib,Ic,Va,Vb,Vc] \n",
    "- Outputs: [G C B A]\n",
    "\n",
    "Las variables I hacen referencia a la corriente y las variables V a la tensión de las 3 bobinas de un sistema trifásico.\n",
    "La clasificación de las fallas vienen dadas por las variables G,C,B,A (binarias) cuya combinación de valores definen el tipo de falla:\n",
    "- [0 0 0 0] - No falla\n",
    "- [1 0 0 1] - LG falla(entre fase A y tierra)\n",
    "- [0 1 1 0] - LL falla(entre fase A and fase B)\n",
    "- [1 0 1 1] - LLG falla(entre fase A,B y tierra)\n",
    "- [0 1 1 1] - LLL falla(entre todas las fases)\n",
    "- [1 1 1 1] - LLLG falla(Falla simétrica: falla en todas las fases y tierra)"
   ]
  },
  {
   "cell_type": "markdown",
   "id": "7248ea2c-3d25-4fa8-8622-405550c3d9bc",
   "metadata": {},
   "source": [
    "<a id=\"section_dataset\"></a> \n",
    "## 1. Dataset\n"
   ]
  },
  {
   "cell_type": "markdown",
   "id": "6f76368c-81ca-4a50-803d-2150749ceff2",
   "metadata": {},
   "source": [
    "<a id=\"1.1\"></a> \n",
    "### 1.1 Análisis generales y balanceo de clases\n",
    "<a href='#indice'>Volver a TOC</a>"
   ]
  },
  {
   "cell_type": "code",
   "execution_count": 1,
   "id": "a01ff838-215f-4abe-9a3b-58640c0d144b",
   "metadata": {},
   "outputs": [],
   "source": [
    "import numpy as np\n",
    "import pandas as pd\n",
    "import seaborn as sns\n",
    "import matplotlib.pyplot as plt\n",
    "import matplotlib.ticker as mticker"
   ]
  },
  {
   "cell_type": "code",
   "execution_count": 2,
   "id": "1343915b-c161-4e2b-bd22-3d0cc974a86a",
   "metadata": {},
   "outputs": [
    {
     "data": {
      "text/html": [
       "<div>\n",
       "<style scoped>\n",
       "    .dataframe tbody tr th:only-of-type {\n",
       "        vertical-align: middle;\n",
       "    }\n",
       "\n",
       "    .dataframe tbody tr th {\n",
       "        vertical-align: top;\n",
       "    }\n",
       "\n",
       "    .dataframe thead th {\n",
       "        text-align: right;\n",
       "    }\n",
       "</style>\n",
       "<table border=\"1\" class=\"dataframe\">\n",
       "  <thead>\n",
       "    <tr style=\"text-align: right;\">\n",
       "      <th></th>\n",
       "      <th>G</th>\n",
       "      <th>C</th>\n",
       "      <th>B</th>\n",
       "      <th>A</th>\n",
       "      <th>Ia</th>\n",
       "      <th>Ib</th>\n",
       "      <th>Ic</th>\n",
       "      <th>Va</th>\n",
       "      <th>Vb</th>\n",
       "      <th>Vc</th>\n",
       "    </tr>\n",
       "  </thead>\n",
       "  <tbody>\n",
       "    <tr>\n",
       "      <th>0</th>\n",
       "      <td>1</td>\n",
       "      <td>0</td>\n",
       "      <td>0</td>\n",
       "      <td>1</td>\n",
       "      <td>-151.291812</td>\n",
       "      <td>-9.677452</td>\n",
       "      <td>85.800162</td>\n",
       "      <td>0.400750</td>\n",
       "      <td>-0.132935</td>\n",
       "      <td>-0.267815</td>\n",
       "    </tr>\n",
       "    <tr>\n",
       "      <th>1</th>\n",
       "      <td>1</td>\n",
       "      <td>0</td>\n",
       "      <td>0</td>\n",
       "      <td>1</td>\n",
       "      <td>-336.186183</td>\n",
       "      <td>-76.283262</td>\n",
       "      <td>18.328897</td>\n",
       "      <td>0.312732</td>\n",
       "      <td>-0.123633</td>\n",
       "      <td>-0.189099</td>\n",
       "    </tr>\n",
       "    <tr>\n",
       "      <th>2</th>\n",
       "      <td>1</td>\n",
       "      <td>0</td>\n",
       "      <td>0</td>\n",
       "      <td>1</td>\n",
       "      <td>-502.891583</td>\n",
       "      <td>-174.648023</td>\n",
       "      <td>-80.924663</td>\n",
       "      <td>0.265728</td>\n",
       "      <td>-0.114301</td>\n",
       "      <td>-0.151428</td>\n",
       "    </tr>\n",
       "    <tr>\n",
       "      <th>3</th>\n",
       "      <td>1</td>\n",
       "      <td>0</td>\n",
       "      <td>0</td>\n",
       "      <td>1</td>\n",
       "      <td>-593.941905</td>\n",
       "      <td>-217.703359</td>\n",
       "      <td>-124.891924</td>\n",
       "      <td>0.235511</td>\n",
       "      <td>-0.104940</td>\n",
       "      <td>-0.130570</td>\n",
       "    </tr>\n",
       "    <tr>\n",
       "      <th>4</th>\n",
       "      <td>1</td>\n",
       "      <td>0</td>\n",
       "      <td>0</td>\n",
       "      <td>1</td>\n",
       "      <td>-643.663617</td>\n",
       "      <td>-224.159427</td>\n",
       "      <td>-132.282815</td>\n",
       "      <td>0.209537</td>\n",
       "      <td>-0.095554</td>\n",
       "      <td>-0.113983</td>\n",
       "    </tr>\n",
       "    <tr>\n",
       "      <th>...</th>\n",
       "      <td>...</td>\n",
       "      <td>...</td>\n",
       "      <td>...</td>\n",
       "      <td>...</td>\n",
       "      <td>...</td>\n",
       "      <td>...</td>\n",
       "      <td>...</td>\n",
       "      <td>...</td>\n",
       "      <td>...</td>\n",
       "      <td>...</td>\n",
       "    </tr>\n",
       "    <tr>\n",
       "      <th>7856</th>\n",
       "      <td>0</td>\n",
       "      <td>0</td>\n",
       "      <td>0</td>\n",
       "      <td>0</td>\n",
       "      <td>-66.237921</td>\n",
       "      <td>38.457041</td>\n",
       "      <td>24.912239</td>\n",
       "      <td>0.094421</td>\n",
       "      <td>-0.552019</td>\n",
       "      <td>0.457598</td>\n",
       "    </tr>\n",
       "    <tr>\n",
       "      <th>7857</th>\n",
       "      <td>0</td>\n",
       "      <td>0</td>\n",
       "      <td>0</td>\n",
       "      <td>0</td>\n",
       "      <td>-65.849493</td>\n",
       "      <td>37.465454</td>\n",
       "      <td>25.515675</td>\n",
       "      <td>0.103778</td>\n",
       "      <td>-0.555186</td>\n",
       "      <td>0.451407</td>\n",
       "    </tr>\n",
       "    <tr>\n",
       "      <th>7858</th>\n",
       "      <td>0</td>\n",
       "      <td>0</td>\n",
       "      <td>0</td>\n",
       "      <td>0</td>\n",
       "      <td>-65.446698</td>\n",
       "      <td>36.472055</td>\n",
       "      <td>26.106554</td>\n",
       "      <td>0.113107</td>\n",
       "      <td>-0.558211</td>\n",
       "      <td>0.445104</td>\n",
       "    </tr>\n",
       "    <tr>\n",
       "      <th>7859</th>\n",
       "      <td>0</td>\n",
       "      <td>0</td>\n",
       "      <td>0</td>\n",
       "      <td>0</td>\n",
       "      <td>-65.029633</td>\n",
       "      <td>35.477088</td>\n",
       "      <td>26.684731</td>\n",
       "      <td>0.122404</td>\n",
       "      <td>-0.561094</td>\n",
       "      <td>0.438690</td>\n",
       "    </tr>\n",
       "    <tr>\n",
       "      <th>7860</th>\n",
       "      <td>0</td>\n",
       "      <td>0</td>\n",
       "      <td>0</td>\n",
       "      <td>0</td>\n",
       "      <td>-64.598401</td>\n",
       "      <td>34.480799</td>\n",
       "      <td>27.250065</td>\n",
       "      <td>0.131669</td>\n",
       "      <td>-0.563835</td>\n",
       "      <td>0.432166</td>\n",
       "    </tr>\n",
       "  </tbody>\n",
       "</table>\n",
       "<p>7861 rows × 10 columns</p>\n",
       "</div>"
      ],
      "text/plain": [
       "      G  C  B  A          Ia          Ib          Ic        Va        Vb  \\\n",
       "0     1  0  0  1 -151.291812   -9.677452   85.800162  0.400750 -0.132935   \n",
       "1     1  0  0  1 -336.186183  -76.283262   18.328897  0.312732 -0.123633   \n",
       "2     1  0  0  1 -502.891583 -174.648023  -80.924663  0.265728 -0.114301   \n",
       "3     1  0  0  1 -593.941905 -217.703359 -124.891924  0.235511 -0.104940   \n",
       "4     1  0  0  1 -643.663617 -224.159427 -132.282815  0.209537 -0.095554   \n",
       "...  .. .. .. ..         ...         ...         ...       ...       ...   \n",
       "7856  0  0  0  0  -66.237921   38.457041   24.912239  0.094421 -0.552019   \n",
       "7857  0  0  0  0  -65.849493   37.465454   25.515675  0.103778 -0.555186   \n",
       "7858  0  0  0  0  -65.446698   36.472055   26.106554  0.113107 -0.558211   \n",
       "7859  0  0  0  0  -65.029633   35.477088   26.684731  0.122404 -0.561094   \n",
       "7860  0  0  0  0  -64.598401   34.480799   27.250065  0.131669 -0.563835   \n",
       "\n",
       "            Vc  \n",
       "0    -0.267815  \n",
       "1    -0.189099  \n",
       "2    -0.151428  \n",
       "3    -0.130570  \n",
       "4    -0.113983  \n",
       "...        ...  \n",
       "7856  0.457598  \n",
       "7857  0.451407  \n",
       "7858  0.445104  \n",
       "7859  0.438690  \n",
       "7860  0.432166  \n",
       "\n",
       "[7861 rows x 10 columns]"
      ]
     },
     "execution_count": 2,
     "metadata": {},
     "output_type": "execute_result"
    }
   ],
   "source": [
    "data = pd.read_csv('classData.csv')\n",
    "data"
   ]
  },
  {
   "cell_type": "code",
   "execution_count": 3,
   "id": "a8e319db",
   "metadata": {},
   "outputs": [
    {
     "data": {
      "text/plain": [
       "G     0\n",
       "C     0\n",
       "B     0\n",
       "A     0\n",
       "Ia    0\n",
       "Ib    0\n",
       "Ic    0\n",
       "Va    0\n",
       "Vb    0\n",
       "Vc    0\n",
       "dtype: int64"
      ]
     },
     "execution_count": 3,
     "metadata": {},
     "output_type": "execute_result"
    }
   ],
   "source": [
    "data_null = data.isnull().sum()\n",
    "data_null"
   ]
  },
  {
   "cell_type": "markdown",
   "id": "b2731695-6287-4e35-981d-46bf9fbb7083",
   "metadata": {},
   "source": [
    "Como puede observarse, el dataset no posee valores nulos. Ahora lo que se hará es transformar las variables del output (G,C,B,A) en una única llamada **_target_** la cual clasificará la falla en rango numérico del 0 al 5."
   ]
  },
  {
   "cell_type": "code",
   "execution_count": 4,
   "id": "4c5c684a",
   "metadata": {},
   "outputs": [],
   "source": [
    "def clasifier_fault(data):\n",
    "    target = []\n",
    "    for i in range(0,len(data)):\n",
    "        c = data.iloc[i:int(i+1)].to_numpy().flatten()\n",
    "        if c[0] == 0 and c[1] == 0 and c[2]==0 and c[3]==0:\n",
    "            target.append(0)\n",
    "        elif c[0] == 0 and c[1] == 1 and c[2]==1 and c[3]==0: \n",
    "             target.append(1)\n",
    "        elif c[0] == 0 and c[1] == 1 and c[2]==1 and c[3]==1: \n",
    "             target.append(2)\n",
    "        elif c[0] == 1 and c[1] == 0 and c[2]==0 and c[3]==1: \n",
    "             target.append(3)\n",
    "        elif c[0] == 1 and c[1] == 0 and c[2]==1 and c[3]==1: \n",
    "             target.append(4)\n",
    "        elif c[0] == 1 and c[1] == 1 and c[2]==1 and c[3]==1: \n",
    "             target.append(5)\n",
    "    return target"
   ]
  },
  {
   "cell_type": "code",
   "execution_count": 5,
   "id": "0eccc38e",
   "metadata": {},
   "outputs": [
    {
     "data": {
      "text/html": [
       "<div>\n",
       "<style scoped>\n",
       "    .dataframe tbody tr th:only-of-type {\n",
       "        vertical-align: middle;\n",
       "    }\n",
       "\n",
       "    .dataframe tbody tr th {\n",
       "        vertical-align: top;\n",
       "    }\n",
       "\n",
       "    .dataframe thead th {\n",
       "        text-align: right;\n",
       "    }\n",
       "</style>\n",
       "<table border=\"1\" class=\"dataframe\">\n",
       "  <thead>\n",
       "    <tr style=\"text-align: right;\">\n",
       "      <th></th>\n",
       "      <th>G</th>\n",
       "      <th>C</th>\n",
       "      <th>B</th>\n",
       "      <th>A</th>\n",
       "      <th>Ia</th>\n",
       "      <th>Ib</th>\n",
       "      <th>Ic</th>\n",
       "      <th>Va</th>\n",
       "      <th>Vb</th>\n",
       "      <th>Vc</th>\n",
       "      <th>target</th>\n",
       "    </tr>\n",
       "  </thead>\n",
       "  <tbody>\n",
       "    <tr>\n",
       "      <th>0</th>\n",
       "      <td>1</td>\n",
       "      <td>0</td>\n",
       "      <td>0</td>\n",
       "      <td>1</td>\n",
       "      <td>-151.291812</td>\n",
       "      <td>-9.677452</td>\n",
       "      <td>85.800162</td>\n",
       "      <td>0.400750</td>\n",
       "      <td>-0.132935</td>\n",
       "      <td>-0.267815</td>\n",
       "      <td>3</td>\n",
       "    </tr>\n",
       "    <tr>\n",
       "      <th>1</th>\n",
       "      <td>1</td>\n",
       "      <td>0</td>\n",
       "      <td>0</td>\n",
       "      <td>1</td>\n",
       "      <td>-336.186183</td>\n",
       "      <td>-76.283262</td>\n",
       "      <td>18.328897</td>\n",
       "      <td>0.312732</td>\n",
       "      <td>-0.123633</td>\n",
       "      <td>-0.189099</td>\n",
       "      <td>3</td>\n",
       "    </tr>\n",
       "    <tr>\n",
       "      <th>2</th>\n",
       "      <td>1</td>\n",
       "      <td>0</td>\n",
       "      <td>0</td>\n",
       "      <td>1</td>\n",
       "      <td>-502.891583</td>\n",
       "      <td>-174.648023</td>\n",
       "      <td>-80.924663</td>\n",
       "      <td>0.265728</td>\n",
       "      <td>-0.114301</td>\n",
       "      <td>-0.151428</td>\n",
       "      <td>3</td>\n",
       "    </tr>\n",
       "    <tr>\n",
       "      <th>3</th>\n",
       "      <td>1</td>\n",
       "      <td>0</td>\n",
       "      <td>0</td>\n",
       "      <td>1</td>\n",
       "      <td>-593.941905</td>\n",
       "      <td>-217.703359</td>\n",
       "      <td>-124.891924</td>\n",
       "      <td>0.235511</td>\n",
       "      <td>-0.104940</td>\n",
       "      <td>-0.130570</td>\n",
       "      <td>3</td>\n",
       "    </tr>\n",
       "    <tr>\n",
       "      <th>4</th>\n",
       "      <td>1</td>\n",
       "      <td>0</td>\n",
       "      <td>0</td>\n",
       "      <td>1</td>\n",
       "      <td>-643.663617</td>\n",
       "      <td>-224.159427</td>\n",
       "      <td>-132.282815</td>\n",
       "      <td>0.209537</td>\n",
       "      <td>-0.095554</td>\n",
       "      <td>-0.113983</td>\n",
       "      <td>3</td>\n",
       "    </tr>\n",
       "    <tr>\n",
       "      <th>...</th>\n",
       "      <td>...</td>\n",
       "      <td>...</td>\n",
       "      <td>...</td>\n",
       "      <td>...</td>\n",
       "      <td>...</td>\n",
       "      <td>...</td>\n",
       "      <td>...</td>\n",
       "      <td>...</td>\n",
       "      <td>...</td>\n",
       "      <td>...</td>\n",
       "      <td>...</td>\n",
       "    </tr>\n",
       "    <tr>\n",
       "      <th>7856</th>\n",
       "      <td>0</td>\n",
       "      <td>0</td>\n",
       "      <td>0</td>\n",
       "      <td>0</td>\n",
       "      <td>-66.237921</td>\n",
       "      <td>38.457041</td>\n",
       "      <td>24.912239</td>\n",
       "      <td>0.094421</td>\n",
       "      <td>-0.552019</td>\n",
       "      <td>0.457598</td>\n",
       "      <td>0</td>\n",
       "    </tr>\n",
       "    <tr>\n",
       "      <th>7857</th>\n",
       "      <td>0</td>\n",
       "      <td>0</td>\n",
       "      <td>0</td>\n",
       "      <td>0</td>\n",
       "      <td>-65.849493</td>\n",
       "      <td>37.465454</td>\n",
       "      <td>25.515675</td>\n",
       "      <td>0.103778</td>\n",
       "      <td>-0.555186</td>\n",
       "      <td>0.451407</td>\n",
       "      <td>0</td>\n",
       "    </tr>\n",
       "    <tr>\n",
       "      <th>7858</th>\n",
       "      <td>0</td>\n",
       "      <td>0</td>\n",
       "      <td>0</td>\n",
       "      <td>0</td>\n",
       "      <td>-65.446698</td>\n",
       "      <td>36.472055</td>\n",
       "      <td>26.106554</td>\n",
       "      <td>0.113107</td>\n",
       "      <td>-0.558211</td>\n",
       "      <td>0.445104</td>\n",
       "      <td>0</td>\n",
       "    </tr>\n",
       "    <tr>\n",
       "      <th>7859</th>\n",
       "      <td>0</td>\n",
       "      <td>0</td>\n",
       "      <td>0</td>\n",
       "      <td>0</td>\n",
       "      <td>-65.029633</td>\n",
       "      <td>35.477088</td>\n",
       "      <td>26.684731</td>\n",
       "      <td>0.122404</td>\n",
       "      <td>-0.561094</td>\n",
       "      <td>0.438690</td>\n",
       "      <td>0</td>\n",
       "    </tr>\n",
       "    <tr>\n",
       "      <th>7860</th>\n",
       "      <td>0</td>\n",
       "      <td>0</td>\n",
       "      <td>0</td>\n",
       "      <td>0</td>\n",
       "      <td>-64.598401</td>\n",
       "      <td>34.480799</td>\n",
       "      <td>27.250065</td>\n",
       "      <td>0.131669</td>\n",
       "      <td>-0.563835</td>\n",
       "      <td>0.432166</td>\n",
       "      <td>0</td>\n",
       "    </tr>\n",
       "  </tbody>\n",
       "</table>\n",
       "<p>7861 rows × 11 columns</p>\n",
       "</div>"
      ],
      "text/plain": [
       "      G  C  B  A          Ia          Ib          Ic        Va        Vb  \\\n",
       "0     1  0  0  1 -151.291812   -9.677452   85.800162  0.400750 -0.132935   \n",
       "1     1  0  0  1 -336.186183  -76.283262   18.328897  0.312732 -0.123633   \n",
       "2     1  0  0  1 -502.891583 -174.648023  -80.924663  0.265728 -0.114301   \n",
       "3     1  0  0  1 -593.941905 -217.703359 -124.891924  0.235511 -0.104940   \n",
       "4     1  0  0  1 -643.663617 -224.159427 -132.282815  0.209537 -0.095554   \n",
       "...  .. .. .. ..         ...         ...         ...       ...       ...   \n",
       "7856  0  0  0  0  -66.237921   38.457041   24.912239  0.094421 -0.552019   \n",
       "7857  0  0  0  0  -65.849493   37.465454   25.515675  0.103778 -0.555186   \n",
       "7858  0  0  0  0  -65.446698   36.472055   26.106554  0.113107 -0.558211   \n",
       "7859  0  0  0  0  -65.029633   35.477088   26.684731  0.122404 -0.561094   \n",
       "7860  0  0  0  0  -64.598401   34.480799   27.250065  0.131669 -0.563835   \n",
       "\n",
       "            Vc  target  \n",
       "0    -0.267815       3  \n",
       "1    -0.189099       3  \n",
       "2    -0.151428       3  \n",
       "3    -0.130570       3  \n",
       "4    -0.113983       3  \n",
       "...        ...     ...  \n",
       "7856  0.457598       0  \n",
       "7857  0.451407       0  \n",
       "7858  0.445104       0  \n",
       "7859  0.438690       0  \n",
       "7860  0.432166       0  \n",
       "\n",
       "[7861 rows x 11 columns]"
      ]
     },
     "execution_count": 5,
     "metadata": {},
     "output_type": "execute_result"
    }
   ],
   "source": [
    "df = data.loc[:,['G','C','B','A']]\n",
    "target = clasifier_fault(df)\n",
    "data['target'] = target\n",
    "data"
   ]
  },
  {
   "cell_type": "markdown",
   "id": "9ffaf0b3-cea5-469a-b1d0-b97207149534",
   "metadata": {},
   "source": [
    "Para que sea más simple identificar el tipo de falla, se crea una nueva columna llamada **_falla_** la cual tendrá el tipo de falla en función al valor numérico que se le asignó a la **_target_**"
   ]
  },
  {
   "cell_type": "code",
   "execution_count": 6,
   "id": "1bc172ae",
   "metadata": {},
   "outputs": [],
   "source": [
    "def falla(data):\n",
    "    target = []\n",
    "    if data == 0:\n",
    "        target.append('No hay falla')\n",
    "    elif data == 1:\n",
    "        target.append('Falla entre fase A y fase B')\n",
    "    elif data == 2:\n",
    "        target.append('Falla en todas las fases')\n",
    "    elif data == 3:\n",
    "        target.append('Falla entre fase A y tierra')\n",
    "    elif data == 4:\n",
    "        target.append('Falla entre fase A,B y tierra')\n",
    "    elif data == 5:\n",
    "        target.append('Falla entre todas las fases y tierra')\n",
    "    return target"
   ]
  },
  {
   "cell_type": "code",
   "execution_count": 7,
   "id": "bb67808f",
   "metadata": {},
   "outputs": [
    {
     "data": {
      "text/html": [
       "<div>\n",
       "<style scoped>\n",
       "    .dataframe tbody tr th:only-of-type {\n",
       "        vertical-align: middle;\n",
       "    }\n",
       "\n",
       "    .dataframe tbody tr th {\n",
       "        vertical-align: top;\n",
       "    }\n",
       "\n",
       "    .dataframe thead th {\n",
       "        text-align: right;\n",
       "    }\n",
       "</style>\n",
       "<table border=\"1\" class=\"dataframe\">\n",
       "  <thead>\n",
       "    <tr style=\"text-align: right;\">\n",
       "      <th></th>\n",
       "      <th>G</th>\n",
       "      <th>C</th>\n",
       "      <th>B</th>\n",
       "      <th>A</th>\n",
       "      <th>Ia</th>\n",
       "      <th>Ib</th>\n",
       "      <th>Ic</th>\n",
       "      <th>Va</th>\n",
       "      <th>Vb</th>\n",
       "      <th>Vc</th>\n",
       "      <th>target</th>\n",
       "      <th>falla</th>\n",
       "    </tr>\n",
       "  </thead>\n",
       "  <tbody>\n",
       "    <tr>\n",
       "      <th>0</th>\n",
       "      <td>1</td>\n",
       "      <td>0</td>\n",
       "      <td>0</td>\n",
       "      <td>1</td>\n",
       "      <td>-151.291812</td>\n",
       "      <td>-9.677452</td>\n",
       "      <td>85.800162</td>\n",
       "      <td>0.400750</td>\n",
       "      <td>-0.132935</td>\n",
       "      <td>-0.267815</td>\n",
       "      <td>3</td>\n",
       "      <td>Falla entre fase A y tierra</td>\n",
       "    </tr>\n",
       "    <tr>\n",
       "      <th>1</th>\n",
       "      <td>1</td>\n",
       "      <td>0</td>\n",
       "      <td>0</td>\n",
       "      <td>1</td>\n",
       "      <td>-336.186183</td>\n",
       "      <td>-76.283262</td>\n",
       "      <td>18.328897</td>\n",
       "      <td>0.312732</td>\n",
       "      <td>-0.123633</td>\n",
       "      <td>-0.189099</td>\n",
       "      <td>3</td>\n",
       "      <td>Falla entre fase A y tierra</td>\n",
       "    </tr>\n",
       "    <tr>\n",
       "      <th>2</th>\n",
       "      <td>1</td>\n",
       "      <td>0</td>\n",
       "      <td>0</td>\n",
       "      <td>1</td>\n",
       "      <td>-502.891583</td>\n",
       "      <td>-174.648023</td>\n",
       "      <td>-80.924663</td>\n",
       "      <td>0.265728</td>\n",
       "      <td>-0.114301</td>\n",
       "      <td>-0.151428</td>\n",
       "      <td>3</td>\n",
       "      <td>Falla entre fase A y tierra</td>\n",
       "    </tr>\n",
       "    <tr>\n",
       "      <th>3</th>\n",
       "      <td>1</td>\n",
       "      <td>0</td>\n",
       "      <td>0</td>\n",
       "      <td>1</td>\n",
       "      <td>-593.941905</td>\n",
       "      <td>-217.703359</td>\n",
       "      <td>-124.891924</td>\n",
       "      <td>0.235511</td>\n",
       "      <td>-0.104940</td>\n",
       "      <td>-0.130570</td>\n",
       "      <td>3</td>\n",
       "      <td>Falla entre fase A y tierra</td>\n",
       "    </tr>\n",
       "    <tr>\n",
       "      <th>4</th>\n",
       "      <td>1</td>\n",
       "      <td>0</td>\n",
       "      <td>0</td>\n",
       "      <td>1</td>\n",
       "      <td>-643.663617</td>\n",
       "      <td>-224.159427</td>\n",
       "      <td>-132.282815</td>\n",
       "      <td>0.209537</td>\n",
       "      <td>-0.095554</td>\n",
       "      <td>-0.113983</td>\n",
       "      <td>3</td>\n",
       "      <td>Falla entre fase A y tierra</td>\n",
       "    </tr>\n",
       "    <tr>\n",
       "      <th>...</th>\n",
       "      <td>...</td>\n",
       "      <td>...</td>\n",
       "      <td>...</td>\n",
       "      <td>...</td>\n",
       "      <td>...</td>\n",
       "      <td>...</td>\n",
       "      <td>...</td>\n",
       "      <td>...</td>\n",
       "      <td>...</td>\n",
       "      <td>...</td>\n",
       "      <td>...</td>\n",
       "      <td>...</td>\n",
       "    </tr>\n",
       "    <tr>\n",
       "      <th>7856</th>\n",
       "      <td>0</td>\n",
       "      <td>0</td>\n",
       "      <td>0</td>\n",
       "      <td>0</td>\n",
       "      <td>-66.237921</td>\n",
       "      <td>38.457041</td>\n",
       "      <td>24.912239</td>\n",
       "      <td>0.094421</td>\n",
       "      <td>-0.552019</td>\n",
       "      <td>0.457598</td>\n",
       "      <td>0</td>\n",
       "      <td>No hay falla</td>\n",
       "    </tr>\n",
       "    <tr>\n",
       "      <th>7857</th>\n",
       "      <td>0</td>\n",
       "      <td>0</td>\n",
       "      <td>0</td>\n",
       "      <td>0</td>\n",
       "      <td>-65.849493</td>\n",
       "      <td>37.465454</td>\n",
       "      <td>25.515675</td>\n",
       "      <td>0.103778</td>\n",
       "      <td>-0.555186</td>\n",
       "      <td>0.451407</td>\n",
       "      <td>0</td>\n",
       "      <td>No hay falla</td>\n",
       "    </tr>\n",
       "    <tr>\n",
       "      <th>7858</th>\n",
       "      <td>0</td>\n",
       "      <td>0</td>\n",
       "      <td>0</td>\n",
       "      <td>0</td>\n",
       "      <td>-65.446698</td>\n",
       "      <td>36.472055</td>\n",
       "      <td>26.106554</td>\n",
       "      <td>0.113107</td>\n",
       "      <td>-0.558211</td>\n",
       "      <td>0.445104</td>\n",
       "      <td>0</td>\n",
       "      <td>No hay falla</td>\n",
       "    </tr>\n",
       "    <tr>\n",
       "      <th>7859</th>\n",
       "      <td>0</td>\n",
       "      <td>0</td>\n",
       "      <td>0</td>\n",
       "      <td>0</td>\n",
       "      <td>-65.029633</td>\n",
       "      <td>35.477088</td>\n",
       "      <td>26.684731</td>\n",
       "      <td>0.122404</td>\n",
       "      <td>-0.561094</td>\n",
       "      <td>0.438690</td>\n",
       "      <td>0</td>\n",
       "      <td>No hay falla</td>\n",
       "    </tr>\n",
       "    <tr>\n",
       "      <th>7860</th>\n",
       "      <td>0</td>\n",
       "      <td>0</td>\n",
       "      <td>0</td>\n",
       "      <td>0</td>\n",
       "      <td>-64.598401</td>\n",
       "      <td>34.480799</td>\n",
       "      <td>27.250065</td>\n",
       "      <td>0.131669</td>\n",
       "      <td>-0.563835</td>\n",
       "      <td>0.432166</td>\n",
       "      <td>0</td>\n",
       "      <td>No hay falla</td>\n",
       "    </tr>\n",
       "  </tbody>\n",
       "</table>\n",
       "<p>7861 rows × 12 columns</p>\n",
       "</div>"
      ],
      "text/plain": [
       "      G  C  B  A          Ia          Ib          Ic        Va        Vb  \\\n",
       "0     1  0  0  1 -151.291812   -9.677452   85.800162  0.400750 -0.132935   \n",
       "1     1  0  0  1 -336.186183  -76.283262   18.328897  0.312732 -0.123633   \n",
       "2     1  0  0  1 -502.891583 -174.648023  -80.924663  0.265728 -0.114301   \n",
       "3     1  0  0  1 -593.941905 -217.703359 -124.891924  0.235511 -0.104940   \n",
       "4     1  0  0  1 -643.663617 -224.159427 -132.282815  0.209537 -0.095554   \n",
       "...  .. .. .. ..         ...         ...         ...       ...       ...   \n",
       "7856  0  0  0  0  -66.237921   38.457041   24.912239  0.094421 -0.552019   \n",
       "7857  0  0  0  0  -65.849493   37.465454   25.515675  0.103778 -0.555186   \n",
       "7858  0  0  0  0  -65.446698   36.472055   26.106554  0.113107 -0.558211   \n",
       "7859  0  0  0  0  -65.029633   35.477088   26.684731  0.122404 -0.561094   \n",
       "7860  0  0  0  0  -64.598401   34.480799   27.250065  0.131669 -0.563835   \n",
       "\n",
       "            Vc  target                        falla  \n",
       "0    -0.267815       3  Falla entre fase A y tierra  \n",
       "1    -0.189099       3  Falla entre fase A y tierra  \n",
       "2    -0.151428       3  Falla entre fase A y tierra  \n",
       "3    -0.130570       3  Falla entre fase A y tierra  \n",
       "4    -0.113983       3  Falla entre fase A y tierra  \n",
       "...        ...     ...                          ...  \n",
       "7856  0.457598       0                 No hay falla  \n",
       "7857  0.451407       0                 No hay falla  \n",
       "7858  0.445104       0                 No hay falla  \n",
       "7859  0.438690       0                 No hay falla  \n",
       "7860  0.432166       0                 No hay falla  \n",
       "\n",
       "[7861 rows x 12 columns]"
      ]
     },
     "execution_count": 7,
     "metadata": {},
     "output_type": "execute_result"
    }
   ],
   "source": [
    "data['falla'] = data.target.apply(lambda x: falla(x))\n",
    "data['falla'] = data.falla.apply(lambda x: x[0])\n",
    "data"
   ]
  },
  {
   "cell_type": "markdown",
   "id": "bad7b907-c606-46a5-8cea-5d878261c98e",
   "metadata": {},
   "source": [
    "A continuación, se analiza el balanceo de las clases del dataset"
   ]
  },
  {
   "cell_type": "code",
   "execution_count": 8,
   "id": "823b9ed8",
   "metadata": {},
   "outputs": [
    {
     "data": {
      "text/html": [
       "<div>\n",
       "<style scoped>\n",
       "    .dataframe tbody tr th:only-of-type {\n",
       "        vertical-align: middle;\n",
       "    }\n",
       "\n",
       "    .dataframe tbody tr th {\n",
       "        vertical-align: top;\n",
       "    }\n",
       "\n",
       "    .dataframe thead th {\n",
       "        text-align: right;\n",
       "    }\n",
       "</style>\n",
       "<table border=\"1\" class=\"dataframe\">\n",
       "  <thead>\n",
       "    <tr style=\"text-align: right;\">\n",
       "      <th></th>\n",
       "      <th>Ia</th>\n",
       "    </tr>\n",
       "    <tr>\n",
       "      <th>target</th>\n",
       "      <th></th>\n",
       "    </tr>\n",
       "  </thead>\n",
       "  <tbody>\n",
       "    <tr>\n",
       "      <th>0</th>\n",
       "      <td>30.085231</td>\n",
       "    </tr>\n",
       "    <tr>\n",
       "      <th>1</th>\n",
       "      <td>12.771912</td>\n",
       "    </tr>\n",
       "    <tr>\n",
       "      <th>2</th>\n",
       "      <td>13.942247</td>\n",
       "    </tr>\n",
       "    <tr>\n",
       "      <th>3</th>\n",
       "      <td>14.362040</td>\n",
       "    </tr>\n",
       "    <tr>\n",
       "      <th>4</th>\n",
       "      <td>14.425646</td>\n",
       "    </tr>\n",
       "    <tr>\n",
       "      <th>5</th>\n",
       "      <td>14.412925</td>\n",
       "    </tr>\n",
       "  </tbody>\n",
       "</table>\n",
       "</div>"
      ],
      "text/plain": [
       "               Ia\n",
       "target           \n",
       "0       30.085231\n",
       "1       12.771912\n",
       "2       13.942247\n",
       "3       14.362040\n",
       "4       14.425646\n",
       "5       14.412925"
      ]
     },
     "execution_count": 8,
     "metadata": {},
     "output_type": "execute_result"
    }
   ],
   "source": [
    "data_bal = data.loc[:,['Ia','target']].groupby(['target']).count()\n",
    "data_bal = data_bal.apply(lambda x: x*100/data.shape[0])\n",
    "data_bal"
   ]
  },
  {
   "cell_type": "code",
   "execution_count": 9,
   "id": "7a7dff05",
   "metadata": {},
   "outputs": [
    {
     "data": {
      "text/html": [
       "<div>\n",
       "<style scoped>\n",
       "    .dataframe tbody tr th:only-of-type {\n",
       "        vertical-align: middle;\n",
       "    }\n",
       "\n",
       "    .dataframe tbody tr th {\n",
       "        vertical-align: top;\n",
       "    }\n",
       "\n",
       "    .dataframe thead th {\n",
       "        text-align: right;\n",
       "    }\n",
       "</style>\n",
       "<table border=\"1\" class=\"dataframe\">\n",
       "  <thead>\n",
       "    <tr style=\"text-align: right;\">\n",
       "      <th></th>\n",
       "      <th>Ia</th>\n",
       "    </tr>\n",
       "    <tr>\n",
       "      <th>falla</th>\n",
       "      <th></th>\n",
       "    </tr>\n",
       "  </thead>\n",
       "  <tbody>\n",
       "    <tr>\n",
       "      <th>Falla en todas las fases</th>\n",
       "      <td>13.942247</td>\n",
       "    </tr>\n",
       "    <tr>\n",
       "      <th>Falla entre fase A y fase B</th>\n",
       "      <td>12.771912</td>\n",
       "    </tr>\n",
       "    <tr>\n",
       "      <th>Falla entre fase A y tierra</th>\n",
       "      <td>14.362040</td>\n",
       "    </tr>\n",
       "    <tr>\n",
       "      <th>Falla entre fase A,B y tierra</th>\n",
       "      <td>14.425646</td>\n",
       "    </tr>\n",
       "    <tr>\n",
       "      <th>Falla entre todas las fases y tierra</th>\n",
       "      <td>14.412925</td>\n",
       "    </tr>\n",
       "    <tr>\n",
       "      <th>No hay falla</th>\n",
       "      <td>30.085231</td>\n",
       "    </tr>\n",
       "  </tbody>\n",
       "</table>\n",
       "</div>"
      ],
      "text/plain": [
       "                                             Ia\n",
       "falla                                          \n",
       "Falla en todas las fases              13.942247\n",
       "Falla entre fase A y fase B           12.771912\n",
       "Falla entre fase A y tierra           14.362040\n",
       "Falla entre fase A,B y tierra         14.425646\n",
       "Falla entre todas las fases y tierra  14.412925\n",
       "No hay falla                          30.085231"
      ]
     },
     "execution_count": 9,
     "metadata": {},
     "output_type": "execute_result"
    }
   ],
   "source": [
    "data_bal = data.loc[:,['Ia','falla']].groupby(['falla']).count()\n",
    "data_bal = data_bal.apply(lambda x: x*100/data.shape[0])\n",
    "data_bal"
   ]
  },
  {
   "cell_type": "markdown",
   "id": "b359e2c9-fb02-4c0d-ba10-e1517f42559c",
   "metadata": {},
   "source": [
    "Como puede observarse, el dataset se encuentra desbalanceado entre falla y no falla, aproximadamente en un 30% para no falla y 70% para las fallas. Sin embargo, las fallas sí se encuentran muy bien balanceadas en cuanto a porcentaje de los datos.\n",
    "\n",
    "Para chequear esto mismo, se crea una nueva variable **_target_binaria_** con el fin de observar dicho desbanlaceo de clases entre falla y no falla."
   ]
  },
  {
   "cell_type": "code",
   "execution_count": 10,
   "id": "f367bef0",
   "metadata": {},
   "outputs": [
    {
     "data": {
      "text/html": [
       "<div>\n",
       "<style scoped>\n",
       "    .dataframe tbody tr th:only-of-type {\n",
       "        vertical-align: middle;\n",
       "    }\n",
       "\n",
       "    .dataframe tbody tr th {\n",
       "        vertical-align: top;\n",
       "    }\n",
       "\n",
       "    .dataframe thead th {\n",
       "        text-align: right;\n",
       "    }\n",
       "</style>\n",
       "<table border=\"1\" class=\"dataframe\">\n",
       "  <thead>\n",
       "    <tr style=\"text-align: right;\">\n",
       "      <th></th>\n",
       "      <th>G</th>\n",
       "      <th>C</th>\n",
       "      <th>B</th>\n",
       "      <th>A</th>\n",
       "      <th>Ia</th>\n",
       "      <th>Ib</th>\n",
       "      <th>Ic</th>\n",
       "      <th>Va</th>\n",
       "      <th>Vb</th>\n",
       "      <th>Vc</th>\n",
       "      <th>target</th>\n",
       "      <th>falla</th>\n",
       "      <th>target_binaria</th>\n",
       "    </tr>\n",
       "  </thead>\n",
       "  <tbody>\n",
       "    <tr>\n",
       "      <th>0</th>\n",
       "      <td>1</td>\n",
       "      <td>0</td>\n",
       "      <td>0</td>\n",
       "      <td>1</td>\n",
       "      <td>-151.291812</td>\n",
       "      <td>-9.677452</td>\n",
       "      <td>85.800162</td>\n",
       "      <td>0.400750</td>\n",
       "      <td>-0.132935</td>\n",
       "      <td>-0.267815</td>\n",
       "      <td>3</td>\n",
       "      <td>Falla entre fase A y tierra</td>\n",
       "      <td>1</td>\n",
       "    </tr>\n",
       "    <tr>\n",
       "      <th>1</th>\n",
       "      <td>1</td>\n",
       "      <td>0</td>\n",
       "      <td>0</td>\n",
       "      <td>1</td>\n",
       "      <td>-336.186183</td>\n",
       "      <td>-76.283262</td>\n",
       "      <td>18.328897</td>\n",
       "      <td>0.312732</td>\n",
       "      <td>-0.123633</td>\n",
       "      <td>-0.189099</td>\n",
       "      <td>3</td>\n",
       "      <td>Falla entre fase A y tierra</td>\n",
       "      <td>1</td>\n",
       "    </tr>\n",
       "    <tr>\n",
       "      <th>2</th>\n",
       "      <td>1</td>\n",
       "      <td>0</td>\n",
       "      <td>0</td>\n",
       "      <td>1</td>\n",
       "      <td>-502.891583</td>\n",
       "      <td>-174.648023</td>\n",
       "      <td>-80.924663</td>\n",
       "      <td>0.265728</td>\n",
       "      <td>-0.114301</td>\n",
       "      <td>-0.151428</td>\n",
       "      <td>3</td>\n",
       "      <td>Falla entre fase A y tierra</td>\n",
       "      <td>1</td>\n",
       "    </tr>\n",
       "    <tr>\n",
       "      <th>3</th>\n",
       "      <td>1</td>\n",
       "      <td>0</td>\n",
       "      <td>0</td>\n",
       "      <td>1</td>\n",
       "      <td>-593.941905</td>\n",
       "      <td>-217.703359</td>\n",
       "      <td>-124.891924</td>\n",
       "      <td>0.235511</td>\n",
       "      <td>-0.104940</td>\n",
       "      <td>-0.130570</td>\n",
       "      <td>3</td>\n",
       "      <td>Falla entre fase A y tierra</td>\n",
       "      <td>1</td>\n",
       "    </tr>\n",
       "    <tr>\n",
       "      <th>4</th>\n",
       "      <td>1</td>\n",
       "      <td>0</td>\n",
       "      <td>0</td>\n",
       "      <td>1</td>\n",
       "      <td>-643.663617</td>\n",
       "      <td>-224.159427</td>\n",
       "      <td>-132.282815</td>\n",
       "      <td>0.209537</td>\n",
       "      <td>-0.095554</td>\n",
       "      <td>-0.113983</td>\n",
       "      <td>3</td>\n",
       "      <td>Falla entre fase A y tierra</td>\n",
       "      <td>1</td>\n",
       "    </tr>\n",
       "    <tr>\n",
       "      <th>...</th>\n",
       "      <td>...</td>\n",
       "      <td>...</td>\n",
       "      <td>...</td>\n",
       "      <td>...</td>\n",
       "      <td>...</td>\n",
       "      <td>...</td>\n",
       "      <td>...</td>\n",
       "      <td>...</td>\n",
       "      <td>...</td>\n",
       "      <td>...</td>\n",
       "      <td>...</td>\n",
       "      <td>...</td>\n",
       "      <td>...</td>\n",
       "    </tr>\n",
       "    <tr>\n",
       "      <th>7856</th>\n",
       "      <td>0</td>\n",
       "      <td>0</td>\n",
       "      <td>0</td>\n",
       "      <td>0</td>\n",
       "      <td>-66.237921</td>\n",
       "      <td>38.457041</td>\n",
       "      <td>24.912239</td>\n",
       "      <td>0.094421</td>\n",
       "      <td>-0.552019</td>\n",
       "      <td>0.457598</td>\n",
       "      <td>0</td>\n",
       "      <td>No hay falla</td>\n",
       "      <td>0</td>\n",
       "    </tr>\n",
       "    <tr>\n",
       "      <th>7857</th>\n",
       "      <td>0</td>\n",
       "      <td>0</td>\n",
       "      <td>0</td>\n",
       "      <td>0</td>\n",
       "      <td>-65.849493</td>\n",
       "      <td>37.465454</td>\n",
       "      <td>25.515675</td>\n",
       "      <td>0.103778</td>\n",
       "      <td>-0.555186</td>\n",
       "      <td>0.451407</td>\n",
       "      <td>0</td>\n",
       "      <td>No hay falla</td>\n",
       "      <td>0</td>\n",
       "    </tr>\n",
       "    <tr>\n",
       "      <th>7858</th>\n",
       "      <td>0</td>\n",
       "      <td>0</td>\n",
       "      <td>0</td>\n",
       "      <td>0</td>\n",
       "      <td>-65.446698</td>\n",
       "      <td>36.472055</td>\n",
       "      <td>26.106554</td>\n",
       "      <td>0.113107</td>\n",
       "      <td>-0.558211</td>\n",
       "      <td>0.445104</td>\n",
       "      <td>0</td>\n",
       "      <td>No hay falla</td>\n",
       "      <td>0</td>\n",
       "    </tr>\n",
       "    <tr>\n",
       "      <th>7859</th>\n",
       "      <td>0</td>\n",
       "      <td>0</td>\n",
       "      <td>0</td>\n",
       "      <td>0</td>\n",
       "      <td>-65.029633</td>\n",
       "      <td>35.477088</td>\n",
       "      <td>26.684731</td>\n",
       "      <td>0.122404</td>\n",
       "      <td>-0.561094</td>\n",
       "      <td>0.438690</td>\n",
       "      <td>0</td>\n",
       "      <td>No hay falla</td>\n",
       "      <td>0</td>\n",
       "    </tr>\n",
       "    <tr>\n",
       "      <th>7860</th>\n",
       "      <td>0</td>\n",
       "      <td>0</td>\n",
       "      <td>0</td>\n",
       "      <td>0</td>\n",
       "      <td>-64.598401</td>\n",
       "      <td>34.480799</td>\n",
       "      <td>27.250065</td>\n",
       "      <td>0.131669</td>\n",
       "      <td>-0.563835</td>\n",
       "      <td>0.432166</td>\n",
       "      <td>0</td>\n",
       "      <td>No hay falla</td>\n",
       "      <td>0</td>\n",
       "    </tr>\n",
       "  </tbody>\n",
       "</table>\n",
       "<p>7861 rows × 13 columns</p>\n",
       "</div>"
      ],
      "text/plain": [
       "      G  C  B  A          Ia          Ib          Ic        Va        Vb  \\\n",
       "0     1  0  0  1 -151.291812   -9.677452   85.800162  0.400750 -0.132935   \n",
       "1     1  0  0  1 -336.186183  -76.283262   18.328897  0.312732 -0.123633   \n",
       "2     1  0  0  1 -502.891583 -174.648023  -80.924663  0.265728 -0.114301   \n",
       "3     1  0  0  1 -593.941905 -217.703359 -124.891924  0.235511 -0.104940   \n",
       "4     1  0  0  1 -643.663617 -224.159427 -132.282815  0.209537 -0.095554   \n",
       "...  .. .. .. ..         ...         ...         ...       ...       ...   \n",
       "7856  0  0  0  0  -66.237921   38.457041   24.912239  0.094421 -0.552019   \n",
       "7857  0  0  0  0  -65.849493   37.465454   25.515675  0.103778 -0.555186   \n",
       "7858  0  0  0  0  -65.446698   36.472055   26.106554  0.113107 -0.558211   \n",
       "7859  0  0  0  0  -65.029633   35.477088   26.684731  0.122404 -0.561094   \n",
       "7860  0  0  0  0  -64.598401   34.480799   27.250065  0.131669 -0.563835   \n",
       "\n",
       "            Vc  target                        falla  target_binaria  \n",
       "0    -0.267815       3  Falla entre fase A y tierra               1  \n",
       "1    -0.189099       3  Falla entre fase A y tierra               1  \n",
       "2    -0.151428       3  Falla entre fase A y tierra               1  \n",
       "3    -0.130570       3  Falla entre fase A y tierra               1  \n",
       "4    -0.113983       3  Falla entre fase A y tierra               1  \n",
       "...        ...     ...                          ...             ...  \n",
       "7856  0.457598       0                 No hay falla               0  \n",
       "7857  0.451407       0                 No hay falla               0  \n",
       "7858  0.445104       0                 No hay falla               0  \n",
       "7859  0.438690       0                 No hay falla               0  \n",
       "7860  0.432166       0                 No hay falla               0  \n",
       "\n",
       "[7861 rows x 13 columns]"
      ]
     },
     "execution_count": 10,
     "metadata": {},
     "output_type": "execute_result"
    }
   ],
   "source": [
    "data['target_binaria'] = data.target.apply(lambda x: x if x == 0 else 1)\n",
    "data"
   ]
  },
  {
   "cell_type": "code",
   "execution_count": 11,
   "id": "c15b202e",
   "metadata": {},
   "outputs": [
    {
     "data": {
      "text/html": [
       "<div>\n",
       "<style scoped>\n",
       "    .dataframe tbody tr th:only-of-type {\n",
       "        vertical-align: middle;\n",
       "    }\n",
       "\n",
       "    .dataframe tbody tr th {\n",
       "        vertical-align: top;\n",
       "    }\n",
       "\n",
       "    .dataframe thead th {\n",
       "        text-align: right;\n",
       "    }\n",
       "</style>\n",
       "<table border=\"1\" class=\"dataframe\">\n",
       "  <thead>\n",
       "    <tr style=\"text-align: right;\">\n",
       "      <th></th>\n",
       "      <th>Ia</th>\n",
       "    </tr>\n",
       "    <tr>\n",
       "      <th>target_binaria</th>\n",
       "      <th></th>\n",
       "    </tr>\n",
       "  </thead>\n",
       "  <tbody>\n",
       "    <tr>\n",
       "      <th>0</th>\n",
       "      <td>30.085231</td>\n",
       "    </tr>\n",
       "    <tr>\n",
       "      <th>1</th>\n",
       "      <td>69.914769</td>\n",
       "    </tr>\n",
       "  </tbody>\n",
       "</table>\n",
       "</div>"
      ],
      "text/plain": [
       "                       Ia\n",
       "target_binaria           \n",
       "0               30.085231\n",
       "1               69.914769"
      ]
     },
     "execution_count": 11,
     "metadata": {},
     "output_type": "execute_result"
    }
   ],
   "source": [
    "data_bal = data.loc[:,['Ia','target_binaria']].groupby(['target_binaria']).count()\n",
    "data_bal = data_bal.apply(lambda x: x*100/data.shape[0])\n",
    "data_bal"
   ]
  },
  {
   "cell_type": "markdown",
   "id": "d218c29d-94f0-4325-b055-5633241a7832",
   "metadata": {},
   "source": [
    "<a id=\"1.2\"></a> \n",
    "### 1.2 Análisis exploratorio: Correlación, histogramas y boxplots\n",
    "<a href='#indice'>Volver a TOC</a>\n",
    "\n",
    "A continuación, se presenta la correlación que existe entre las features, y las targets creadas"
   ]
  },
  {
   "cell_type": "code",
   "execution_count": 12,
   "id": "b235ba0e",
   "metadata": {},
   "outputs": [
    {
     "data": {
      "text/plain": [
       "<AxesSubplot:>"
      ]
     },
     "execution_count": 12,
     "metadata": {},
     "output_type": "execute_result"
    },
    {
     "data": {
      "image/png": "[encoded data removed]",
      "text/plain": [
       "<Figure size 1440x720 with 2 Axes>"
      ]
     },
     "metadata": {
      "needs_background": "light"
     },
     "output_type": "display_data"
    }
   ],
   "source": [
    "fig, ax = plt.subplots(figsize = (20, 10))\n",
    "sns.heatmap(data.loc[:,['Ia','Ib','Ic','Va','Vb','Vc','target','target_binaria']].corr(),annot=True,ax=ax)"
   ]
  },
  {
   "cell_type": "markdown",
   "id": "26bfb06e-1bc2-4e8a-a4eb-61e8b8544d16",
   "metadata": {},
   "source": [
    "Luego, se procede a realizar un histograma para cada feature con respecto a la **_target_binaria_** "
   ]
  },
  {
   "cell_type": "code",
   "execution_count": 13,
   "id": "dabf0773",
   "metadata": {},
   "outputs": [
    {
     "data": {
      "image/png": "[encoded data removed]",
      "text/plain": [
       "<Figure size 1296x864 with 6 Axes>"
      ]
     },
     "metadata": {
      "needs_background": "light"
     },
     "output_type": "display_data"
    }
   ],
   "source": [
    "dataplot = data[[\"Ia\",\"Ib\",\"Ic\",\"Va\",\"Vb\",\"Vc\",\"target_binaria\"]]\n",
    "fig, axes = plt.subplots(nrows=2, ncols=3, figsize=(18,12))\n",
    "fig.suptitle('Histogramas normalizados',size=22)\n",
    "label_format = '{0:.3g}'\n",
    "for c, ax in zip(dataplot.columns[:-1], axes.flatten()):\n",
    "    sns.histplot(data = dataplot.loc[dataplot['target_binaria']==0, c].dropna(), stat = 'density', ax = ax, kde = False)\n",
    "    sns.histplot(data = dataplot.loc[dataplot['target_binaria']==1, c].dropna(), stat = 'density', kde=False, ax=ax, color = 'orange')\n",
    "    ax.legend(['target_binaria = 0', 'target_binaria = 1'],prop={'size': 13})\n",
    "    x_label = ax.get_xlabel()\n",
    "    y_label = ax.get_ylabel()\n",
    "    plt.draw()\n",
    "    x_ticks = ax.get_xticklabels()\n",
    "    y_ticks = ax.get_yticklabels()\n",
    "    ticks_loc = ax.get_yticks().tolist()\n",
    "    ticks_loc_x = ax.get_xticks().tolist()\n",
    "    ax.yaxis.set_major_locator(mticker.FixedLocator(ticks_loc))\n",
    "    ax.xaxis.set_major_locator(mticker.FixedLocator(ticks_loc_x))\n",
    "    ax.set_yticklabels([label_format.format(x) for x in ticks_loc],size='x-large')\n",
    "    ax.set_xticklabels([label_format.format(x) for x in ticks_loc_x],size='x-large')\n",
    "    ax.set_xlabel(x_label,weight='bold',size='xx-large',alpha=0.8,family= 'Arial',stretch='extra-expanded')\n",
    "    ax.set_ylabel(y_label,weight='bold',size='xx-large',alpha=0.8,family= 'Arial',stretch='extra-expanded')\n",
    "fig.tight_layout()"
   ]
  },
  {
   "cell_type": "markdown",
   "id": "2906b6c4-f223-4c93-bcde-1a92b6e21300",
   "metadata": {},
   "source": [
    "Para el caso de la target multiclass, se procede a realizar boxplots para cada features, respecto al tipo de falla correspondiente"
   ]
  },
  {
   "cell_type": "code",
   "execution_count": 14,
   "id": "9f5cbabf",
   "metadata": {},
   "outputs": [
    {
     "data": {
      "image/png": "[encoded data removed]",
      "text/plain": [
       "<Figure size 1296x360 with 2 Axes>"
      ]
     },
     "metadata": {
      "needs_background": "light"
     },
     "output_type": "display_data"
    },
    {
     "data": {
      "image/png": "[encoded data removed]",
      "text/plain": [
       "<Figure size 1296x360 with 2 Axes>"
      ]
     },
     "metadata": {
      "needs_background": "light"
     },
     "output_type": "display_data"
    },
    {
     "data": {
      "image/png": "[encoded data removed]",
      "text/plain": [
       "<Figure size 1296x360 with 2 Axes>"
      ]
     },
     "metadata": {
      "needs_background": "light"
     },
     "output_type": "display_data"
    },
    {
     "data": {
      "image/png": "[encoded data removed]",
      "text/plain": [
       "<Figure size 1296x360 with 2 Axes>"
      ]
     },
     "metadata": {
      "needs_background": "light"
     },
     "output_type": "display_data"
    },
    {
     "data": {
      "image/png": "[encoded data removed]",
      "text/plain": [
       "<Figure size 1296x360 with 2 Axes>"
      ]
     },
     "metadata": {
      "needs_background": "light"
     },
     "output_type": "display_data"
    },
    {
     "data": {
      "image/png": "[encoded data removed]",
      "text/plain": [
       "<Figure size 1296x360 with 2 Axes>"
      ]
     },
     "metadata": {
      "needs_background": "light"
     },
     "output_type": "display_data"
    }
   ],
   "source": [
    "dataplot_corriente = data[[\"Ia\",\"Ib\",\"Ic\",\"target\"]]\n",
    "dataplot_voltaje = data[[\"Va\",\"Vb\",\"Vc\",\"target\"]]\n",
    "label_format = '{0:.3g}'\n",
    "for y in data.target.value_counts().index.sort_values():\n",
    "    fig, axes = plt.subplots(nrows=1, ncols=2, figsize=(18,5))\n",
    "    fig.suptitle('Boxplots normalizados para Target =%i'%y,size=18)\n",
    "    for i, ax in zip(range(1,3), axes.flatten()):\n",
    "        if i == 1:\n",
    "            sns.boxplot(x=\"variable\", y=\"value\", data=pd.melt(dataplot_corriente.loc[dataplot_corriente.target == y,[\"Ia\",\"Ib\",\"Ic\"]]),ax = ax)\n",
    "            plt.draw()\n",
    "            x_ticks = ax.get_xticklabels()\n",
    "            y_ticks = ax.get_yticklabels()\n",
    "            ticks_loc = ax.get_yticks().tolist()\n",
    "            ax.yaxis.set_major_locator(mticker.FixedLocator(ticks_loc))\n",
    "            ax.set_yticklabels([label_format.format(x) for x in ticks_loc],size='x-large')\n",
    "            ax.set_xlabel('')\n",
    "            ax.set_ylabel('')\n",
    "            ax.set_xticklabels(x_ticks,size='x-large')\n",
    "        else:\n",
    "            sns.boxplot(x=\"variable\", y=\"value\", data=pd.melt(dataplot_voltaje.loc[dataplot_voltaje.target == y,[\"Va\",\"Vb\",\"Vc\"]]),ax = ax)\n",
    "            plt.draw()\n",
    "            x_ticks = ax.get_xticklabels()\n",
    "            y_ticks = ax.get_yticklabels()\n",
    "            ticks_loc = ax.get_yticks().tolist()\n",
    "            ax.yaxis.set_major_locator(mticker.FixedLocator(ticks_loc))\n",
    "            ax.set_yticklabels([label_format.format(x) for x in ticks_loc],size='x-large')\n",
    "            ax.set_xlabel('')\n",
    "            ax.set_ylabel('')\n",
    "            ax.set_xticklabels(x_ticks,size='x-large')"
   ]
  },
  {
   "cell_type": "markdown",
   "id": "e8c23fe8-f20e-49df-936d-d6e5d7a85b0c",
   "metadata": {},
   "source": [
    "<a id=\"2.\"></a> \n",
    "## 2. Entrenamiento de los modelos de clasificación"
   ]
  },
  {
   "cell_type": "code",
   "execution_count": 15,
   "id": "7cfe975b-edbd-4501-bcda-b6ec5c479bef",
   "metadata": {},
   "outputs": [],
   "source": [
    "from sklearn.model_selection import train_test_split,StratifiedKFold,GridSearchCV\n",
    "from sklearn.preprocessing import StandardScaler\n",
    "from sklearn.neighbors import KNeighborsClassifier\n",
    "from sklearn.metrics import accuracy_score,confusion_matrix,classification_report,roc_curve,auc\n",
    "from sklearn.linear_model import LogisticRegression"
   ]
  },
  {
   "cell_type": "markdown",
   "id": "274e49ae-239e-435c-9066-9e4f23690fdc",
   "metadata": {},
   "source": [
    "<a id=\"2.1\"></a> \n",
    "## 2.1 Entrenamiento para la **_target_binaria_**\n",
    "<a href='#indice'>Volver a TOC</a>"
   ]
  },
  {
   "cell_type": "markdown",
   "id": "612a3d00-2616-4394-bdf8-81eeea8a2b5c",
   "metadata": {},
   "source": [
    "En esta primer instancia, se propone entrenar el modelo desbalanceado para la **_target_binaria_** con el algoritmo KNN, sin utilizar GridSearch, ya que el mismo se lo hará para el caso multivariable."
   ]
  },
  {
   "cell_type": "code",
   "execution_count": 16,
   "id": "21a8b466",
   "metadata": {},
   "outputs": [],
   "source": [
    "X = data.loc[:,['Ia','Ib','Ic','Va','Vb','Vc']]\n",
    "y = data.target_binaria"
   ]
  },
  {
   "cell_type": "code",
   "execution_count": 17,
   "id": "871f2079",
   "metadata": {},
   "outputs": [],
   "source": [
    "X_train, X_test, y_train, y_test = train_test_split(X, y, stratify=y, random_state=0)"
   ]
  },
  {
   "cell_type": "code",
   "execution_count": 18,
   "id": "c02347f9",
   "metadata": {},
   "outputs": [],
   "source": [
    "scaler = StandardScaler()\n",
    "X_train_scaler = scaler.fit_transform(X_train)\n",
    "X_test_scaler = scaler.transform(X_test)"
   ]
  },
  {
   "cell_type": "code",
   "execution_count": 19,
   "id": "4dfd2f0c",
   "metadata": {},
   "outputs": [
    {
     "data": {
      "text/plain": [
       "KNeighborsClassifier()"
      ]
     },
     "execution_count": 19,
     "metadata": {},
     "output_type": "execute_result"
    }
   ],
   "source": [
    "knn = KNeighborsClassifier()\n",
    "knn.fit(X_train_scaler, y_train)"
   ]
  },
  {
   "cell_type": "code",
   "execution_count": 20,
   "id": "2ee9e932",
   "metadata": {},
   "outputs": [],
   "source": [
    "y_pred_train = knn.predict(X_train_scaler)"
   ]
  },
  {
   "cell_type": "code",
   "execution_count": 21,
   "id": "d8f56156",
   "metadata": {},
   "outputs": [
    {
     "name": "stdout",
     "output_type": "stream",
     "text": [
      "1.0\n"
     ]
    },
    {
     "data": {
      "image/png": "[encoded data removed]",
      "text/plain": [
       "<Figure size 432x288 with 2 Axes>"
      ]
     },
     "metadata": {
      "needs_background": "light"
     },
     "output_type": "display_data"
    }
   ],
   "source": [
    "print(accuracy_score(y_train, y_pred_train))\n",
    "cm = confusion_matrix(y_train, y_pred_train)\n",
    "sns.heatmap(cm, annot=True,fmt='d')\n",
    "plt.ylabel('Verdaderos')\n",
    "plt.xlabel('Predichos');"
   ]
  },
  {
   "cell_type": "code",
   "execution_count": 22,
   "id": "455fb91c",
   "metadata": {},
   "outputs": [
    {
     "name": "stdout",
     "output_type": "stream",
     "text": [
      "0.9994913530010173\n"
     ]
    },
    {
     "data": {
      "image/png": "[encoded data removed]",
      "text/plain": [
       "<Figure size 432x288 with 2 Axes>"
      ]
     },
     "metadata": {
      "needs_background": "light"
     },
     "output_type": "display_data"
    }
   ],
   "source": [
    "y_pred_test = knn.predict(X_test_scaler)\n",
    "print(accuracy_score(y_test, y_pred_test))\n",
    "cm = confusion_matrix(y_test, y_pred_test)\n",
    "sns.heatmap(cm, annot=True,fmt='d')\n",
    "plt.ylabel('Verdaderos')\n",
    "plt.xlabel('Predichos');"
   ]
  },
  {
   "cell_type": "markdown",
   "id": "bd99d60a-b455-4b68-9a12-d9746951abb4",
   "metadata": {},
   "source": [
    "Se puede observar que el accuracy del algoritmo es muy bueno, incluso sin haber seteado ningún hiperparámetro y utilizando los que ya vienen por default. Para mayor información se presenta los datos de otras métricas de la matriz de confusión, como también así curva de ROC y el Area bajo la curva de ROC."
   ]
  },
  {
   "cell_type": "code",
   "execution_count": 23,
   "id": "7251e399-49e6-4d25-8671-9ff7218fe447",
   "metadata": {},
   "outputs": [
    {
     "name": "stdout",
     "output_type": "stream",
     "text": [
      "              precision    recall  f1-score   support\n",
      "\n",
      "    No Falla       1.00      1.00      1.00       591\n",
      "       Falla       1.00      1.00      1.00      1375\n",
      "\n",
      "    accuracy                           1.00      1966\n",
      "   macro avg       1.00      1.00      1.00      1966\n",
      "weighted avg       1.00      1.00      1.00      1966\n",
      "\n"
     ]
    }
   ],
   "source": [
    "print(classification_report(y_test, y_pred_test, target_names = ['No Falla','Falla']))"
   ]
  },
  {
   "cell_type": "code",
   "execution_count": 24,
   "id": "6c784fa1",
   "metadata": {},
   "outputs": [
    {
     "data": {
      "image/png": "[encoded data removed]",
      "text/plain": [
       "<Figure size 432x288 with 1 Axes>"
      ]
     },
     "metadata": {
      "needs_background": "light"
     },
     "output_type": "display_data"
    }
   ],
   "source": [
    "y_pred_knn_roc = knn.predict_proba(X_test_scaler)\n",
    "fpr,tpr,_ = roc_curve(y_test, y_pred_knn_roc[:,1])\n",
    "df = pd.DataFrame(dict(fpr=fpr, tpr=tpr))\n",
    "plt.axis([0, 1.01, 0, 1.01])\n",
    "plt.xlabel('1 - Specificty')\n",
    "plt.ylabel('TPR / Sensitivity')\n",
    "plt.title('ROC Curve')\n",
    "plt.plot(df['fpr'],df['tpr'])\n",
    "plt.plot(np.arange(0,1, step =0.01), np.arange(0,1, step =0.01))\n",
    "plt.show() "
   ]
  },
  {
   "cell_type": "markdown",
   "id": "5e182dd6-b1c5-4ec6-8f63-e53babaf51aa",
   "metadata": {},
   "source": [
    "Ahora, se propone realizar lo mismo, epro esta vez se utilizará el modelo de la regresión logística."
   ]
  },
  {
   "cell_type": "code",
   "execution_count": 25,
   "id": "6106f073-e67b-4b80-b6bf-e8fa83256eac",
   "metadata": {},
   "outputs": [
    {
     "data": {
      "text/plain": [
       "LogisticRegression()"
      ]
     },
     "execution_count": 25,
     "metadata": {},
     "output_type": "execute_result"
    }
   ],
   "source": [
    "logistic_regression = LogisticRegression() \n",
    "logistic_regression.fit(X_train, y_train)"
   ]
  },
  {
   "cell_type": "code",
   "execution_count": 26,
   "id": "a7fc7502-8e2c-4083-abee-b57fb16ed8fb",
   "metadata": {},
   "outputs": [
    {
     "name": "stdout",
     "output_type": "stream",
     "text": [
      "0.6990670059372349\n"
     ]
    },
    {
     "data": {
      "image/png": "[encoded data removed]",
      "text/plain": [
       "<Figure size 432x288 with 2 Axes>"
      ]
     },
     "metadata": {
      "needs_background": "light"
     },
     "output_type": "display_data"
    }
   ],
   "source": [
    "y_pred_train_lr = logistic_regression.predict(X_train_scaler)\n",
    "print(accuracy_score(y_train, y_pred_train_lr))\n",
    "cm_train_lr = confusion_matrix(y_train, y_pred_train_lr)\n",
    "sns.heatmap(cm_train_lr, annot=True,fmt='d')\n",
    "plt.ylabel('Verdaderos')\n",
    "plt.xlabel('Predichos');"
   ]
  },
  {
   "cell_type": "code",
   "execution_count": 27,
   "id": "72685a87-c281-4393-a3fc-abfb5c75e7b0",
   "metadata": {},
   "outputs": [
    {
     "name": "stdout",
     "output_type": "stream",
     "text": [
      "0.6993896236012207\n"
     ]
    },
    {
     "data": {
      "text/plain": [
       "<AxesSubplot:>"
      ]
     },
     "execution_count": 27,
     "metadata": {},
     "output_type": "execute_result"
    },
    {
     "data": {
      "image/png": "[encoded data removed]",
      "text/plain": [
       "<Figure size 432x288 with 2 Axes>"
      ]
     },
     "metadata": {
      "needs_background": "light"
     },
     "output_type": "display_data"
    }
   ],
   "source": [
    "y_pred_test_lr = logistic_regression.predict(X_test)\n",
    "print(accuracy_score(y_test, y_pred_test_lr))\n",
    "cm_test_lr = confusion_matrix(y_test, y_pred_test_lr)\n",
    "sns.heatmap(cm_test_lr, annot=True,fmt='d')"
   ]
  },
  {
   "cell_type": "markdown",
   "id": "09d2caab-33d1-4005-9c21-5d6030779a33",
   "metadata": {},
   "source": [
    "Como se puede observar, el algoritmo no performa bien, ya que se encuentra muy sesgado, decidiendo todas las clases negativas como falsas positivas. Esto puede deberse al debalanceo del dataset. Sin embargo, modificar el umbral tampoco ayudó a mejorar la performance del mismo"
   ]
  },
  {
   "cell_type": "code",
   "execution_count": 28,
   "id": "9a899c15-97ee-45e4-ad94-7bb5ce397c0e",
   "metadata": {},
   "outputs": [
    {
     "name": "stdout",
     "output_type": "stream",
     "text": [
      "0.5988125530110263\n"
     ]
    },
    {
     "data": {
      "image/png": "[encoded data removed]",
      "text/plain": [
       "<Figure size 432x288 with 2 Axes>"
      ]
     },
     "metadata": {
      "needs_background": "light"
     },
     "output_type": "display_data"
    }
   ],
   "source": [
    "y_pred_train_lr_proba = logistic_regression.predict_proba(X_train)\n",
    "umbral = 0.65\n",
    "preds = np.where(y_pred_train_lr_proba[:,1] > umbral, 1, 0)\n",
    "print(accuracy_score(y_train, preds))\n",
    "cm_train_lr = confusion_matrix(y_train, preds)\n",
    "sns.heatmap(cm_train_lr, annot=True,fmt='d')\n",
    "plt.ylabel('Verdaderos')\n",
    "plt.xlabel('Predichos');"
   ]
  },
  {
   "cell_type": "markdown",
   "id": "86d6fa22-2347-4288-966e-0d45357cd081",
   "metadata": {},
   "source": [
    "A medida que se vaya modificando el umbral, se observará que el accuracy nunca será mejor que el 70 %, y el al intentar mejorar los TN, se pierde precisión y empeora el accuracy. Es por este motivo, que se elige KNN como algoritmo de predicción para el caso multiclass y para este también."
   ]
  },
  {
   "cell_type": "markdown",
   "id": "5f108d1f",
   "metadata": {},
   "source": [
    "<a id=\"2.2\"></a> \n",
    "## 2.2 Entrenamiento para la variable multiclass\n",
    "<a href='#indice'>Volver a TOC</a>"
   ]
  },
  {
   "cell_type": "code",
   "execution_count": 29,
   "id": "ff12ad84",
   "metadata": {},
   "outputs": [],
   "source": [
    "y = data.target"
   ]
  },
  {
   "cell_type": "code",
   "execution_count": 30,
   "id": "2bd6a5b6",
   "metadata": {},
   "outputs": [],
   "source": [
    "X_train_mc, X_test_mc, y_train_mc, y_test_mc = train_test_split(X, y,stratify=y, random_state=0)"
   ]
  },
  {
   "cell_type": "code",
   "execution_count": 31,
   "id": "3780f478",
   "metadata": {},
   "outputs": [],
   "source": [
    "scaler = StandardScaler()\n",
    "X_train_scaler_mc = scaler.fit_transform(X_train_mc)\n",
    "X_test_scaler_mc = scaler.transform(X_test_mc)"
   ]
  },
  {
   "cell_type": "code",
   "execution_count": 32,
   "id": "42fe1c78",
   "metadata": {},
   "outputs": [
    {
     "data": {
      "text/plain": [
       "KNeighborsClassifier()"
      ]
     },
     "execution_count": 32,
     "metadata": {},
     "output_type": "execute_result"
    }
   ],
   "source": [
    "knn.fit(X_train_scaler_mc, y_train_mc)"
   ]
  },
  {
   "cell_type": "code",
   "execution_count": 33,
   "id": "12c1118c",
   "metadata": {},
   "outputs": [],
   "source": [
    "y_pred_train_mc = knn.predict(X_train_scaler_mc)"
   ]
  },
  {
   "cell_type": "code",
   "execution_count": 34,
   "id": "8a7a1162",
   "metadata": {},
   "outputs": [
    {
     "name": "stdout",
     "output_type": "stream",
     "text": [
      "0.8729431721798134\n"
     ]
    },
    {
     "data": {
      "text/plain": [
       "<AxesSubplot:>"
      ]
     },
     "execution_count": 34,
     "metadata": {},
     "output_type": "execute_result"
    },
    {
     "data": {
      "image/png": "[encoded data removed]",
      "text/plain": [
       "<Figure size 432x288 with 2 Axes>"
      ]
     },
     "metadata": {
      "needs_background": "light"
     },
     "output_type": "display_data"
    }
   ],
   "source": [
    "print(accuracy_score(y_train_mc, y_pred_train_mc))\n",
    "cm = confusion_matrix(y_train_mc, y_pred_train_mc)\n",
    "sns.heatmap(cm, annot=True,fmt='d')"
   ]
  },
  {
   "cell_type": "code",
   "execution_count": 35,
   "id": "9d90f611",
   "metadata": {},
   "outputs": [
    {
     "name": "stdout",
     "output_type": "stream",
     "text": [
      "0.8041709053916581\n"
     ]
    },
    {
     "data": {
      "text/plain": [
       "<AxesSubplot:>"
      ]
     },
     "execution_count": 35,
     "metadata": {},
     "output_type": "execute_result"
    },
    {
     "data": {
      "image/png": "[encoded data removed]",
      "text/plain": [
       "<Figure size 432x288 with 2 Axes>"
      ]
     },
     "metadata": {
      "needs_background": "light"
     },
     "output_type": "display_data"
    }
   ],
   "source": [
    "y_pred_test_mc = knn.predict(X_test_scaler_mc)\n",
    "print(accuracy_score(y_test_mc, y_pred_test_mc))\n",
    "cm = confusion_matrix(y_test_mc, y_pred_test_mc)\n",
    "sns.heatmap(cm, annot=True,fmt='d')"
   ]
  },
  {
   "cell_type": "markdown",
   "id": "8ad4419c-eb6c-462a-9eba-c6c04322e191",
   "metadata": {},
   "source": [
    "Como se puede observar, la performance no es tan buena como el caso binario, es por este motivo, que se prodece a utilizar GridSearchCV para encontrar una mejor selección de hiperparámetros y mejorar así la performance del algoritmo."
   ]
  },
  {
   "cell_type": "markdown",
   "id": "2f6a8547-6acf-45d5-8424-8b6ac92e8db5",
   "metadata": {},
   "source": [
    "<a id=\"2.3\"></a> \n",
    "## 2.3 GridSearchCV\n",
    "<a href='#indice'>Volver a TOC</a>"
   ]
  },
  {
   "cell_type": "code",
   "execution_count": 36,
   "id": "7e83b153",
   "metadata": {},
   "outputs": [],
   "source": [
    "k_range = list(range(1, 31))\n",
    "weight_options = ['uniform', 'distance']\n",
    "param_grid = dict(n_neighbors=k_range, weights=weight_options)"
   ]
  },
  {
   "cell_type": "code",
   "execution_count": 37,
   "id": "82a7a28d",
   "metadata": {},
   "outputs": [],
   "source": [
    "folds=StratifiedKFold(n_splits=10, random_state=0, shuffle=True)"
   ]
  },
  {
   "cell_type": "code",
   "execution_count": 38,
   "id": "aa3ae7f9",
   "metadata": {},
   "outputs": [],
   "source": [
    "grid = GridSearchCV(knn, param_grid, cv=folds, scoring='accuracy')"
   ]
  },
  {
   "cell_type": "code",
   "execution_count": 39,
   "id": "851e6680",
   "metadata": {},
   "outputs": [
    {
     "data": {
      "text/plain": [
       "GridSearchCV(cv=StratifiedKFold(n_splits=10, random_state=0, shuffle=True),\n",
       "             estimator=KNeighborsClassifier(),\n",
       "             param_grid={'n_neighbors': [1, 2, 3, 4, 5, 6, 7, 8, 9, 10, 11, 12,\n",
       "                                         13, 14, 15, 16, 17, 18, 19, 20, 21, 22,\n",
       "                                         23, 24, 25, 26, 27, 28, 29, 30],\n",
       "                         'weights': ['uniform', 'distance']},\n",
       "             scoring='accuracy')"
      ]
     },
     "execution_count": 39,
     "metadata": {},
     "output_type": "execute_result"
    }
   ],
   "source": [
    "grid.fit(X_train_scaler_mc, y_train_mc)"
   ]
  },
  {
   "cell_type": "code",
   "execution_count": 40,
   "id": "458b28b8",
   "metadata": {},
   "outputs": [
    {
     "data": {
      "text/html": [
       "<div>\n",
       "<style scoped>\n",
       "    .dataframe tbody tr th:only-of-type {\n",
       "        vertical-align: middle;\n",
       "    }\n",
       "\n",
       "    .dataframe tbody tr th {\n",
       "        vertical-align: top;\n",
       "    }\n",
       "\n",
       "    .dataframe thead th {\n",
       "        text-align: right;\n",
       "    }\n",
       "</style>\n",
       "<table border=\"1\" class=\"dataframe\">\n",
       "  <thead>\n",
       "    <tr style=\"text-align: right;\">\n",
       "      <th></th>\n",
       "      <th>mean_fit_time</th>\n",
       "      <th>std_fit_time</th>\n",
       "      <th>mean_score_time</th>\n",
       "      <th>std_score_time</th>\n",
       "      <th>param_n_neighbors</th>\n",
       "      <th>param_weights</th>\n",
       "      <th>params</th>\n",
       "      <th>split0_test_score</th>\n",
       "      <th>split1_test_score</th>\n",
       "      <th>split2_test_score</th>\n",
       "      <th>split3_test_score</th>\n",
       "      <th>split4_test_score</th>\n",
       "      <th>split5_test_score</th>\n",
       "      <th>split6_test_score</th>\n",
       "      <th>split7_test_score</th>\n",
       "      <th>split8_test_score</th>\n",
       "      <th>split9_test_score</th>\n",
       "      <th>mean_test_score</th>\n",
       "      <th>std_test_score</th>\n",
       "      <th>rank_test_score</th>\n",
       "    </tr>\n",
       "  </thead>\n",
       "  <tbody>\n",
       "    <tr>\n",
       "      <th>0</th>\n",
       "      <td>0.012841</td>\n",
       "      <td>0.003585</td>\n",
       "      <td>0.026315</td>\n",
       "      <td>0.006490</td>\n",
       "      <td>1</td>\n",
       "      <td>uniform</td>\n",
       "      <td>{'n_neighbors': 1, 'weights': 'uniform'}</td>\n",
       "      <td>0.869492</td>\n",
       "      <td>0.883051</td>\n",
       "      <td>0.876271</td>\n",
       "      <td>0.879661</td>\n",
       "      <td>0.871186</td>\n",
       "      <td>0.874363</td>\n",
       "      <td>0.867572</td>\n",
       "      <td>0.862479</td>\n",
       "      <td>0.872666</td>\n",
       "      <td>0.891341</td>\n",
       "      <td>0.874808</td>\n",
       "      <td>0.007858</td>\n",
       "      <td>1</td>\n",
       "    </tr>\n",
       "    <tr>\n",
       "      <th>1</th>\n",
       "      <td>0.011281</td>\n",
       "      <td>0.005064</td>\n",
       "      <td>0.004285</td>\n",
       "      <td>0.003800</td>\n",
       "      <td>1</td>\n",
       "      <td>distance</td>\n",
       "      <td>{'n_neighbors': 1, 'weights': 'distance'}</td>\n",
       "      <td>0.869492</td>\n",
       "      <td>0.883051</td>\n",
       "      <td>0.876271</td>\n",
       "      <td>0.879661</td>\n",
       "      <td>0.871186</td>\n",
       "      <td>0.874363</td>\n",
       "      <td>0.867572</td>\n",
       "      <td>0.862479</td>\n",
       "      <td>0.872666</td>\n",
       "      <td>0.891341</td>\n",
       "      <td>0.874808</td>\n",
       "      <td>0.007858</td>\n",
       "      <td>1</td>\n",
       "    </tr>\n",
       "    <tr>\n",
       "      <th>2</th>\n",
       "      <td>0.009996</td>\n",
       "      <td>0.004472</td>\n",
       "      <td>0.022241</td>\n",
       "      <td>0.003923</td>\n",
       "      <td>2</td>\n",
       "      <td>uniform</td>\n",
       "      <td>{'n_neighbors': 2, 'weights': 'uniform'}</td>\n",
       "      <td>0.835593</td>\n",
       "      <td>0.828814</td>\n",
       "      <td>0.842373</td>\n",
       "      <td>0.832203</td>\n",
       "      <td>0.840678</td>\n",
       "      <td>0.840407</td>\n",
       "      <td>0.845501</td>\n",
       "      <td>0.833616</td>\n",
       "      <td>0.840407</td>\n",
       "      <td>0.842105</td>\n",
       "      <td>0.838170</td>\n",
       "      <td>0.005037</td>\n",
       "      <td>32</td>\n",
       "    </tr>\n",
       "    <tr>\n",
       "      <th>3</th>\n",
       "      <td>0.009007</td>\n",
       "      <td>0.003002</td>\n",
       "      <td>0.003996</td>\n",
       "      <td>0.004894</td>\n",
       "      <td>2</td>\n",
       "      <td>distance</td>\n",
       "      <td>{'n_neighbors': 2, 'weights': 'distance'}</td>\n",
       "      <td>0.869492</td>\n",
       "      <td>0.883051</td>\n",
       "      <td>0.876271</td>\n",
       "      <td>0.879661</td>\n",
       "      <td>0.871186</td>\n",
       "      <td>0.874363</td>\n",
       "      <td>0.867572</td>\n",
       "      <td>0.862479</td>\n",
       "      <td>0.872666</td>\n",
       "      <td>0.891341</td>\n",
       "      <td>0.874808</td>\n",
       "      <td>0.007858</td>\n",
       "      <td>1</td>\n",
       "    </tr>\n",
       "    <tr>\n",
       "      <th>4</th>\n",
       "      <td>0.008996</td>\n",
       "      <td>0.005386</td>\n",
       "      <td>0.021999</td>\n",
       "      <td>0.003993</td>\n",
       "      <td>3</td>\n",
       "      <td>uniform</td>\n",
       "      <td>{'n_neighbors': 3, 'weights': 'uniform'}</td>\n",
       "      <td>0.808475</td>\n",
       "      <td>0.786441</td>\n",
       "      <td>0.793220</td>\n",
       "      <td>0.784746</td>\n",
       "      <td>0.803390</td>\n",
       "      <td>0.809847</td>\n",
       "      <td>0.796265</td>\n",
       "      <td>0.796265</td>\n",
       "      <td>0.797963</td>\n",
       "      <td>0.814941</td>\n",
       "      <td>0.799155</td>\n",
       "      <td>0.009439</td>\n",
       "      <td>60</td>\n",
       "    </tr>\n",
       "  </tbody>\n",
       "</table>\n",
       "</div>"
      ],
      "text/plain": [
       "   mean_fit_time  std_fit_time  mean_score_time  std_score_time  \\\n",
       "0       0.012841      0.003585         0.026315        0.006490   \n",
       "1       0.011281      0.005064         0.004285        0.003800   \n",
       "2       0.009996      0.004472         0.022241        0.003923   \n",
       "3       0.009007      0.003002         0.003996        0.004894   \n",
       "4       0.008996      0.005386         0.021999        0.003993   \n",
       "\n",
       "  param_n_neighbors param_weights                                     params  \\\n",
       "0                 1       uniform   {'n_neighbors': 1, 'weights': 'uniform'}   \n",
       "1                 1      distance  {'n_neighbors': 1, 'weights': 'distance'}   \n",
       "2                 2       uniform   {'n_neighbors': 2, 'weights': 'uniform'}   \n",
       "3                 2      distance  {'n_neighbors': 2, 'weights': 'distance'}   \n",
       "4                 3       uniform   {'n_neighbors': 3, 'weights': 'uniform'}   \n",
       "\n",
       "   split0_test_score  split1_test_score  split2_test_score  split3_test_score  \\\n",
       "0           0.869492           0.883051           0.876271           0.879661   \n",
       "1           0.869492           0.883051           0.876271           0.879661   \n",
       "2           0.835593           0.828814           0.842373           0.832203   \n",
       "3           0.869492           0.883051           0.876271           0.879661   \n",
       "4           0.808475           0.786441           0.793220           0.784746   \n",
       "\n",
       "   split4_test_score  split5_test_score  split6_test_score  split7_test_score  \\\n",
       "0           0.871186           0.874363           0.867572           0.862479   \n",
       "1           0.871186           0.874363           0.867572           0.862479   \n",
       "2           0.840678           0.840407           0.845501           0.833616   \n",
       "3           0.871186           0.874363           0.867572           0.862479   \n",
       "4           0.803390           0.809847           0.796265           0.796265   \n",
       "\n",
       "   split8_test_score  split9_test_score  mean_test_score  std_test_score  \\\n",
       "0           0.872666           0.891341         0.874808        0.007858   \n",
       "1           0.872666           0.891341         0.874808        0.007858   \n",
       "2           0.840407           0.842105         0.838170        0.005037   \n",
       "3           0.872666           0.891341         0.874808        0.007858   \n",
       "4           0.797963           0.814941         0.799155        0.009439   \n",
       "\n",
       "   rank_test_score  \n",
       "0                1  \n",
       "1                1  \n",
       "2               32  \n",
       "3                1  \n",
       "4               60  "
      ]
     },
     "execution_count": 40,
     "metadata": {},
     "output_type": "execute_result"
    }
   ],
   "source": [
    "pd.DataFrame(grid.cv_results_).head()"
   ]
  },
  {
   "cell_type": "code",
   "execution_count": 41,
   "id": "86bea449",
   "metadata": {},
   "outputs": [
    {
     "data": {
      "text/plain": [
       "KNeighborsClassifier(n_neighbors=1)"
      ]
     },
     "execution_count": 41,
     "metadata": {},
     "output_type": "execute_result"
    }
   ],
   "source": [
    "grid.best_estimator_"
   ]
  },
  {
   "cell_type": "code",
   "execution_count": 42,
   "id": "9ba59dd3",
   "metadata": {},
   "outputs": [
    {
     "data": {
      "text/plain": [
       "0.874808206958073"
      ]
     },
     "execution_count": 42,
     "metadata": {},
     "output_type": "execute_result"
    }
   ],
   "source": [
    "grid.best_score_"
   ]
  },
  {
   "cell_type": "code",
   "execution_count": 43,
   "id": "390abb56",
   "metadata": {},
   "outputs": [
    {
     "data": {
      "text/plain": [
       "{'n_neighbors': 1, 'weights': 'uniform'}"
      ]
     },
     "execution_count": 43,
     "metadata": {},
     "output_type": "execute_result"
    }
   ],
   "source": [
    "grid.best_params_"
   ]
  },
  {
   "cell_type": "code",
   "execution_count": 44,
   "id": "ae7b0dbd",
   "metadata": {},
   "outputs": [],
   "source": [
    "y_pred_grid = grid.predict(X_test_scaler_mc)"
   ]
  },
  {
   "cell_type": "code",
   "execution_count": 45,
   "id": "adac8dae",
   "metadata": {},
   "outputs": [
    {
     "name": "stdout",
     "output_type": "stream",
     "text": [
      "                                      precision    recall  f1-score   support\n",
      "\n",
      "                            No Falla       1.00      1.00      1.00       592\n",
      "         Falla entre fase A y fase B       1.00      1.00      1.00       251\n",
      "            Falla en todas las fases       0.59      0.58      0.58       274\n",
      "         Falla entre fase A y tierra       0.98      1.00      0.99       282\n",
      "       Falla entre fase A,B y tierra       1.00      0.98      0.99       284\n",
      "Falla entre todas las fases y tierra       0.59      0.61      0.60       283\n",
      "\n",
      "                            accuracy                           0.88      1966\n",
      "                           macro avg       0.86      0.86      0.86      1966\n",
      "                        weighted avg       0.88      0.88      0.88      1966\n",
      "\n"
     ]
    }
   ],
   "source": [
    "target_names = ['No Falla','Falla entre fase A y fase B','Falla en todas las fases',\n",
    "                'Falla entre fase A y tierra','Falla entre fase A,B y tierra',\n",
    "                'Falla entre todas las fases y tierra']\n",
    "print(classification_report(y_test_mc, y_pred_grid,target_names=target_names))"
   ]
  },
  {
   "cell_type": "code",
   "execution_count": 46,
   "id": "244a360a",
   "metadata": {},
   "outputs": [
    {
     "data": {
      "text/plain": [
       "<AxesSubplot:>"
      ]
     },
     "execution_count": 46,
     "metadata": {},
     "output_type": "execute_result"
    },
    {
     "data": {
      "image/png": "[encoded data removed]",
      "text/plain": [
       "<Figure size 432x288 with 2 Axes>"
      ]
     },
     "metadata": {
      "needs_background": "light"
     },
     "output_type": "display_data"
    }
   ],
   "source": [
    "confusion = confusion_matrix(y_test_mc, y_pred_grid)\n",
    "sns.heatmap(confusion, annot=True,fmt='d')"
   ]
  },
  {
   "cell_type": "markdown",
   "id": "2b901b20-d50f-4aec-a3b3-72b0414d6457",
   "metadata": {},
   "source": [
    "Se puede observar que el algoritmo posee muchos falsos positivos tanto para la falla 2 con la falla 5 y viceserva. De manera que se intuye que existe una alta correlación entre estas fallas, así que se propone unificarlas en una única falla llamada 'Falla total' para observar como performa el mismo."
   ]
  },
  {
   "cell_type": "markdown",
   "id": "f061d29e",
   "metadata": {},
   "source": [
    "<a id=\"3.\"></a> \n",
    "## 3. Merge de fallas 2 y 5\n",
    "<a href='#indice'>Volver a TOC</a>"
   ]
  },
  {
   "cell_type": "code",
   "execution_count": 47,
   "id": "f007b4a8",
   "metadata": {},
   "outputs": [],
   "source": [
    "def clasifier_fault_unification(data):\n",
    "    target = []\n",
    "    for i in range(0,len(data)):\n",
    "        c = data.iloc[i:int(i+1)].to_numpy().flatten()\n",
    "        if c[0] == 0 and c[1] == 0 and c[2]==0 and c[3]==0:\n",
    "            target.append(0)\n",
    "        elif c[0] == 0 and c[1] == 1 and c[2]==1 and c[3]==0: \n",
    "             target.append(1)\n",
    "        elif c[0] == 0 and c[1] == 1 and c[2]==1 and c[3]==1: \n",
    "             target.append(2)\n",
    "        elif c[0] == 1 and c[1] == 0 and c[2]==0 and c[3]==1: \n",
    "             target.append(3)\n",
    "        elif c[0] == 1 and c[1] == 0 and c[2]==1 and c[3]==1: \n",
    "             target.append(4)\n",
    "        elif c[0] == 1 and c[1] == 1 and c[2]==1 and c[3]==1: \n",
    "             target.append(2)\n",
    "    return target"
   ]
  },
  {
   "cell_type": "code",
   "execution_count": 48,
   "id": "955e58e5",
   "metadata": {},
   "outputs": [],
   "source": [
    "def falla_unificacion(data):\n",
    "    target = []\n",
    "    if data == 0:\n",
    "        target.append('No hay falla')\n",
    "    elif data == 1:\n",
    "        target.append('Falla entre fase A y fase B')\n",
    "    elif data == 2:\n",
    "        target.append('Falla Total')\n",
    "    elif data == 3:\n",
    "        target.append('Falla entre fase A y tierra')\n",
    "    elif data == 4:\n",
    "        target.append('Falla entre fase A,B y tierra')\n",
    "    return target"
   ]
  },
  {
   "cell_type": "code",
   "execution_count": 49,
   "id": "8ce6793a",
   "metadata": {},
   "outputs": [
    {
     "data": {
      "text/html": [
       "<div>\n",
       "<style scoped>\n",
       "    .dataframe tbody tr th:only-of-type {\n",
       "        vertical-align: middle;\n",
       "    }\n",
       "\n",
       "    .dataframe tbody tr th {\n",
       "        vertical-align: top;\n",
       "    }\n",
       "\n",
       "    .dataframe thead th {\n",
       "        text-align: right;\n",
       "    }\n",
       "</style>\n",
       "<table border=\"1\" class=\"dataframe\">\n",
       "  <thead>\n",
       "    <tr style=\"text-align: right;\">\n",
       "      <th></th>\n",
       "      <th>G</th>\n",
       "      <th>C</th>\n",
       "      <th>B</th>\n",
       "      <th>A</th>\n",
       "      <th>Ia</th>\n",
       "      <th>Ib</th>\n",
       "      <th>Ic</th>\n",
       "      <th>Va</th>\n",
       "      <th>Vb</th>\n",
       "      <th>Vc</th>\n",
       "      <th>target</th>\n",
       "      <th>falla</th>\n",
       "      <th>target_binaria</th>\n",
       "      <th>target_unif</th>\n",
       "      <th>falla_unif</th>\n",
       "    </tr>\n",
       "  </thead>\n",
       "  <tbody>\n",
       "    <tr>\n",
       "      <th>65</th>\n",
       "      <td>1</td>\n",
       "      <td>0</td>\n",
       "      <td>0</td>\n",
       "      <td>1</td>\n",
       "      <td>-701.537145</td>\n",
       "      <td>-24.870535</td>\n",
       "      <td>-21.323767</td>\n",
       "      <td>-0.099878</td>\n",
       "      <td>0.434583</td>\n",
       "      <td>-0.334706</td>\n",
       "      <td>3</td>\n",
       "      <td>Falla entre fase A y tierra</td>\n",
       "      <td>1</td>\n",
       "      <td>3</td>\n",
       "      <td>Falla entre fase A y tierra</td>\n",
       "    </tr>\n",
       "    <tr>\n",
       "      <th>1853</th>\n",
       "      <td>1</td>\n",
       "      <td>0</td>\n",
       "      <td>1</td>\n",
       "      <td>1</td>\n",
       "      <td>173.791633</td>\n",
       "      <td>659.410304</td>\n",
       "      <td>57.750302</td>\n",
       "      <td>0.040679</td>\n",
       "      <td>-0.288961</td>\n",
       "      <td>0.248282</td>\n",
       "      <td>4</td>\n",
       "      <td>Falla entre fase A,B y tierra</td>\n",
       "      <td>1</td>\n",
       "      <td>4</td>\n",
       "      <td>Falla entre fase A,B y tierra</td>\n",
       "    </tr>\n",
       "    <tr>\n",
       "      <th>5228</th>\n",
       "      <td>1</td>\n",
       "      <td>1</td>\n",
       "      <td>1</td>\n",
       "      <td>1</td>\n",
       "      <td>-798.120677</td>\n",
       "      <td>70.588785</td>\n",
       "      <td>727.529628</td>\n",
       "      <td>-0.033874</td>\n",
       "      <td>0.039018</td>\n",
       "      <td>-0.005144</td>\n",
       "      <td>5</td>\n",
       "      <td>Falla entre todas las fases y tierra</td>\n",
       "      <td>1</td>\n",
       "      <td>2</td>\n",
       "      <td>Falla Total</td>\n",
       "    </tr>\n",
       "    <tr>\n",
       "      <th>236</th>\n",
       "      <td>1</td>\n",
       "      <td>0</td>\n",
       "      <td>0</td>\n",
       "      <td>1</td>\n",
       "      <td>879.342097</td>\n",
       "      <td>52.810696</td>\n",
       "      <td>1.317679</td>\n",
       "      <td>-0.062236</td>\n",
       "      <td>-0.204515</td>\n",
       "      <td>0.266751</td>\n",
       "      <td>3</td>\n",
       "      <td>Falla entre fase A y tierra</td>\n",
       "      <td>1</td>\n",
       "      <td>3</td>\n",
       "      <td>Falla entre fase A y tierra</td>\n",
       "    </tr>\n",
       "    <tr>\n",
       "      <th>6614</th>\n",
       "      <td>0</td>\n",
       "      <td>0</td>\n",
       "      <td>0</td>\n",
       "      <td>0</td>\n",
       "      <td>-69.747221</td>\n",
       "      <td>79.063884</td>\n",
       "      <td>-12.548976</td>\n",
       "      <td>-0.295055</td>\n",
       "      <td>-0.303940</td>\n",
       "      <td>0.598995</td>\n",
       "      <td>0</td>\n",
       "      <td>No hay falla</td>\n",
       "      <td>0</td>\n",
       "      <td>0</td>\n",
       "      <td>No hay falla</td>\n",
       "    </tr>\n",
       "  </tbody>\n",
       "</table>\n",
       "</div>"
      ],
      "text/plain": [
       "      G  C  B  A          Ia          Ib          Ic        Va        Vb  \\\n",
       "65    1  0  0  1 -701.537145  -24.870535  -21.323767 -0.099878  0.434583   \n",
       "1853  1  0  1  1  173.791633  659.410304   57.750302  0.040679 -0.288961   \n",
       "5228  1  1  1  1 -798.120677   70.588785  727.529628 -0.033874  0.039018   \n",
       "236   1  0  0  1  879.342097   52.810696    1.317679 -0.062236 -0.204515   \n",
       "6614  0  0  0  0  -69.747221   79.063884  -12.548976 -0.295055 -0.303940   \n",
       "\n",
       "            Vc  target                                 falla  target_binaria  \\\n",
       "65   -0.334706       3           Falla entre fase A y tierra               1   \n",
       "1853  0.248282       4         Falla entre fase A,B y tierra               1   \n",
       "5228 -0.005144       5  Falla entre todas las fases y tierra               1   \n",
       "236   0.266751       3           Falla entre fase A y tierra               1   \n",
       "6614  0.598995       0                          No hay falla               0   \n",
       "\n",
       "      target_unif                     falla_unif  \n",
       "65              3    Falla entre fase A y tierra  \n",
       "1853            4  Falla entre fase A,B y tierra  \n",
       "5228            2                    Falla Total  \n",
       "236             3    Falla entre fase A y tierra  \n",
       "6614            0                   No hay falla  "
      ]
     },
     "execution_count": 49,
     "metadata": {},
     "output_type": "execute_result"
    }
   ],
   "source": [
    "df_unif = data.loc[:,['G','C','B','A']]\n",
    "target_unif = clasifier_fault_unification(df_unif)\n",
    "data['target_unif'] = target_unif\n",
    "data['falla_unif'] = data.target_unif.apply(lambda x: falla_unificacion(x))\n",
    "data['falla_unif'] = data.falla_unif.apply(lambda x: x[0])\n",
    "data.sample(5)"
   ]
  },
  {
   "cell_type": "code",
   "execution_count": 50,
   "id": "a7b9f666",
   "metadata": {},
   "outputs": [
    {
     "data": {
      "image/png": "[encoded data removed]",
      "text/plain": [
       "<Figure size 1296x360 with 2 Axes>"
      ]
     },
     "metadata": {
      "needs_background": "light"
     },
     "output_type": "display_data"
    },
    {
     "data": {
      "image/png": "[encoded data removed]",
      "text/plain": [
       "<Figure size 1296x360 with 2 Axes>"
      ]
     },
     "metadata": {
      "needs_background": "light"
     },
     "output_type": "display_data"
    },
    {
     "data": {
      "image/png": "[encoded data removed]",
      "text/plain": [
       "<Figure size 1296x360 with 2 Axes>"
      ]
     },
     "metadata": {
      "needs_background": "light"
     },
     "output_type": "display_data"
    },
    {
     "data": {
      "image/png": "[encoded data removed]",
      "text/plain": [
       "<Figure size 1296x360 with 2 Axes>"
      ]
     },
     "metadata": {
      "needs_background": "light"
     },
     "output_type": "display_data"
    },
    {
     "data": {
      "image/png": "[encoded data removed]",
      "text/plain": [
       "<Figure size 1296x360 with 2 Axes>"
      ]
     },
     "metadata": {
      "needs_background": "light"
     },
     "output_type": "display_data"
    }
   ],
   "source": [
    "dataplot_corriente1 = data[[\"Ia\",\"Ib\",\"Ic\",\"target_unif\"]]\n",
    "dataplot_voltaje1 = data[[\"Va\",\"Vb\",\"Vc\",\"target_unif\"]]\n",
    "for y in data.target_unif.value_counts().index.sort_values():\n",
    "    fig, axes = plt.subplots(nrows=1, ncols=2, figsize=(18,5))\n",
    "    fig.suptitle('Boxplots normalizados para Target =%i'%y,size=18)\n",
    "    for i, ax in zip(range(1,3), axes.flatten()):\n",
    "        if i == 1:\n",
    "            sns.boxplot(x=\"variable\", y=\"value\", data=pd.melt(dataplot_corriente1.loc[dataplot_corriente1.target_unif == y,\n",
    "                                                                                      [\"Ia\",\"Ib\",\"Ic\"]]),ax = ax)\n",
    "            plt.draw()\n",
    "            x_ticks = ax.get_xticklabels()\n",
    "            y_ticks = ax.get_yticklabels()\n",
    "            ticks_loc = ax.get_yticks().tolist()\n",
    "            ax.yaxis.set_major_locator(mticker.FixedLocator(ticks_loc))\n",
    "            ax.set_yticklabels([label_format.format(x) for x in ticks_loc],size='x-large')\n",
    "            ax.set_xlabel('')\n",
    "            ax.set_ylabel('')\n",
    "            ax.set_xticklabels(x_ticks,size='x-large')\n",
    "        else:\n",
    "            sns.boxplot(x=\"variable\", y=\"value\", data=pd.melt(dataplot_voltaje1.loc[dataplot_voltaje1.target_unif == y,\n",
    "                                                                                    [\"Va\",\"Vb\",\"Vc\"]]),ax = ax)\n",
    "            plt.draw()\n",
    "            x_ticks = ax.get_xticklabels()\n",
    "            y_ticks = ax.get_yticklabels()\n",
    "            ticks_loc = ax.get_yticks().tolist()\n",
    "            ax.yaxis.set_major_locator(mticker.FixedLocator(ticks_loc))\n",
    "            ax.set_yticklabels([label_format.format(x) for x in ticks_loc],size='x-large')\n",
    "            ax.set_xlabel('')\n",
    "            ax.set_ylabel('')\n",
    "            ax.set_xticklabels(x_ticks,size='x-large')"
   ]
  },
  {
   "cell_type": "markdown",
   "id": "d7dadab1",
   "metadata": {},
   "source": [
    "<a id=\"3.1\"></a> \n",
    "## 3.1 Clasificación con unificación de fallas\n",
    "<a href='#indice'>Volver a TOC</a>"
   ]
  },
  {
   "cell_type": "code",
   "execution_count": 51,
   "id": "dc3fcf4a",
   "metadata": {},
   "outputs": [],
   "source": [
    "y = data.target_unif"
   ]
  },
  {
   "cell_type": "code",
   "execution_count": 52,
   "id": "04352ee4",
   "metadata": {},
   "outputs": [],
   "source": [
    "X_train_mc_2, X_test_mc_2, y_train_mc_2, y_test_mc_2 = train_test_split(X, y,stratify=y, random_state=0)"
   ]
  },
  {
   "cell_type": "code",
   "execution_count": 53,
   "id": "1736520b",
   "metadata": {},
   "outputs": [],
   "source": [
    "scaler = StandardScaler()\n",
    "X_train_scaler_mc_2 = scaler.fit_transform(X_train_mc_2)\n",
    "X_test_scaler_mc_2 = scaler.transform(X_test_mc_2)"
   ]
  },
  {
   "cell_type": "code",
   "execution_count": 54,
   "id": "881cff0f",
   "metadata": {},
   "outputs": [
    {
     "data": {
      "text/plain": [
       "KNeighborsClassifier()"
      ]
     },
     "execution_count": 54,
     "metadata": {},
     "output_type": "execute_result"
    }
   ],
   "source": [
    "knn.fit(X_train_scaler_mc_2, y_train_mc_2)"
   ]
  },
  {
   "cell_type": "code",
   "execution_count": 55,
   "id": "4ac9d3cb",
   "metadata": {},
   "outputs": [],
   "source": [
    "y_pred_train_mc_2 = knn.predict(X_train_scaler_mc_2)"
   ]
  },
  {
   "cell_type": "code",
   "execution_count": 56,
   "id": "b6b3b2d0",
   "metadata": {},
   "outputs": [
    {
     "name": "stdout",
     "output_type": "stream",
     "text": [
      "0.9938931297709923\n"
     ]
    },
    {
     "data": {
      "text/plain": [
       "<AxesSubplot:>"
      ]
     },
     "execution_count": 56,
     "metadata": {},
     "output_type": "execute_result"
    },
    {
     "data": {
      "image/png": "[encoded data removed]",
      "text/plain": [
       "<Figure size 432x288 with 2 Axes>"
      ]
     },
     "metadata": {
      "needs_background": "light"
     },
     "output_type": "display_data"
    }
   ],
   "source": [
    "print(accuracy_score(y_train_mc_2, y_pred_train_mc_2))\n",
    "cm = confusion_matrix(y_train_mc_2, y_pred_train_mc_2)\n",
    "sns.heatmap(cm, annot=True,fmt='d')"
   ]
  },
  {
   "cell_type": "code",
   "execution_count": 57,
   "id": "20265f60",
   "metadata": {},
   "outputs": [
    {
     "name": "stdout",
     "output_type": "stream",
     "text": [
      "0.9908443540183113\n"
     ]
    },
    {
     "data": {
      "text/plain": [
       "<AxesSubplot:>"
      ]
     },
     "execution_count": 57,
     "metadata": {},
     "output_type": "execute_result"
    },
    {
     "data": {
      "image/png": "[encoded data removed]",
      "text/plain": [
       "<Figure size 432x288 with 2 Axes>"
      ]
     },
     "metadata": {
      "needs_background": "light"
     },
     "output_type": "display_data"
    }
   ],
   "source": [
    "y_pred_test_mc_2 = knn.predict(X_test_scaler_mc_2)\n",
    "print(accuracy_score(y_test_mc_2, y_pred_test_mc_2))\n",
    "cm = confusion_matrix(y_test_mc_2, y_pred_test_mc_2)\n",
    "sns.heatmap(cm, annot=True,fmt='d')"
   ]
  },
  {
   "cell_type": "markdown",
   "id": "d5725a76-df80-40cc-9687-14972edb52dd",
   "metadata": {},
   "source": [
    "Se puede observar que el rendimiento mejoró notablemente fusionando ambas fallas. Ahora se procede a realizar GridSearchCV para obtener la mejor combinación de hiperparámetros."
   ]
  },
  {
   "cell_type": "markdown",
   "id": "01560a94-d0b3-4e9c-8576-0db616426e1f",
   "metadata": {},
   "source": [
    "<a id=\"3.2\"></a> \n",
    "## 3.2 GridSeachCV unificación de fallas\n",
    "<a href='#indice'>Volver a TOC</a>"
   ]
  },
  {
   "cell_type": "code",
   "execution_count": 58,
   "id": "8982a710",
   "metadata": {},
   "outputs": [],
   "source": [
    "folds=StratifiedKFold(n_splits=10, random_state=0, shuffle=True)"
   ]
  },
  {
   "cell_type": "code",
   "execution_count": 59,
   "id": "fc958ed1",
   "metadata": {},
   "outputs": [],
   "source": [
    "grid2 = GridSearchCV(knn, param_grid, cv=folds, scoring='accuracy')"
   ]
  },
  {
   "cell_type": "code",
   "execution_count": 60,
   "id": "459e94d7",
   "metadata": {},
   "outputs": [
    {
     "data": {
      "text/plain": [
       "GridSearchCV(cv=StratifiedKFold(n_splits=10, random_state=0, shuffle=True),\n",
       "             estimator=KNeighborsClassifier(),\n",
       "             param_grid={'n_neighbors': [1, 2, 3, 4, 5, 6, 7, 8, 9, 10, 11, 12,\n",
       "                                         13, 14, 15, 16, 17, 18, 19, 20, 21, 22,\n",
       "                                         23, 24, 25, 26, 27, 28, 29, 30],\n",
       "                         'weights': ['uniform', 'distance']},\n",
       "             scoring='accuracy')"
      ]
     },
     "execution_count": 60,
     "metadata": {},
     "output_type": "execute_result"
    }
   ],
   "source": [
    "grid2.fit(X_train_scaler_mc_2, y_train_mc_2)"
   ]
  },
  {
   "cell_type": "code",
   "execution_count": 61,
   "id": "54ca712b",
   "metadata": {},
   "outputs": [
    {
     "data": {
      "text/html": [
       "<div>\n",
       "<style scoped>\n",
       "    .dataframe tbody tr th:only-of-type {\n",
       "        vertical-align: middle;\n",
       "    }\n",
       "\n",
       "    .dataframe tbody tr th {\n",
       "        vertical-align: top;\n",
       "    }\n",
       "\n",
       "    .dataframe thead th {\n",
       "        text-align: right;\n",
       "    }\n",
       "</style>\n",
       "<table border=\"1\" class=\"dataframe\">\n",
       "  <thead>\n",
       "    <tr style=\"text-align: right;\">\n",
       "      <th></th>\n",
       "      <th>mean_fit_time</th>\n",
       "      <th>std_fit_time</th>\n",
       "      <th>mean_score_time</th>\n",
       "      <th>std_score_time</th>\n",
       "      <th>param_n_neighbors</th>\n",
       "      <th>param_weights</th>\n",
       "      <th>params</th>\n",
       "      <th>split0_test_score</th>\n",
       "      <th>split1_test_score</th>\n",
       "      <th>split2_test_score</th>\n",
       "      <th>split3_test_score</th>\n",
       "      <th>split4_test_score</th>\n",
       "      <th>split5_test_score</th>\n",
       "      <th>split6_test_score</th>\n",
       "      <th>split7_test_score</th>\n",
       "      <th>split8_test_score</th>\n",
       "      <th>split9_test_score</th>\n",
       "      <th>mean_test_score</th>\n",
       "      <th>std_test_score</th>\n",
       "      <th>rank_test_score</th>\n",
       "    </tr>\n",
       "  </thead>\n",
       "  <tbody>\n",
       "    <tr>\n",
       "      <th>0</th>\n",
       "      <td>0.010239</td>\n",
       "      <td>0.003233</td>\n",
       "      <td>0.019898</td>\n",
       "      <td>0.000685</td>\n",
       "      <td>1</td>\n",
       "      <td>uniform</td>\n",
       "      <td>{'n_neighbors': 1, 'weights': 'uniform'}</td>\n",
       "      <td>0.996610</td>\n",
       "      <td>0.991525</td>\n",
       "      <td>0.996610</td>\n",
       "      <td>0.993220</td>\n",
       "      <td>0.994915</td>\n",
       "      <td>0.996604</td>\n",
       "      <td>0.998302</td>\n",
       "      <td>0.996604</td>\n",
       "      <td>0.998302</td>\n",
       "      <td>0.998302</td>\n",
       "      <td>0.996100</td>\n",
       "      <td>0.002149</td>\n",
       "      <td>1</td>\n",
       "    </tr>\n",
       "    <tr>\n",
       "      <th>1</th>\n",
       "      <td>0.009147</td>\n",
       "      <td>0.004582</td>\n",
       "      <td>0.003602</td>\n",
       "      <td>0.004345</td>\n",
       "      <td>1</td>\n",
       "      <td>distance</td>\n",
       "      <td>{'n_neighbors': 1, 'weights': 'distance'}</td>\n",
       "      <td>0.996610</td>\n",
       "      <td>0.991525</td>\n",
       "      <td>0.996610</td>\n",
       "      <td>0.993220</td>\n",
       "      <td>0.994915</td>\n",
       "      <td>0.996604</td>\n",
       "      <td>0.998302</td>\n",
       "      <td>0.996604</td>\n",
       "      <td>0.998302</td>\n",
       "      <td>0.998302</td>\n",
       "      <td>0.996100</td>\n",
       "      <td>0.002149</td>\n",
       "      <td>1</td>\n",
       "    </tr>\n",
       "    <tr>\n",
       "      <th>2</th>\n",
       "      <td>0.013370</td>\n",
       "      <td>0.007287</td>\n",
       "      <td>0.030725</td>\n",
       "      <td>0.010942</td>\n",
       "      <td>2</td>\n",
       "      <td>uniform</td>\n",
       "      <td>{'n_neighbors': 2, 'weights': 'uniform'}</td>\n",
       "      <td>0.993220</td>\n",
       "      <td>0.991525</td>\n",
       "      <td>0.996610</td>\n",
       "      <td>0.991525</td>\n",
       "      <td>0.993220</td>\n",
       "      <td>0.996604</td>\n",
       "      <td>0.996604</td>\n",
       "      <td>0.996604</td>\n",
       "      <td>0.996604</td>\n",
       "      <td>0.998302</td>\n",
       "      <td>0.995082</td>\n",
       "      <td>0.002328</td>\n",
       "      <td>4</td>\n",
       "    </tr>\n",
       "    <tr>\n",
       "      <th>3</th>\n",
       "      <td>0.010470</td>\n",
       "      <td>0.003316</td>\n",
       "      <td>0.005292</td>\n",
       "      <td>0.001795</td>\n",
       "      <td>2</td>\n",
       "      <td>distance</td>\n",
       "      <td>{'n_neighbors': 2, 'weights': 'distance'}</td>\n",
       "      <td>0.996610</td>\n",
       "      <td>0.991525</td>\n",
       "      <td>0.996610</td>\n",
       "      <td>0.993220</td>\n",
       "      <td>0.994915</td>\n",
       "      <td>0.996604</td>\n",
       "      <td>0.998302</td>\n",
       "      <td>0.996604</td>\n",
       "      <td>0.998302</td>\n",
       "      <td>0.998302</td>\n",
       "      <td>0.996100</td>\n",
       "      <td>0.002149</td>\n",
       "      <td>1</td>\n",
       "    </tr>\n",
       "    <tr>\n",
       "      <th>4</th>\n",
       "      <td>0.012534</td>\n",
       "      <td>0.004021</td>\n",
       "      <td>0.029745</td>\n",
       "      <td>0.006635</td>\n",
       "      <td>3</td>\n",
       "      <td>uniform</td>\n",
       "      <td>{'n_neighbors': 3, 'weights': 'uniform'}</td>\n",
       "      <td>0.991525</td>\n",
       "      <td>0.991525</td>\n",
       "      <td>0.994915</td>\n",
       "      <td>0.986441</td>\n",
       "      <td>0.988136</td>\n",
       "      <td>0.994907</td>\n",
       "      <td>0.996604</td>\n",
       "      <td>0.993209</td>\n",
       "      <td>0.994907</td>\n",
       "      <td>0.993209</td>\n",
       "      <td>0.992538</td>\n",
       "      <td>0.003048</td>\n",
       "      <td>7</td>\n",
       "    </tr>\n",
       "  </tbody>\n",
       "</table>\n",
       "</div>"
      ],
      "text/plain": [
       "   mean_fit_time  std_fit_time  mean_score_time  std_score_time  \\\n",
       "0       0.010239      0.003233         0.019898        0.000685   \n",
       "1       0.009147      0.004582         0.003602        0.004345   \n",
       "2       0.013370      0.007287         0.030725        0.010942   \n",
       "3       0.010470      0.003316         0.005292        0.001795   \n",
       "4       0.012534      0.004021         0.029745        0.006635   \n",
       "\n",
       "  param_n_neighbors param_weights                                     params  \\\n",
       "0                 1       uniform   {'n_neighbors': 1, 'weights': 'uniform'}   \n",
       "1                 1      distance  {'n_neighbors': 1, 'weights': 'distance'}   \n",
       "2                 2       uniform   {'n_neighbors': 2, 'weights': 'uniform'}   \n",
       "3                 2      distance  {'n_neighbors': 2, 'weights': 'distance'}   \n",
       "4                 3       uniform   {'n_neighbors': 3, 'weights': 'uniform'}   \n",
       "\n",
       "   split0_test_score  split1_test_score  split2_test_score  split3_test_score  \\\n",
       "0           0.996610           0.991525           0.996610           0.993220   \n",
       "1           0.996610           0.991525           0.996610           0.993220   \n",
       "2           0.993220           0.991525           0.996610           0.991525   \n",
       "3           0.996610           0.991525           0.996610           0.993220   \n",
       "4           0.991525           0.991525           0.994915           0.986441   \n",
       "\n",
       "   split4_test_score  split5_test_score  split6_test_score  split7_test_score  \\\n",
       "0           0.994915           0.996604           0.998302           0.996604   \n",
       "1           0.994915           0.996604           0.998302           0.996604   \n",
       "2           0.993220           0.996604           0.996604           0.996604   \n",
       "3           0.994915           0.996604           0.998302           0.996604   \n",
       "4           0.988136           0.994907           0.996604           0.993209   \n",
       "\n",
       "   split8_test_score  split9_test_score  mean_test_score  std_test_score  \\\n",
       "0           0.998302           0.998302         0.996100        0.002149   \n",
       "1           0.998302           0.998302         0.996100        0.002149   \n",
       "2           0.996604           0.998302         0.995082        0.002328   \n",
       "3           0.998302           0.998302         0.996100        0.002149   \n",
       "4           0.994907           0.993209         0.992538        0.003048   \n",
       "\n",
       "   rank_test_score  \n",
       "0                1  \n",
       "1                1  \n",
       "2                4  \n",
       "3                1  \n",
       "4                7  "
      ]
     },
     "execution_count": 61,
     "metadata": {},
     "output_type": "execute_result"
    }
   ],
   "source": [
    "pd.DataFrame(grid2.cv_results_).head()"
   ]
  },
  {
   "cell_type": "code",
   "execution_count": 62,
   "id": "b191396b",
   "metadata": {},
   "outputs": [
    {
     "data": {
      "text/plain": [
       "KNeighborsClassifier(n_neighbors=1)"
      ]
     },
     "execution_count": 62,
     "metadata": {},
     "output_type": "execute_result"
    }
   ],
   "source": [
    "grid2.best_estimator_"
   ]
  },
  {
   "cell_type": "code",
   "execution_count": 63,
   "id": "208be9d2",
   "metadata": {},
   "outputs": [
    {
     "data": {
      "text/plain": [
       "0.9960996805847312"
      ]
     },
     "execution_count": 63,
     "metadata": {},
     "output_type": "execute_result"
    }
   ],
   "source": [
    "grid2.best_score_"
   ]
  },
  {
   "cell_type": "code",
   "execution_count": 64,
   "id": "b4a86b57",
   "metadata": {},
   "outputs": [
    {
     "data": {
      "text/plain": [
       "{'n_neighbors': 1, 'weights': 'uniform'}"
      ]
     },
     "execution_count": 64,
     "metadata": {},
     "output_type": "execute_result"
    }
   ],
   "source": [
    "grid2.best_params_"
   ]
  },
  {
   "cell_type": "code",
   "execution_count": 65,
   "id": "4b9cfc8c",
   "metadata": {},
   "outputs": [],
   "source": [
    "y_pred_grid2 = grid2.predict(X_test_scaler_mc_2)"
   ]
  },
  {
   "cell_type": "code",
   "execution_count": 66,
   "id": "045de7c7",
   "metadata": {},
   "outputs": [
    {
     "name": "stdout",
     "output_type": "stream",
     "text": [
      "                               precision    recall  f1-score   support\n",
      "\n",
      "                     No Falla       1.00      1.00      1.00       592\n",
      "  Falla entre fase A y fase B       1.00      1.00      1.00       251\n",
      "                  Falla Total       1.00      1.00      1.00       557\n",
      "  Falla entre fase A y tierra       0.97      1.00      0.99       282\n",
      "Falla entre fase A,B y tierra       1.00      0.97      0.99       284\n",
      "\n",
      "                     accuracy                           1.00      1966\n",
      "                    macro avg       0.99      0.99      0.99      1966\n",
      "                 weighted avg       1.00      1.00      1.00      1966\n",
      "\n"
     ]
    }
   ],
   "source": [
    "target_names = ['No Falla','Falla entre fase A y fase B','Falla Total',\n",
    "                'Falla entre fase A y tierra','Falla entre fase A,B y tierra']\n",
    "print(classification_report(y_test_mc_2, y_pred_grid2,target_names=target_names))"
   ]
  },
  {
   "cell_type": "code",
   "execution_count": 67,
   "id": "b9ea79ab",
   "metadata": {},
   "outputs": [
    {
     "data": {
      "text/plain": [
       "<AxesSubplot:>"
      ]
     },
     "execution_count": 67,
     "metadata": {},
     "output_type": "execute_result"
    },
    {
     "data": {
      "image/png": "[encoded data removed]",
      "text/plain": [
       "<Figure size 432x288 with 2 Axes>"
      ]
     },
     "metadata": {
      "needs_background": "light"
     },
     "output_type": "display_data"
    }
   ],
   "source": [
    "confusion = confusion_matrix(y_test_mc_2, y_pred_grid2)\n",
    "sns.heatmap(confusion, annot=True,fmt='d')"
   ]
  },
  {
   "cell_type": "markdown",
   "id": "b1e2bed8-011d-4324-9cf6-dfa9cc3ed409",
   "metadata": {},
   "source": [
    "Se puede observar que el algoritmo performa muy bien para el caso multiclass con unificación de fallas. Sin embargo, es interesante que el mejor K sea igual a 1. Se asume que esto puede deberse a que las clases están muy bien separadas o bien, la cantidad de características son pocas, lo que obliga al algoritmo a complejizarse para obtener mejores valores."
   ]
  }
 ],
 "metadata": {
  "kernelspec": {
   "display_name": "Python 3",
   "language": "python",
   "name": "python3"
  },
  "language_info": {
   "codemirror_mode": {
    "name": "ipython",
    "version": 3
   },
   "file_extension": ".py",
   "mimetype": "text/x-python",
   "name": "python",
   "nbconvert_exporter": "python",
   "pygments_lexer": "ipython3",
   "version": "3.8.5"
  }
 },
 "nbformat": 4,
 "nbformat_minor": 5
}
